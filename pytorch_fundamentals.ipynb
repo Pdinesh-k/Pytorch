{
  "nbformat": 4,
  "nbformat_minor": 0,
  "metadata": {
    "colab": {
      "provenance": []
    },
    "kernelspec": {
      "name": "python3",
      "display_name": "Python 3"
    },
    "language_info": {
      "name": "python"
    }
  },
  "cells": [
    {
      "cell_type": "code",
      "source": [
        "import torch\n",
        "import pandas as pd\n",
        "import numpy as np\n",
        "import matplotlib.pyplot as plt\n",
        "import plotly.express as px"
      ],
      "metadata": {
        "id": "JXdVZli3Dkqr"
      },
      "execution_count": 1,
      "outputs": []
    },
    {
      "cell_type": "markdown",
      "source": [
        "#Introduction to tensors"
      ],
      "metadata": {
        "id": "xuuGyvJnEcZZ"
      }
    },
    {
      "cell_type": "markdown",
      "source": [
        "Creating tensors"
      ],
      "metadata": {
        "id": "14THqpVCF5lU"
      }
    },
    {
      "cell_type": "code",
      "source": [
        "#Scalar\n",
        "scalar = torch.tensor(7)\n",
        "scalar"
      ],
      "metadata": {
        "colab": {
          "base_uri": "https://localhost:8080/"
        },
        "id": "L3lfmT-_F4pS",
        "outputId": "ab216f86-28d9-4470-e5cb-23966d2091c0"
      },
      "execution_count": 2,
      "outputs": [
        {
          "output_type": "execute_result",
          "data": {
            "text/plain": [
              "tensor(7)"
            ]
          },
          "metadata": {},
          "execution_count": 2
        }
      ]
    },
    {
      "cell_type": "code",
      "source": [
        "#Get the tensor back to int\n",
        "scalar.item()"
      ],
      "metadata": {
        "colab": {
          "base_uri": "https://localhost:8080/"
        },
        "id": "JAYLtt4MO_-i",
        "outputId": "fb8709c6-bc8b-4f55-e986-b5c931d7b51f"
      },
      "execution_count": 3,
      "outputs": [
        {
          "output_type": "execute_result",
          "data": {
            "text/plain": [
              "7"
            ]
          },
          "metadata": {},
          "execution_count": 3
        }
      ]
    },
    {
      "cell_type": "code",
      "source": [
        "#Vector\n",
        "vector = torch.tensor([7,7])\n",
        "vector"
      ],
      "metadata": {
        "colab": {
          "base_uri": "https://localhost:8080/"
        },
        "id": "aafFZb_COaH5",
        "outputId": "0f5f25d4-d123-4bed-cf71-0bdc4b16a462"
      },
      "execution_count": 4,
      "outputs": [
        {
          "output_type": "execute_result",
          "data": {
            "text/plain": [
              "tensor([7, 7])"
            ]
          },
          "metadata": {},
          "execution_count": 4
        }
      ]
    },
    {
      "cell_type": "code",
      "source": [
        "vector.ndim"
      ],
      "metadata": {
        "colab": {
          "base_uri": "https://localhost:8080/"
        },
        "id": "0gufxfvGOiMJ",
        "outputId": "baa35317-9f17-4cbb-bdc2-aae629a7897d"
      },
      "execution_count": 5,
      "outputs": [
        {
          "output_type": "execute_result",
          "data": {
            "text/plain": [
              "1"
            ]
          },
          "metadata": {},
          "execution_count": 5
        }
      ]
    },
    {
      "cell_type": "code",
      "source": [
        "vector.shape"
      ],
      "metadata": {
        "colab": {
          "base_uri": "https://localhost:8080/"
        },
        "id": "OcoiTJcKOmki",
        "outputId": "6eca7cd1-86aa-4764-c8ec-c552f0c8bac9"
      },
      "execution_count": 6,
      "outputs": [
        {
          "output_type": "execute_result",
          "data": {
            "text/plain": [
              "torch.Size([2])"
            ]
          },
          "metadata": {},
          "execution_count": 6
        }
      ]
    },
    {
      "cell_type": "code",
      "source": [
        "#Matrix\n",
        "\n",
        "MATRIX = torch.tensor([[5,1],\n",
        "                        [8,1]])\n",
        "MATRIX"
      ],
      "metadata": {
        "colab": {
          "base_uri": "https://localhost:8080/"
        },
        "id": "AuVKGC4lOqDv",
        "outputId": "4e870299-37df-4497-83d1-b3b704d52745"
      },
      "execution_count": 7,
      "outputs": [
        {
          "output_type": "execute_result",
          "data": {
            "text/plain": [
              "tensor([[5, 1],\n",
              "        [8, 1]])"
            ]
          },
          "metadata": {},
          "execution_count": 7
        }
      ]
    },
    {
      "cell_type": "code",
      "source": [
        "MATRIX.shape"
      ],
      "metadata": {
        "colab": {
          "base_uri": "https://localhost:8080/"
        },
        "id": "OSVjiKW6P2t0",
        "outputId": "c4217b88-3c54-40fe-84bb-7f4edce05d3a"
      },
      "execution_count": 8,
      "outputs": [
        {
          "output_type": "execute_result",
          "data": {
            "text/plain": [
              "torch.Size([2, 2])"
            ]
          },
          "metadata": {},
          "execution_count": 8
        }
      ]
    },
    {
      "cell_type": "code",
      "source": [
        "MATRIX.ndim"
      ],
      "metadata": {
        "colab": {
          "base_uri": "https://localhost:8080/"
        },
        "id": "B4ZA20htP-MS",
        "outputId": "b4b4db48-893a-4efb-9789-2a48dd6fb4c4"
      },
      "execution_count": 9,
      "outputs": [
        {
          "output_type": "execute_result",
          "data": {
            "text/plain": [
              "2"
            ]
          },
          "metadata": {},
          "execution_count": 9
        }
      ]
    },
    {
      "cell_type": "code",
      "source": [
        "#TENSOR\n",
        "TENSOR = torch.tensor([[[1,2,3],\n",
        "                        [4,5,6],\n",
        "                        [7,8,9]]])\n",
        "TENSOR"
      ],
      "metadata": {
        "colab": {
          "base_uri": "https://localhost:8080/"
        },
        "id": "UpQ_WIbNQDij",
        "outputId": "7f208af8-9ecd-4705-bae9-7f788dfaabd7"
      },
      "execution_count": 10,
      "outputs": [
        {
          "output_type": "execute_result",
          "data": {
            "text/plain": [
              "tensor([[[1, 2, 3],\n",
              "         [4, 5, 6],\n",
              "         [7, 8, 9]]])"
            ]
          },
          "metadata": {},
          "execution_count": 10
        }
      ]
    },
    {
      "cell_type": "code",
      "source": [
        "TENSOR.shape"
      ],
      "metadata": {
        "colab": {
          "base_uri": "https://localhost:8080/"
        },
        "id": "5w4GUansQXji",
        "outputId": "41e8efc5-1d17-4330-91b2-1bc9bafcb18f"
      },
      "execution_count": 11,
      "outputs": [
        {
          "output_type": "execute_result",
          "data": {
            "text/plain": [
              "torch.Size([1, 3, 3])"
            ]
          },
          "metadata": {},
          "execution_count": 11
        }
      ]
    },
    {
      "cell_type": "code",
      "source": [
        "TENSOR.ndim"
      ],
      "metadata": {
        "colab": {
          "base_uri": "https://localhost:8080/"
        },
        "id": "daySen6KQZ84",
        "outputId": "e78e1bb6-5514-4524-ddd1-61cd0673cba8"
      },
      "execution_count": 12,
      "outputs": [
        {
          "output_type": "execute_result",
          "data": {
            "text/plain": [
              "3"
            ]
          },
          "metadata": {},
          "execution_count": 12
        }
      ]
    },
    {
      "cell_type": "code",
      "source": [
        "TENSOR1 = torch.tensor([[[[1,2,3,4],\n",
        "                          [5,6,7,8],\n",
        "                          [9,10,11,12],\n",
        "                          [13,14,15,16]]]])"
      ],
      "metadata": {
        "id": "fBHTZk1cQbrM"
      },
      "execution_count": 13,
      "outputs": []
    },
    {
      "cell_type": "code",
      "source": [
        "TENSOR1.shape"
      ],
      "metadata": {
        "colab": {
          "base_uri": "https://localhost:8080/"
        },
        "id": "kBk-eSQHSNLS",
        "outputId": "139fc75e-7d89-4078-f950-7988ae8bddc8"
      },
      "execution_count": 14,
      "outputs": [
        {
          "output_type": "execute_result",
          "data": {
            "text/plain": [
              "torch.Size([1, 1, 4, 4])"
            ]
          },
          "metadata": {},
          "execution_count": 14
        }
      ]
    },
    {
      "cell_type": "markdown",
      "source": [
        "#RANDOM TENSORS"
      ],
      "metadata": {
        "id": "XsLCibYnSQRh"
      }
    },
    {
      "cell_type": "markdown",
      "source": [
        "Random tensors are important because the way many neural networks learn is that they start with full of random numbers and then adjust the random numbers to better represent the data"
      ],
      "metadata": {
        "id": "K-WPlgpnTeKR"
      }
    },
    {
      "cell_type": "markdown",
      "source": [
        "Start with random numbers -> look at data -> update random numbers -> look at data -> update random numbers"
      ],
      "metadata": {
        "id": "-aEqZJ9UTu_z"
      }
    },
    {
      "cell_type": "code",
      "source": [
        "#create a random tensor of size (3,4)\n",
        "random_tensor = torch.rand(3,4)\n",
        "random_tensor"
      ],
      "metadata": {
        "colab": {
          "base_uri": "https://localhost:8080/"
        },
        "id": "4ms4QZW-TNKC",
        "outputId": "e82d0851-3de5-4b45-fff6-4847a3cf7a0a"
      },
      "execution_count": 15,
      "outputs": [
        {
          "output_type": "execute_result",
          "data": {
            "text/plain": [
              "tensor([[0.2608, 0.1948, 0.0604, 0.5929],\n",
              "        [0.1215, 0.3596, 0.0974, 0.9202],\n",
              "        [0.3620, 0.3287, 0.5092, 0.0797]])"
            ]
          },
          "metadata": {},
          "execution_count": 15
        }
      ]
    },
    {
      "cell_type": "code",
      "source": [
        "#create a random tensor with similar to an image tensor\n",
        "random_image_size_tensor = torch.rand(size=(224,224,3)) #height #width #color channels\n",
        "random_image_size_tensor"
      ],
      "metadata": {
        "colab": {
          "base_uri": "https://localhost:8080/"
        },
        "id": "mqoar-4rUan4",
        "outputId": "aab438a5-9220-4173-98c7-f520c072d395"
      },
      "execution_count": 16,
      "outputs": [
        {
          "output_type": "execute_result",
          "data": {
            "text/plain": [
              "tensor([[[0.4855, 0.5701, 0.5999],\n",
              "         [0.9465, 0.6320, 0.1165],\n",
              "         [0.5953, 0.3896, 0.8593],\n",
              "         ...,\n",
              "         [0.9815, 0.6082, 0.1542],\n",
              "         [0.7064, 0.6762, 0.2301],\n",
              "         [0.7602, 0.2899, 0.0316]],\n",
              "\n",
              "        [[0.9384, 0.8991, 0.9804],\n",
              "         [0.2863, 0.9491, 0.8833],\n",
              "         [0.1727, 0.6890, 0.0752],\n",
              "         ...,\n",
              "         [0.8295, 0.8181, 0.2289],\n",
              "         [0.8782, 0.6362, 0.6932],\n",
              "         [0.3513, 0.9404, 0.9057]],\n",
              "\n",
              "        [[0.3323, 0.4807, 0.5864],\n",
              "         [0.9293, 0.6432, 0.6658],\n",
              "         [0.7944, 0.8943, 0.5537],\n",
              "         ...,\n",
              "         [0.8531, 0.2399, 0.1432],\n",
              "         [0.8361, 0.2549, 0.2272],\n",
              "         [0.5199, 0.4553, 0.4240]],\n",
              "\n",
              "        ...,\n",
              "\n",
              "        [[0.9018, 0.4681, 0.7891],\n",
              "         [0.7294, 0.3253, 0.4420],\n",
              "         [0.8644, 0.0542, 0.2930],\n",
              "         ...,\n",
              "         [0.7734, 0.5037, 0.5968],\n",
              "         [0.2753, 0.1434, 0.5191],\n",
              "         [0.7126, 0.5850, 0.8809]],\n",
              "\n",
              "        [[0.9334, 0.5263, 0.1638],\n",
              "         [0.2115, 0.8754, 0.1854],\n",
              "         [0.3819, 0.6554, 0.3504],\n",
              "         ...,\n",
              "         [0.2982, 0.0660, 0.3300],\n",
              "         [0.7896, 0.2058, 0.2052],\n",
              "         [0.8029, 0.3315, 0.6763]],\n",
              "\n",
              "        [[0.1961, 0.4244, 0.7819],\n",
              "         [0.0716, 0.4449, 0.2011],\n",
              "         [0.8408, 0.2175, 0.6426],\n",
              "         ...,\n",
              "         [0.8884, 0.3590, 0.8989],\n",
              "         [0.5642, 0.2078, 0.5648],\n",
              "         [0.1758, 0.3030, 0.9893]]])"
            ]
          },
          "metadata": {},
          "execution_count": 16
        }
      ]
    },
    {
      "cell_type": "code",
      "source": [
        "random_image_size_tensor.shape , random_image_size_tensor.ndim"
      ],
      "metadata": {
        "colab": {
          "base_uri": "https://localhost:8080/"
        },
        "id": "KTnmQ5_sVw0S",
        "outputId": "fd5d75ef-3084-4907-ec93-57a9aa987b72"
      },
      "execution_count": 17,
      "outputs": [
        {
          "output_type": "execute_result",
          "data": {
            "text/plain": [
              "(torch.Size([224, 224, 3]), 3)"
            ]
          },
          "metadata": {},
          "execution_count": 17
        }
      ]
    },
    {
      "cell_type": "code",
      "source": [],
      "metadata": {
        "id": "oHrAptb1WLf2"
      },
      "execution_count": 17,
      "outputs": []
    },
    {
      "cell_type": "markdown",
      "source": [
        "Zeros and ones"
      ],
      "metadata": {
        "id": "3_eshasbW3jU"
      }
    },
    {
      "cell_type": "code",
      "source": [
        "zeros = torch.zeros(2,2)\n",
        "zeros"
      ],
      "metadata": {
        "colab": {
          "base_uri": "https://localhost:8080/"
        },
        "id": "mk0MzgwaW5hS",
        "outputId": "62f5a7e9-daa7-4dca-a30f-ee1b7acf074d"
      },
      "execution_count": 18,
      "outputs": [
        {
          "output_type": "execute_result",
          "data": {
            "text/plain": [
              "tensor([[0., 0.],\n",
              "        [0., 0.]])"
            ]
          },
          "metadata": {},
          "execution_count": 18
        }
      ]
    },
    {
      "cell_type": "code",
      "source": [
        "ones = torch.ones(3,3)\n",
        "ones"
      ],
      "metadata": {
        "colab": {
          "base_uri": "https://localhost:8080/"
        },
        "id": "Mq1ztWfGXFcm",
        "outputId": "9fa5a156-b1d7-4773-8729-6f9bbfca096b"
      },
      "execution_count": 19,
      "outputs": [
        {
          "output_type": "execute_result",
          "data": {
            "text/plain": [
              "tensor([[1., 1., 1.],\n",
              "        [1., 1., 1.],\n",
              "        [1., 1., 1.]])"
            ]
          },
          "metadata": {},
          "execution_count": 19
        }
      ]
    },
    {
      "cell_type": "code",
      "source": [],
      "metadata": {
        "id": "9mD6XJa_XO5Y"
      },
      "execution_count": 19,
      "outputs": []
    },
    {
      "cell_type": "markdown",
      "source": [
        "Creating a range of tensors and tensor-s like"
      ],
      "metadata": {
        "id": "jr6HsLi4ZHqs"
      }
    },
    {
      "cell_type": "code",
      "source": [
        "range = torch.range(0,10)\n",
        "range"
      ],
      "metadata": {
        "colab": {
          "base_uri": "https://localhost:8080/"
        },
        "id": "6S4L1QpYZM5R",
        "outputId": "6c748f99-2727-4a68-b316-054b61086d24"
      },
      "execution_count": 20,
      "outputs": [
        {
          "output_type": "stream",
          "name": "stderr",
          "text": [
            "<ipython-input-20-91a60021e470>:1: UserWarning: torch.range is deprecated and will be removed in a future release because its behavior is inconsistent with Python's range builtin. Instead, use torch.arange, which produces values in [start, end).\n",
            "  range = torch.range(0,10)\n"
          ]
        },
        {
          "output_type": "execute_result",
          "data": {
            "text/plain": [
              "tensor([ 0.,  1.,  2.,  3.,  4.,  5.,  6.,  7.,  8.,  9., 10.])"
            ]
          },
          "metadata": {},
          "execution_count": 20
        }
      ]
    },
    {
      "cell_type": "code",
      "source": [
        "range = torch.arange(0,10)\n",
        "range"
      ],
      "metadata": {
        "colab": {
          "base_uri": "https://localhost:8080/"
        },
        "id": "24o2FugPZRkO",
        "outputId": "a14be580-a838-4350-9f73-5afdf903d9be"
      },
      "execution_count": 21,
      "outputs": [
        {
          "output_type": "execute_result",
          "data": {
            "text/plain": [
              "tensor([0, 1, 2, 3, 4, 5, 6, 7, 8, 9])"
            ]
          },
          "metadata": {},
          "execution_count": 21
        }
      ]
    },
    {
      "cell_type": "code",
      "source": [
        "step_value = torch.arange(0,10,2)\n",
        "step_value"
      ],
      "metadata": {
        "colab": {
          "base_uri": "https://localhost:8080/"
        },
        "id": "IkDAgOEMZitQ",
        "outputId": "57b5784f-78af-4814-aa63-d1154fa19b76"
      },
      "execution_count": 22,
      "outputs": [
        {
          "output_type": "execute_result",
          "data": {
            "text/plain": [
              "tensor([0, 2, 4, 6, 8])"
            ]
          },
          "metadata": {},
          "execution_count": 22
        }
      ]
    },
    {
      "cell_type": "code",
      "source": [],
      "metadata": {
        "id": "XKVdhilxZ46B"
      },
      "execution_count": 22,
      "outputs": []
    },
    {
      "cell_type": "markdown",
      "source": [
        "#Tensor datatypes"
      ],
      "metadata": {
        "id": "eXhWmK_RayHh"
      }
    },
    {
      "cell_type": "code",
      "source": [
        "#float32 Tensor\n",
        "float_32_tensor = torch.tensor([1.0,2.0,3.0])\n",
        "float_32_tensor"
      ],
      "metadata": {
        "colab": {
          "base_uri": "https://localhost:8080/"
        },
        "id": "snYeIPgMa0lx",
        "outputId": "28a477dc-cf68-46fd-aefe-b4f22dab6e03"
      },
      "execution_count": 23,
      "outputs": [
        {
          "output_type": "execute_result",
          "data": {
            "text/plain": [
              "tensor([1., 2., 3.])"
            ]
          },
          "metadata": {},
          "execution_count": 23
        }
      ]
    },
    {
      "cell_type": "code",
      "source": [
        "float_32_tensor.dtype"
      ],
      "metadata": {
        "colab": {
          "base_uri": "https://localhost:8080/"
        },
        "id": "Fcl2dteBbPAn",
        "outputId": "e1d35083-8549-4f6c-cf3d-8110b17ce042"
      },
      "execution_count": 24,
      "outputs": [
        {
          "output_type": "execute_result",
          "data": {
            "text/plain": [
              "torch.float32"
            ]
          },
          "metadata": {},
          "execution_count": 24
        }
      ]
    },
    {
      "cell_type": "code",
      "source": [
        "#conversion of float32 to float16\n",
        "float_16_tensor = float_32_tensor.type(torch.float16)\n",
        "float_16_tensor"
      ],
      "metadata": {
        "colab": {
          "base_uri": "https://localhost:8080/"
        },
        "id": "bwJEUD6IbSNx",
        "outputId": "9758e79b-8881-48c3-a113-1d6b490785e9"
      },
      "execution_count": 25,
      "outputs": [
        {
          "output_type": "execute_result",
          "data": {
            "text/plain": [
              "tensor([1., 2., 3.], dtype=torch.float16)"
            ]
          },
          "metadata": {},
          "execution_count": 25
        }
      ]
    },
    {
      "cell_type": "code",
      "source": [
        "#int datatype\n",
        "int_32_tensor = torch.tensor([1,2,3],dtype=torch.int32)\n",
        "int_32_tensor"
      ],
      "metadata": {
        "id": "9ApfBytRdOp3",
        "colab": {
          "base_uri": "https://localhost:8080/"
        },
        "outputId": "cadd0037-d0c1-4106-9d51-fae39e1eaf06"
      },
      "execution_count": 26,
      "outputs": [
        {
          "output_type": "execute_result",
          "data": {
            "text/plain": [
              "tensor([1, 2, 3], dtype=torch.int32)"
            ]
          },
          "metadata": {},
          "execution_count": 26
        }
      ]
    },
    {
      "cell_type": "code",
      "source": [
        "float_tensor__int_tensor = float_32_tensor*int_32_tensor\n",
        "float_tensor__int_tensor"
      ],
      "metadata": {
        "colab": {
          "base_uri": "https://localhost:8080/"
        },
        "id": "WmfCE943I3Ge",
        "outputId": "b872cabd-0056-474f-a7cf-aaaf5428b3cb"
      },
      "execution_count": 27,
      "outputs": [
        {
          "output_type": "execute_result",
          "data": {
            "text/plain": [
              "tensor([1., 4., 9.])"
            ]
          },
          "metadata": {},
          "execution_count": 27
        }
      ]
    },
    {
      "cell_type": "code",
      "source": [
        "float_tensor__int_tensor.shape"
      ],
      "metadata": {
        "colab": {
          "base_uri": "https://localhost:8080/"
        },
        "id": "itz-0UK9JQJ0",
        "outputId": "cb56bd02-abb9-4211-9188-123718283b99"
      },
      "execution_count": 28,
      "outputs": [
        {
          "output_type": "execute_result",
          "data": {
            "text/plain": [
              "torch.Size([3])"
            ]
          },
          "metadata": {},
          "execution_count": 28
        }
      ]
    },
    {
      "cell_type": "code",
      "source": [
        "float_tensor__int_tensor.device"
      ],
      "metadata": {
        "colab": {
          "base_uri": "https://localhost:8080/"
        },
        "id": "D_lgDLxqKOB6",
        "outputId": "8084d9f8-e767-4672-c712-44eb61c2ff4f"
      },
      "execution_count": 29,
      "outputs": [
        {
          "output_type": "execute_result",
          "data": {
            "text/plain": [
              "device(type='cpu')"
            ]
          },
          "metadata": {},
          "execution_count": 29
        }
      ]
    },
    {
      "cell_type": "code",
      "source": [
        "some_tensor = torch.rand([5,4])\n",
        "print(some_tensor)\n",
        "print(f\"The shape of the some_tensor: {some_tensor.shape}\")\n",
        "print(f\"The device which is operating some_tensor: {some_tensor.device}\")\n",
        "print(f\"The ndim of the some_tensor: {some_tensor.ndim}\")\n",
        "print(f\"The dtype of the some_tensor : {some_tensor.dtype}\")"
      ],
      "metadata": {
        "colab": {
          "base_uri": "https://localhost:8080/"
        },
        "id": "rRwhWFf-KZmx",
        "outputId": "3c269466-717c-441c-9a21-86b9f9ba800c"
      },
      "execution_count": 30,
      "outputs": [
        {
          "output_type": "stream",
          "name": "stdout",
          "text": [
            "tensor([[0.2251, 0.3644, 0.3627, 0.0699],\n",
            "        [0.5052, 0.5258, 0.4280, 0.8218],\n",
            "        [0.8844, 0.7372, 0.5021, 0.2003],\n",
            "        [0.2432, 0.7384, 0.6183, 0.4004],\n",
            "        [0.2507, 0.9016, 0.1670, 0.6086]])\n",
            "The shape of the some_tensor: torch.Size([5, 4])\n",
            "The device which is operating some_tensor: cpu\n",
            "The ndim of the some_tensor: 2\n",
            "The dtype of the some_tensor : torch.float32\n"
          ]
        }
      ]
    },
    {
      "cell_type": "code",
      "source": [],
      "metadata": {
        "id": "1dO6lCdELrg-"
      },
      "execution_count": 30,
      "outputs": []
    },
    {
      "cell_type": "markdown",
      "source": [
        "#Manipulating tensors"
      ],
      "metadata": {
        "id": "hweYl56HMpov"
      }
    },
    {
      "cell_type": "markdown",
      "source": [
        "Tensor operations include :\n",
        "* Addition\n",
        "* Multiplication\n",
        "* Division\n",
        "* Subtraction\n",
        "* Matrix multiplication"
      ],
      "metadata": {
        "id": "z9tEGUQ7NacC"
      }
    },
    {
      "cell_type": "markdown",
      "source": [
        "For manipulating tensors there are inbuilt in funcs like torch.add , torch.sub , torch.mul , torch.div"
      ],
      "metadata": {
        "id": "IHm9oRTyUH9n"
      }
    },
    {
      "cell_type": "code",
      "source": [
        "tensor_1 = torch.rand([3,4])\n",
        "tensor_2 = torch.rand([3,4])\n",
        "tensor_add = tensor_1 + tensor_2\n",
        "tensor_add"
      ],
      "metadata": {
        "colab": {
          "base_uri": "https://localhost:8080/"
        },
        "id": "Sgf3z5SfMsSl",
        "outputId": "31977333-8719-466f-c173-bc18c2dfc37f"
      },
      "execution_count": 31,
      "outputs": [
        {
          "output_type": "execute_result",
          "data": {
            "text/plain": [
              "tensor([[1.1470, 1.1662, 1.6624, 1.0771],\n",
              "        [1.3142, 0.8498, 0.9787, 1.0173],\n",
              "        [1.0337, 1.5307, 0.8941, 0.7955]])"
            ]
          },
          "metadata": {},
          "execution_count": 31
        }
      ]
    },
    {
      "cell_type": "code",
      "source": [
        "torch.add(tensor_1,tensor_2)"
      ],
      "metadata": {
        "colab": {
          "base_uri": "https://localhost:8080/"
        },
        "id": "cxzHE9VAT_mS",
        "outputId": "dca3c9c7-a132-410f-b6ff-bb83fe921c5c"
      },
      "execution_count": 32,
      "outputs": [
        {
          "output_type": "execute_result",
          "data": {
            "text/plain": [
              "tensor([[1.1470, 1.1662, 1.6624, 1.0771],\n",
              "        [1.3142, 0.8498, 0.9787, 1.0173],\n",
              "        [1.0337, 1.5307, 0.8941, 0.7955]])"
            ]
          },
          "metadata": {},
          "execution_count": 32
        }
      ]
    },
    {
      "cell_type": "code",
      "source": [
        "tensor_mul = tensor_1*tensor_2\n",
        "tensor_mul"
      ],
      "metadata": {
        "colab": {
          "base_uri": "https://localhost:8080/"
        },
        "id": "3BJIPzUsOBYc",
        "outputId": "5aa44de4-9d83-4d1d-ac90-97fa7bc9c8c3"
      },
      "execution_count": 33,
      "outputs": [
        {
          "output_type": "execute_result",
          "data": {
            "text/plain": [
              "tensor([[0.1505, 0.3320, 0.6820, 0.1848],\n",
              "        [0.3433, 0.1669, 0.2392, 0.2433],\n",
              "        [0.0384, 0.5441, 0.0642, 0.0563]])"
            ]
          },
          "metadata": {},
          "execution_count": 33
        }
      ]
    },
    {
      "cell_type": "code",
      "source": [
        "torch.mul(tensor_1,10)"
      ],
      "metadata": {
        "colab": {
          "base_uri": "https://localhost:8080/"
        },
        "id": "kufsCZrNTN4a",
        "outputId": "95721c0d-89b5-43a1-e200-47e93f0acc7f"
      },
      "execution_count": 34,
      "outputs": [
        {
          "output_type": "execute_result",
          "data": {
            "text/plain": [
              "tensor([[1.5113, 4.9381, 7.3671, 2.1419],\n",
              "        [3.5962, 5.4172, 4.7395, 3.8441],\n",
              "        [9.9509, 9.6948, 8.1535, 7.1705]])"
            ]
          },
          "metadata": {},
          "execution_count": 34
        }
      ]
    },
    {
      "cell_type": "code",
      "source": [
        "torch.mul(tensor_2,20)"
      ],
      "metadata": {
        "colab": {
          "base_uri": "https://localhost:8080/"
        },
        "id": "m5o3jfFoTj5x",
        "outputId": "fe62527b-7a58-48b6-bcdd-580164f8c255"
      },
      "execution_count": 35,
      "outputs": [
        {
          "output_type": "execute_result",
          "data": {
            "text/plain": [
              "tensor([[19.9173, 13.4475, 18.5147, 17.2575],\n",
              "        [19.0911,  6.1626, 10.0946, 12.6582],\n",
              "        [ 0.7722, 11.2236,  1.5749,  1.5691]])"
            ]
          },
          "metadata": {},
          "execution_count": 35
        }
      ]
    },
    {
      "cell_type": "code",
      "source": [
        "tensor_div = tensor_1/tensor_2\n",
        "tensor_div"
      ],
      "metadata": {
        "colab": {
          "base_uri": "https://localhost:8080/"
        },
        "id": "blTb3ZYxQKJ0",
        "outputId": "c8f9381d-140a-4cba-bd02-aa1a764e63a6"
      },
      "execution_count": 36,
      "outputs": [
        {
          "output_type": "execute_result",
          "data": {
            "text/plain": [
              "tensor([[ 0.1518,  0.7344,  0.7958,  0.2482],\n",
              "        [ 0.3767,  1.7581,  0.9390,  0.6074],\n",
              "        [25.7718,  1.7276, 10.3544,  9.1396]])"
            ]
          },
          "metadata": {},
          "execution_count": 36
        }
      ]
    },
    {
      "cell_type": "code",
      "source": [
        "torch.div(tensor_1,tensor_2)"
      ],
      "metadata": {
        "colab": {
          "base_uri": "https://localhost:8080/"
        },
        "id": "M2WgEDjuToyR",
        "outputId": "f9a97d0d-86f7-45eb-9c9c-ecb5f9d6599c"
      },
      "execution_count": 37,
      "outputs": [
        {
          "output_type": "execute_result",
          "data": {
            "text/plain": [
              "tensor([[ 0.1518,  0.7344,  0.7958,  0.2482],\n",
              "        [ 0.3767,  1.7581,  0.9390,  0.6074],\n",
              "        [25.7718,  1.7276, 10.3544,  9.1396]])"
            ]
          },
          "metadata": {},
          "execution_count": 37
        }
      ]
    },
    {
      "cell_type": "code",
      "source": [
        "tensor_sub = tensor_1-tensor_2\n",
        "tensor_sub"
      ],
      "metadata": {
        "colab": {
          "base_uri": "https://localhost:8080/"
        },
        "id": "4JEXgn3kQOnj",
        "outputId": "d8d26864-f5a6-44b6-9c5e-f08fe95b4e35"
      },
      "execution_count": 38,
      "outputs": [
        {
          "output_type": "execute_result",
          "data": {
            "text/plain": [
              "tensor([[-0.8447, -0.1786, -0.1890, -0.6487],\n",
              "        [-0.5949,  0.2336, -0.0308, -0.2485],\n",
              "        [ 0.9565,  0.4083,  0.7366,  0.6386]])"
            ]
          },
          "metadata": {},
          "execution_count": 38
        }
      ]
    },
    {
      "cell_type": "code",
      "source": [
        "torch.sub(tensor_1,tensor_2)"
      ],
      "metadata": {
        "colab": {
          "base_uri": "https://localhost:8080/"
        },
        "id": "v77-f7fVTywo",
        "outputId": "a4f2a45c-15f7-4372-a1b1-84bdb1cac490"
      },
      "execution_count": 39,
      "outputs": [
        {
          "output_type": "execute_result",
          "data": {
            "text/plain": [
              "tensor([[-0.8447, -0.1786, -0.1890, -0.6487],\n",
              "        [-0.5949,  0.2336, -0.0308, -0.2485],\n",
              "        [ 0.9565,  0.4083,  0.7366,  0.6386]])"
            ]
          },
          "metadata": {},
          "execution_count": 39
        }
      ]
    },
    {
      "cell_type": "code",
      "source": [],
      "metadata": {
        "id": "9dIJVltpQUkk"
      },
      "execution_count": 39,
      "outputs": []
    },
    {
      "cell_type": "markdown",
      "source": [
        "There are two ways of performing multiplication in deep learning and neural networks\n",
        "\n",
        "1.Element wise\n",
        "\n",
        "2.Matrix multiplication(dot product)"
      ],
      "metadata": {
        "id": "1uG_4jyEUgIE"
      }
    },
    {
      "cell_type": "code",
      "source": [],
      "metadata": {
        "id": "79HgPURPUvH5"
      },
      "execution_count": 39,
      "outputs": []
    },
    {
      "cell_type": "markdown",
      "source": [
        "1.Element wise"
      ],
      "metadata": {
        "id": "7R2d7fg7V7Ef"
      }
    },
    {
      "cell_type": "code",
      "source": [
        "tensor_1 = torch.tensor([1,2,3])\n",
        "tensor_2 = torch.tensor([2,4,6])\n"
      ],
      "metadata": {
        "id": "QzYXqFFBV8s1"
      },
      "execution_count": 40,
      "outputs": []
    },
    {
      "cell_type": "code",
      "source": [
        "torch.mul(tensor_1,tensor_2)"
      ],
      "metadata": {
        "colab": {
          "base_uri": "https://localhost:8080/"
        },
        "id": "9CyKNXpEWClT",
        "outputId": "e128fcf3-5fb5-4ce2-c45a-f7a200f43998"
      },
      "execution_count": 41,
      "outputs": [
        {
          "output_type": "execute_result",
          "data": {
            "text/plain": [
              "tensor([ 2,  8, 18])"
            ]
          },
          "metadata": {},
          "execution_count": 41
        }
      ]
    },
    {
      "cell_type": "markdown",
      "source": [
        "Matrix Multiplication"
      ],
      "metadata": {
        "id": "gEd4ZRHrWWl7"
      }
    },
    {
      "cell_type": "code",
      "source": [
        "torch.matmul(tensor_1,tensor_2)"
      ],
      "metadata": {
        "colab": {
          "base_uri": "https://localhost:8080/"
        },
        "id": "iDr89nS6WQYJ",
        "outputId": "238e0155-704e-45dd-e824-06e6c0e4e8e2"
      },
      "execution_count": 42,
      "outputs": [
        {
          "output_type": "execute_result",
          "data": {
            "text/plain": [
              "tensor(28)"
            ]
          },
          "metadata": {},
          "execution_count": 42
        }
      ]
    },
    {
      "cell_type": "code",
      "source": [
        "torch.__version__"
      ],
      "metadata": {
        "colab": {
          "base_uri": "https://localhost:8080/",
          "height": 35
        },
        "id": "cxuFIOluWcrz",
        "outputId": "1c7d9af1-e563-406a-b77a-4b1a762e9800"
      },
      "execution_count": 43,
      "outputs": [
        {
          "output_type": "execute_result",
          "data": {
            "text/plain": [
              "'2.1.0+cu121'"
            ],
            "application/vnd.google.colaboratory.intrinsic+json": {
              "type": "string"
            }
          },
          "metadata": {},
          "execution_count": 43
        }
      ]
    },
    {
      "cell_type": "markdown",
      "source": [],
      "metadata": {
        "id": "qZ4jVQWE9Ief"
      }
    },
    {
      "cell_type": "markdown",
      "source": [
        "#One of the most common errors in Deep Learning : shape errors"
      ],
      "metadata": {
        "id": "SPCYS9R0ZAoJ"
      }
    },
    {
      "cell_type": "markdown",
      "source": [
        "The two main rules that performing matrix multiplication needs to satisfy:\n",
        "\n",
        "1. The **inner dimensions** must match\n",
        "\n",
        "(3,2) * (3,2) won't work here but (2,3) * (3,2) works here\n",
        "\n",
        "2. The **outer dimensions** - shape\n",
        "\n",
        "(2,3) * (3,2) => (2,2) shape\n",
        "\n",
        "(3,2) * (2,3) => (3,3) shape\n",
        "\n",
        "\n",
        "\n"
      ],
      "metadata": {
        "id": "N8t33_ZA-dlq"
      }
    },
    {
      "cell_type": "code",
      "source": [
        "mat_mul = torch.matmul(torch.rand([2,3]) , torch.rand([3,2]))\n",
        "mat_mul"
      ],
      "metadata": {
        "colab": {
          "base_uri": "https://localhost:8080/"
        },
        "id": "NuonlZYK9RhG",
        "outputId": "ed524190-abba-4a98-d33d-3348921ec1d3"
      },
      "execution_count": 47,
      "outputs": [
        {
          "output_type": "execute_result",
          "data": {
            "text/plain": [
              "tensor([[0.3664, 0.4977],\n",
              "        [0.6242, 0.6299]])"
            ]
          },
          "metadata": {},
          "execution_count": 47
        }
      ]
    },
    {
      "cell_type": "code",
      "source": [
        "mat_mul.shape"
      ],
      "metadata": {
        "colab": {
          "base_uri": "https://localhost:8080/"
        },
        "id": "sBn5ib2zAeTN",
        "outputId": "7f0b2833-82d3-494b-c5e1-0d7a1165841e"
      },
      "execution_count": 48,
      "outputs": [
        {
          "output_type": "execute_result",
          "data": {
            "text/plain": [
              "torch.Size([2, 2])"
            ]
          },
          "metadata": {},
          "execution_count": 48
        }
      ]
    },
    {
      "cell_type": "markdown",
      "source": [
        "This is 2 dimensional"
      ],
      "metadata": {
        "id": "Dazx2KpuAsKT"
      }
    },
    {
      "cell_type": "markdown",
      "source": [],
      "metadata": {
        "id": "HFRvdwxHAvQJ"
      }
    },
    {
      "cell_type": "code",
      "source": [
        "mat_mul = torch.matmul(torch.rand([3,2]) , torch.rand([2,3]))\n",
        "mat_mul"
      ],
      "metadata": {
        "colab": {
          "base_uri": "https://localhost:8080/"
        },
        "id": "6JNmI0l3AqXq",
        "outputId": "1b519ef4-64a1-42d6-e052-972ecd85af70"
      },
      "execution_count": 50,
      "outputs": [
        {
          "output_type": "execute_result",
          "data": {
            "text/plain": [
              "tensor([[0.6250, 0.7214, 0.2446],\n",
              "        [0.6565, 0.8195, 0.5072],\n",
              "        [0.7372, 0.8976, 0.4779]])"
            ]
          },
          "metadata": {},
          "execution_count": 50
        }
      ]
    },
    {
      "cell_type": "code",
      "source": [
        "mat_mul.shape"
      ],
      "metadata": {
        "colab": {
          "base_uri": "https://localhost:8080/"
        },
        "id": "spCjR30_A4VN",
        "outputId": "eec54836-f0de-47b3-855e-25d3bcd91bb9"
      },
      "execution_count": 51,
      "outputs": [
        {
          "output_type": "execute_result",
          "data": {
            "text/plain": [
              "torch.Size([3, 3])"
            ]
          },
          "metadata": {},
          "execution_count": 51
        }
      ]
    },
    {
      "cell_type": "code",
      "source": [
        "#This is 3 dimensional matrix"
      ],
      "metadata": {
        "id": "nefoV7b8A8Kq"
      },
      "execution_count": 52,
      "outputs": []
    },
    {
      "cell_type": "code",
      "source": [],
      "metadata": {
        "id": "ptwT4JU3A_3s"
      },
      "execution_count": null,
      "outputs": []
    }
  ]
}