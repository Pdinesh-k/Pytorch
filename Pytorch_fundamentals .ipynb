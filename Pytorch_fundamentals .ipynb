{
  "nbformat": 4,
  "nbformat_minor": 0,
  "metadata": {
    "colab": {
      "provenance": []
    },
    "kernelspec": {
      "name": "python3",
      "display_name": "Python 3"
    },
    "language_info": {
      "name": "python"
    }
  },
  "cells": [
    {
      "cell_type": "code",
      "source": [
        "import torch\n",
        "import pandas as pd\n",
        "import numpy as np\n",
        "import matplotlib.pyplot as plt\n",
        "import plotly.express as px"
      ],
      "metadata": {
        "id": "JXdVZli3Dkqr"
      },
      "execution_count": 1,
      "outputs": []
    },
    {
      "cell_type": "markdown",
      "source": [
        "#Introduction to tensors"
      ],
      "metadata": {
        "id": "xuuGyvJnEcZZ"
      }
    },
    {
      "cell_type": "markdown",
      "source": [
        "Creating tensors"
      ],
      "metadata": {
        "id": "14THqpVCF5lU"
      }
    },
    {
      "cell_type": "code",
      "source": [
        "#Scalar\n",
        "scalar = torch.tensor(7)\n",
        "scalar"
      ],
      "metadata": {
        "colab": {
          "base_uri": "https://localhost:8080/"
        },
        "id": "L3lfmT-_F4pS",
        "outputId": "87838d26-a28b-4322-dd74-2eefb603feff"
      },
      "execution_count": 2,
      "outputs": [
        {
          "output_type": "execute_result",
          "data": {
            "text/plain": [
              "tensor(7)"
            ]
          },
          "metadata": {},
          "execution_count": 2
        }
      ]
    },
    {
      "cell_type": "code",
      "source": [
        "#Get the tensor back to int\n",
        "scalar.item()"
      ],
      "metadata": {
        "colab": {
          "base_uri": "https://localhost:8080/"
        },
        "id": "JAYLtt4MO_-i",
        "outputId": "790ea97c-cbec-44a9-ba80-41492fe6e098"
      },
      "execution_count": 3,
      "outputs": [
        {
          "output_type": "execute_result",
          "data": {
            "text/plain": [
              "7"
            ]
          },
          "metadata": {},
          "execution_count": 3
        }
      ]
    },
    {
      "cell_type": "code",
      "source": [
        "#Vector\n",
        "vector = torch.tensor([7,7])\n",
        "vector"
      ],
      "metadata": {
        "colab": {
          "base_uri": "https://localhost:8080/"
        },
        "id": "aafFZb_COaH5",
        "outputId": "49ba7139-60e5-4b17-ab9b-3351a5b9c106"
      },
      "execution_count": 4,
      "outputs": [
        {
          "output_type": "execute_result",
          "data": {
            "text/plain": [
              "tensor([7, 7])"
            ]
          },
          "metadata": {},
          "execution_count": 4
        }
      ]
    },
    {
      "cell_type": "code",
      "source": [
        "vector.ndim"
      ],
      "metadata": {
        "colab": {
          "base_uri": "https://localhost:8080/"
        },
        "id": "0gufxfvGOiMJ",
        "outputId": "11a66eec-ee74-4e2d-c764-c8604381bbb8"
      },
      "execution_count": 5,
      "outputs": [
        {
          "output_type": "execute_result",
          "data": {
            "text/plain": [
              "1"
            ]
          },
          "metadata": {},
          "execution_count": 5
        }
      ]
    },
    {
      "cell_type": "code",
      "source": [
        "vector.shape"
      ],
      "metadata": {
        "colab": {
          "base_uri": "https://localhost:8080/"
        },
        "id": "OcoiTJcKOmki",
        "outputId": "0728dd22-c110-4233-d944-8fc6b54d4c66"
      },
      "execution_count": 6,
      "outputs": [
        {
          "output_type": "execute_result",
          "data": {
            "text/plain": [
              "torch.Size([2])"
            ]
          },
          "metadata": {},
          "execution_count": 6
        }
      ]
    },
    {
      "cell_type": "code",
      "source": [
        "#Matrix\n",
        "\n",
        "MATRIX = torch.tensor([[5,1],\n",
        "                        [8,1]])\n",
        "MATRIX"
      ],
      "metadata": {
        "colab": {
          "base_uri": "https://localhost:8080/"
        },
        "id": "AuVKGC4lOqDv",
        "outputId": "dfa47839-164c-4404-cf53-2172f233d115"
      },
      "execution_count": 7,
      "outputs": [
        {
          "output_type": "execute_result",
          "data": {
            "text/plain": [
              "tensor([[5, 1],\n",
              "        [8, 1]])"
            ]
          },
          "metadata": {},
          "execution_count": 7
        }
      ]
    },
    {
      "cell_type": "code",
      "source": [
        "MATRIX.shape"
      ],
      "metadata": {
        "colab": {
          "base_uri": "https://localhost:8080/"
        },
        "id": "OSVjiKW6P2t0",
        "outputId": "3b1632f4-2259-4904-a3f8-6a9fb4c83e6f"
      },
      "execution_count": 8,
      "outputs": [
        {
          "output_type": "execute_result",
          "data": {
            "text/plain": [
              "torch.Size([2, 2])"
            ]
          },
          "metadata": {},
          "execution_count": 8
        }
      ]
    },
    {
      "cell_type": "code",
      "source": [
        "MATRIX.ndim"
      ],
      "metadata": {
        "colab": {
          "base_uri": "https://localhost:8080/"
        },
        "id": "B4ZA20htP-MS",
        "outputId": "40575630-0a80-439a-f93e-971113059b71"
      },
      "execution_count": 9,
      "outputs": [
        {
          "output_type": "execute_result",
          "data": {
            "text/plain": [
              "2"
            ]
          },
          "metadata": {},
          "execution_count": 9
        }
      ]
    },
    {
      "cell_type": "code",
      "source": [
        "#TENSOR\n",
        "TENSOR = torch.tensor([[[1,2,3],\n",
        "                        [4,5,6],\n",
        "                        [7,8,9]]])\n",
        "TENSOR"
      ],
      "metadata": {
        "colab": {
          "base_uri": "https://localhost:8080/"
        },
        "id": "UpQ_WIbNQDij",
        "outputId": "fc3e33dc-97a5-4eba-c2de-c60a8bd112ad"
      },
      "execution_count": 10,
      "outputs": [
        {
          "output_type": "execute_result",
          "data": {
            "text/plain": [
              "tensor([[[1, 2, 3],\n",
              "         [4, 5, 6],\n",
              "         [7, 8, 9]]])"
            ]
          },
          "metadata": {},
          "execution_count": 10
        }
      ]
    },
    {
      "cell_type": "code",
      "source": [
        "TENSOR.shape"
      ],
      "metadata": {
        "colab": {
          "base_uri": "https://localhost:8080/"
        },
        "id": "5w4GUansQXji",
        "outputId": "490c4f37-f776-4dfd-c9e9-46e99a3811b1"
      },
      "execution_count": 11,
      "outputs": [
        {
          "output_type": "execute_result",
          "data": {
            "text/plain": [
              "torch.Size([1, 3, 3])"
            ]
          },
          "metadata": {},
          "execution_count": 11
        }
      ]
    },
    {
      "cell_type": "code",
      "source": [
        "TENSOR.ndim"
      ],
      "metadata": {
        "colab": {
          "base_uri": "https://localhost:8080/"
        },
        "id": "daySen6KQZ84",
        "outputId": "7d1eef9a-6139-42ff-c864-8ebfadd32aa6"
      },
      "execution_count": 12,
      "outputs": [
        {
          "output_type": "execute_result",
          "data": {
            "text/plain": [
              "3"
            ]
          },
          "metadata": {},
          "execution_count": 12
        }
      ]
    },
    {
      "cell_type": "code",
      "source": [
        "TENSOR1 = torch.tensor([[[[1,2,3,4],\n",
        "                          [5,6,7,8],\n",
        "                          [9,10,11,12],\n",
        "                          [13,14,15,16]]]])"
      ],
      "metadata": {
        "id": "fBHTZk1cQbrM"
      },
      "execution_count": 13,
      "outputs": []
    },
    {
      "cell_type": "code",
      "source": [
        "TENSOR1.shape"
      ],
      "metadata": {
        "colab": {
          "base_uri": "https://localhost:8080/"
        },
        "id": "kBk-eSQHSNLS",
        "outputId": "34c0fcf9-9f7a-45f1-af94-c98c4008af72"
      },
      "execution_count": 14,
      "outputs": [
        {
          "output_type": "execute_result",
          "data": {
            "text/plain": [
              "torch.Size([1, 1, 4, 4])"
            ]
          },
          "metadata": {},
          "execution_count": 14
        }
      ]
    },
    {
      "cell_type": "markdown",
      "source": [
        "#RANDOM TENSORS"
      ],
      "metadata": {
        "id": "XsLCibYnSQRh"
      }
    },
    {
      "cell_type": "markdown",
      "source": [
        "Random tensors are important because the way many neural networks learn is that they start with full of random numbers and then adjust the random numbers to better represent the data"
      ],
      "metadata": {
        "id": "K-WPlgpnTeKR"
      }
    },
    {
      "cell_type": "markdown",
      "source": [
        "Start with random numbers -> look at data -> update random numbers -> look at data -> update random numbers"
      ],
      "metadata": {
        "id": "-aEqZJ9UTu_z"
      }
    },
    {
      "cell_type": "code",
      "source": [
        "#create a random tensor of size (3,4)\n",
        "random_tensor = torch.rand(3,4)\n",
        "random_tensor"
      ],
      "metadata": {
        "colab": {
          "base_uri": "https://localhost:8080/"
        },
        "id": "4ms4QZW-TNKC",
        "outputId": "cbf3f0b0-5813-4efd-aabb-d4a3d368630e"
      },
      "execution_count": 15,
      "outputs": [
        {
          "output_type": "execute_result",
          "data": {
            "text/plain": [
              "tensor([[0.3138, 0.2204, 0.2310, 0.7489],\n",
              "        [0.7649, 0.1532, 0.2612, 0.2707],\n",
              "        [0.6730, 0.2459, 0.8182, 0.9349]])"
            ]
          },
          "metadata": {},
          "execution_count": 15
        }
      ]
    },
    {
      "cell_type": "code",
      "source": [
        "#create a random tensor with similar to an image tensor\n",
        "random_image_size_tensor = torch.rand(size=(224,224,3)) #height #width #color channels\n",
        "random_image_size_tensor"
      ],
      "metadata": {
        "colab": {
          "base_uri": "https://localhost:8080/"
        },
        "id": "mqoar-4rUan4",
        "outputId": "53c77ebd-acb1-4bec-d8da-3b15222185d7"
      },
      "execution_count": 16,
      "outputs": [
        {
          "output_type": "execute_result",
          "data": {
            "text/plain": [
              "tensor([[[0.8242, 0.3264, 0.4208],\n",
              "         [0.6889, 0.1060, 0.3948],\n",
              "         [0.1465, 0.9009, 0.0329],\n",
              "         ...,\n",
              "         [0.7004, 0.4869, 0.2562],\n",
              "         [0.7842, 0.8768, 0.2312],\n",
              "         [0.4872, 0.0104, 0.4115]],\n",
              "\n",
              "        [[0.1184, 0.2650, 0.7914],\n",
              "         [0.7248, 0.7894, 0.5428],\n",
              "         [0.0212, 0.2395, 0.9515],\n",
              "         ...,\n",
              "         [0.3066, 0.1385, 0.0519],\n",
              "         [0.9534, 0.4201, 0.2156],\n",
              "         [0.0566, 0.7790, 0.5022]],\n",
              "\n",
              "        [[0.7317, 0.5952, 0.1548],\n",
              "         [0.1259, 0.5262, 0.6894],\n",
              "         [0.1602, 0.9841, 0.8873],\n",
              "         ...,\n",
              "         [0.4732, 0.0714, 0.3102],\n",
              "         [0.0282, 0.4256, 0.3619],\n",
              "         [0.7846, 0.9426, 0.7979]],\n",
              "\n",
              "        ...,\n",
              "\n",
              "        [[0.1187, 0.7281, 0.5396],\n",
              "         [0.4886, 0.7446, 0.0661],\n",
              "         [0.5730, 0.9028, 0.7132],\n",
              "         ...,\n",
              "         [0.9618, 0.7890, 0.5384],\n",
              "         [0.4512, 0.9757, 0.1277],\n",
              "         [0.3560, 0.8165, 0.3779]],\n",
              "\n",
              "        [[0.7635, 0.2670, 0.3955],\n",
              "         [0.8710, 0.2280, 0.5221],\n",
              "         [0.6901, 0.2284, 0.4584],\n",
              "         ...,\n",
              "         [0.5766, 0.5431, 0.3059],\n",
              "         [0.9315, 0.4546, 0.6403],\n",
              "         [0.6798, 0.7035, 0.5775]],\n",
              "\n",
              "        [[0.4573, 0.6786, 0.8877],\n",
              "         [0.6929, 0.8098, 0.5794],\n",
              "         [0.8567, 0.2985, 0.2618],\n",
              "         ...,\n",
              "         [0.2677, 0.7205, 0.1193],\n",
              "         [0.5195, 0.8096, 0.5682],\n",
              "         [0.4558, 0.0989, 0.8874]]])"
            ]
          },
          "metadata": {},
          "execution_count": 16
        }
      ]
    },
    {
      "cell_type": "code",
      "source": [
        "random_image_size_tensor.shape , random_image_size_tensor.ndim"
      ],
      "metadata": {
        "colab": {
          "base_uri": "https://localhost:8080/"
        },
        "id": "KTnmQ5_sVw0S",
        "outputId": "bb9ed5fb-2c89-4e2e-f7a6-15be29619719"
      },
      "execution_count": 17,
      "outputs": [
        {
          "output_type": "execute_result",
          "data": {
            "text/plain": [
              "(torch.Size([224, 224, 3]), 3)"
            ]
          },
          "metadata": {},
          "execution_count": 17
        }
      ]
    },
    {
      "cell_type": "code",
      "source": [],
      "metadata": {
        "id": "oHrAptb1WLf2"
      },
      "execution_count": 17,
      "outputs": []
    },
    {
      "cell_type": "markdown",
      "source": [
        "Zeros and ones"
      ],
      "metadata": {
        "id": "3_eshasbW3jU"
      }
    },
    {
      "cell_type": "code",
      "source": [
        "zeros = torch.zeros(2,2)\n",
        "zeros"
      ],
      "metadata": {
        "colab": {
          "base_uri": "https://localhost:8080/"
        },
        "id": "mk0MzgwaW5hS",
        "outputId": "01926fd9-9b49-41aa-912a-455c8e84fb20"
      },
      "execution_count": 18,
      "outputs": [
        {
          "output_type": "execute_result",
          "data": {
            "text/plain": [
              "tensor([[0., 0.],\n",
              "        [0., 0.]])"
            ]
          },
          "metadata": {},
          "execution_count": 18
        }
      ]
    },
    {
      "cell_type": "code",
      "source": [
        "ones = torch.ones(3,3)\n",
        "ones"
      ],
      "metadata": {
        "colab": {
          "base_uri": "https://localhost:8080/"
        },
        "id": "Mq1ztWfGXFcm",
        "outputId": "401dc4b4-e4d0-4da5-cd29-878a83a59051"
      },
      "execution_count": 19,
      "outputs": [
        {
          "output_type": "execute_result",
          "data": {
            "text/plain": [
              "tensor([[1., 1., 1.],\n",
              "        [1., 1., 1.],\n",
              "        [1., 1., 1.]])"
            ]
          },
          "metadata": {},
          "execution_count": 19
        }
      ]
    },
    {
      "cell_type": "code",
      "source": [],
      "metadata": {
        "id": "9mD6XJa_XO5Y"
      },
      "execution_count": 19,
      "outputs": []
    },
    {
      "cell_type": "markdown",
      "source": [
        "Creating a range of tensors and tensor-s like"
      ],
      "metadata": {
        "id": "jr6HsLi4ZHqs"
      }
    },
    {
      "cell_type": "code",
      "source": [
        "range = torch.range(0,10)\n",
        "range"
      ],
      "metadata": {
        "colab": {
          "base_uri": "https://localhost:8080/"
        },
        "id": "6S4L1QpYZM5R",
        "outputId": "4981c215-4477-4f7e-fe02-dcf1e1c402bd"
      },
      "execution_count": 20,
      "outputs": [
        {
          "output_type": "stream",
          "name": "stderr",
          "text": [
            "<ipython-input-20-91a60021e470>:1: UserWarning: torch.range is deprecated and will be removed in a future release because its behavior is inconsistent with Python's range builtin. Instead, use torch.arange, which produces values in [start, end).\n",
            "  range = torch.range(0,10)\n"
          ]
        },
        {
          "output_type": "execute_result",
          "data": {
            "text/plain": [
              "tensor([ 0.,  1.,  2.,  3.,  4.,  5.,  6.,  7.,  8.,  9., 10.])"
            ]
          },
          "metadata": {},
          "execution_count": 20
        }
      ]
    },
    {
      "cell_type": "code",
      "source": [
        "range = torch.arange(0,10)\n",
        "range"
      ],
      "metadata": {
        "colab": {
          "base_uri": "https://localhost:8080/"
        },
        "id": "24o2FugPZRkO",
        "outputId": "24f2ad0c-05e4-4c13-a5fd-e4d050f1c9cf"
      },
      "execution_count": 21,
      "outputs": [
        {
          "output_type": "execute_result",
          "data": {
            "text/plain": [
              "tensor([0, 1, 2, 3, 4, 5, 6, 7, 8, 9])"
            ]
          },
          "metadata": {},
          "execution_count": 21
        }
      ]
    },
    {
      "cell_type": "code",
      "source": [
        "step_value = torch.arange(0,10,2)\n",
        "step_value"
      ],
      "metadata": {
        "colab": {
          "base_uri": "https://localhost:8080/"
        },
        "id": "IkDAgOEMZitQ",
        "outputId": "e3e6be94-a510-4d13-c826-e10f401cfadd"
      },
      "execution_count": 22,
      "outputs": [
        {
          "output_type": "execute_result",
          "data": {
            "text/plain": [
              "tensor([0, 2, 4, 6, 8])"
            ]
          },
          "metadata": {},
          "execution_count": 22
        }
      ]
    },
    {
      "cell_type": "code",
      "source": [],
      "metadata": {
        "id": "XKVdhilxZ46B"
      },
      "execution_count": 22,
      "outputs": []
    },
    {
      "cell_type": "markdown",
      "source": [
        "#Tensor datatypes"
      ],
      "metadata": {
        "id": "eXhWmK_RayHh"
      }
    },
    {
      "cell_type": "code",
      "source": [
        "#float32 Tensor\n",
        "float_32_tensor = torch.tensor([1.0,2.0,3.0])\n",
        "float_32_tensor"
      ],
      "metadata": {
        "colab": {
          "base_uri": "https://localhost:8080/"
        },
        "id": "snYeIPgMa0lx",
        "outputId": "8f7e738f-2abc-4b71-8e68-885f003cbfd9"
      },
      "execution_count": 23,
      "outputs": [
        {
          "output_type": "execute_result",
          "data": {
            "text/plain": [
              "tensor([1., 2., 3.])"
            ]
          },
          "metadata": {},
          "execution_count": 23
        }
      ]
    },
    {
      "cell_type": "code",
      "source": [
        "float_32_tensor.dtype"
      ],
      "metadata": {
        "colab": {
          "base_uri": "https://localhost:8080/"
        },
        "id": "Fcl2dteBbPAn",
        "outputId": "9337166e-d2cf-4455-d11b-bea261f2c973"
      },
      "execution_count": 24,
      "outputs": [
        {
          "output_type": "execute_result",
          "data": {
            "text/plain": [
              "torch.float32"
            ]
          },
          "metadata": {},
          "execution_count": 24
        }
      ]
    },
    {
      "cell_type": "code",
      "source": [
        "#conversion of float32 to float16\n",
        "float_16_tensor = float_32_tensor.type(torch.float16)\n",
        "float_16_tensor"
      ],
      "metadata": {
        "colab": {
          "base_uri": "https://localhost:8080/"
        },
        "id": "bwJEUD6IbSNx",
        "outputId": "679ba74e-55e2-4756-d117-3416d35eedb9"
      },
      "execution_count": 25,
      "outputs": [
        {
          "output_type": "execute_result",
          "data": {
            "text/plain": [
              "tensor([1., 2., 3.], dtype=torch.float16)"
            ]
          },
          "metadata": {},
          "execution_count": 25
        }
      ]
    },
    {
      "cell_type": "code",
      "source": [
        "#int datatype\n",
        "int_32_tensor = torch.tensor([1,2,3],dtype=torch.int32)\n",
        "int_32_tensor"
      ],
      "metadata": {
        "id": "9ApfBytRdOp3",
        "colab": {
          "base_uri": "https://localhost:8080/"
        },
        "outputId": "6d1d762a-5490-4749-e3f5-25eac187e6c5"
      },
      "execution_count": 26,
      "outputs": [
        {
          "output_type": "execute_result",
          "data": {
            "text/plain": [
              "tensor([1, 2, 3], dtype=torch.int32)"
            ]
          },
          "metadata": {},
          "execution_count": 26
        }
      ]
    },
    {
      "cell_type": "code",
      "source": [
        "float_tensor__int_tensor = float_32_tensor*int_32_tensor\n",
        "float_tensor__int_tensor"
      ],
      "metadata": {
        "colab": {
          "base_uri": "https://localhost:8080/"
        },
        "id": "WmfCE943I3Ge",
        "outputId": "4ac1afa6-b2a6-49ed-b84a-5dac6d677921"
      },
      "execution_count": 27,
      "outputs": [
        {
          "output_type": "execute_result",
          "data": {
            "text/plain": [
              "tensor([1., 4., 9.])"
            ]
          },
          "metadata": {},
          "execution_count": 27
        }
      ]
    },
    {
      "cell_type": "code",
      "source": [
        "float_tensor__int_tensor.shape"
      ],
      "metadata": {
        "colab": {
          "base_uri": "https://localhost:8080/"
        },
        "id": "itz-0UK9JQJ0",
        "outputId": "4dc13337-fb8f-4781-bd5e-62070e34bc6b"
      },
      "execution_count": 28,
      "outputs": [
        {
          "output_type": "execute_result",
          "data": {
            "text/plain": [
              "torch.Size([3])"
            ]
          },
          "metadata": {},
          "execution_count": 28
        }
      ]
    },
    {
      "cell_type": "code",
      "source": [
        "float_tensor__int_tensor.device"
      ],
      "metadata": {
        "colab": {
          "base_uri": "https://localhost:8080/"
        },
        "id": "D_lgDLxqKOB6",
        "outputId": "afc448d9-18d6-495d-ac2e-ef336a44b805"
      },
      "execution_count": 29,
      "outputs": [
        {
          "output_type": "execute_result",
          "data": {
            "text/plain": [
              "device(type='cpu')"
            ]
          },
          "metadata": {},
          "execution_count": 29
        }
      ]
    },
    {
      "cell_type": "code",
      "source": [
        "some_tensor = torch.rand([5,4])\n",
        "print(some_tensor)\n",
        "print(f\"The shape of the some_tensor: {some_tensor.shape}\")\n",
        "print(f\"The device which is operating some_tensor: {some_tensor.device}\")\n",
        "print(f\"The ndim of the some_tensor: {some_tensor.ndim}\")\n",
        "print(f\"The dtype of the some_tensor : {some_tensor.dtype}\")"
      ],
      "metadata": {
        "colab": {
          "base_uri": "https://localhost:8080/"
        },
        "id": "rRwhWFf-KZmx",
        "outputId": "95a7d3a9-f01f-4846-b9bb-14390c74f8bc"
      },
      "execution_count": 30,
      "outputs": [
        {
          "output_type": "stream",
          "name": "stdout",
          "text": [
            "tensor([[0.9187, 0.6177, 0.7542, 0.0112],\n",
            "        [0.4392, 0.7587, 0.5999, 0.5982],\n",
            "        [0.2649, 0.6413, 0.6689, 0.4650],\n",
            "        [0.3699, 0.6029, 0.5666, 0.4858],\n",
            "        [0.8563, 0.1352, 0.5376, 0.2628]])\n",
            "The shape of the some_tensor: torch.Size([5, 4])\n",
            "The device which is operating some_tensor: cpu\n",
            "The ndim of the some_tensor: 2\n",
            "The dtype of the some_tensor : torch.float32\n"
          ]
        }
      ]
    },
    {
      "cell_type": "code",
      "source": [],
      "metadata": {
        "id": "1dO6lCdELrg-"
      },
      "execution_count": 30,
      "outputs": []
    },
    {
      "cell_type": "markdown",
      "source": [
        "#Manipulating tensors"
      ],
      "metadata": {
        "id": "hweYl56HMpov"
      }
    },
    {
      "cell_type": "markdown",
      "source": [
        "Tensor operations include :\n",
        "* Addition\n",
        "* Multiplication\n",
        "* Division\n",
        "* Subtraction\n",
        "* Matrix multiplication"
      ],
      "metadata": {
        "id": "z9tEGUQ7NacC"
      }
    },
    {
      "cell_type": "markdown",
      "source": [
        "For manipulating tensors there are inbuilt in funcs like torch.add , torch.sub , torch.mul , torch.div"
      ],
      "metadata": {
        "id": "IHm9oRTyUH9n"
      }
    },
    {
      "cell_type": "code",
      "source": [
        "tensor_1 = torch.rand([3,4])\n",
        "tensor_2 = torch.rand([3,4])\n",
        "tensor_add = tensor_1 + tensor_2\n",
        "tensor_add"
      ],
      "metadata": {
        "colab": {
          "base_uri": "https://localhost:8080/"
        },
        "id": "Sgf3z5SfMsSl",
        "outputId": "b6dc7bf6-ac55-473a-be55-2cdec569aa06"
      },
      "execution_count": 31,
      "outputs": [
        {
          "output_type": "execute_result",
          "data": {
            "text/plain": [
              "tensor([[1.8105, 0.8806, 0.8707, 0.7315],\n",
              "        [1.3747, 1.4116, 1.0188, 1.2505],\n",
              "        [0.8174, 0.8787, 1.1355, 1.3542]])"
            ]
          },
          "metadata": {},
          "execution_count": 31
        }
      ]
    },
    {
      "cell_type": "code",
      "source": [
        "torch.add(tensor_1,tensor_2)"
      ],
      "metadata": {
        "colab": {
          "base_uri": "https://localhost:8080/"
        },
        "id": "cxzHE9VAT_mS",
        "outputId": "f1b16898-4e03-43a4-e3d6-0379cd7cdf3d"
      },
      "execution_count": 32,
      "outputs": [
        {
          "output_type": "execute_result",
          "data": {
            "text/plain": [
              "tensor([[1.8105, 0.8806, 0.8707, 0.7315],\n",
              "        [1.3747, 1.4116, 1.0188, 1.2505],\n",
              "        [0.8174, 0.8787, 1.1355, 1.3542]])"
            ]
          },
          "metadata": {},
          "execution_count": 32
        }
      ]
    },
    {
      "cell_type": "code",
      "source": [
        "tensor_mul = tensor_1*tensor_2\n",
        "tensor_mul"
      ],
      "metadata": {
        "colab": {
          "base_uri": "https://localhost:8080/"
        },
        "id": "3BJIPzUsOBYc",
        "outputId": "2ec88363-ef73-4a44-b7e1-362012bea663"
      },
      "execution_count": 33,
      "outputs": [
        {
          "output_type": "execute_result",
          "data": {
            "text/plain": [
              "tensor([[0.8182, 0.0893, 0.1648, 0.1261],\n",
              "        [0.4625, 0.4848, 0.1944, 0.2716],\n",
              "        [0.1358, 0.1912, 0.3189, 0.3612]])"
            ]
          },
          "metadata": {},
          "execution_count": 33
        }
      ]
    },
    {
      "cell_type": "code",
      "source": [
        "torch.mul(tensor_1,10)"
      ],
      "metadata": {
        "colab": {
          "base_uri": "https://localhost:8080/"
        },
        "id": "kufsCZrNTN4a",
        "outputId": "b06f1c03-eeda-4b5a-93b8-be2c34f902ca"
      },
      "execution_count": 34,
      "outputs": [
        {
          "output_type": "execute_result",
          "data": {
            "text/plain": [
              "tensor([[8.6873, 1.1689, 2.7798, 4.5356],\n",
              "        [5.8752, 5.9042, 2.5428, 2.7981],\n",
              "        [5.8542, 3.9630, 5.0954, 3.6525]])"
            ]
          },
          "metadata": {},
          "execution_count": 34
        }
      ]
    },
    {
      "cell_type": "code",
      "source": [
        "torch.mul(tensor_2,20)"
      ],
      "metadata": {
        "colab": {
          "base_uri": "https://localhost:8080/"
        },
        "id": "m5o3jfFoTj5x",
        "outputId": "49e8f9f4-7233-46e1-f4c4-cf587d9529de"
      },
      "execution_count": 35,
      "outputs": [
        {
          "output_type": "execute_result",
          "data": {
            "text/plain": [
              "tensor([[18.8361, 15.2737, 11.8541,  5.5596],\n",
              "        [15.7444, 16.4237, 15.2901, 19.4133],\n",
              "        [ 4.6401,  9.6476, 12.5185, 19.7794]])"
            ]
          },
          "metadata": {},
          "execution_count": 35
        }
      ]
    },
    {
      "cell_type": "code",
      "source": [
        "tensor_div = tensor_1/tensor_2\n",
        "tensor_div"
      ],
      "metadata": {
        "colab": {
          "base_uri": "https://localhost:8080/"
        },
        "id": "blTb3ZYxQKJ0",
        "outputId": "b5fe1b9e-09b0-4c16-a13d-dbbced103dd7"
      },
      "execution_count": 36,
      "outputs": [
        {
          "output_type": "execute_result",
          "data": {
            "text/plain": [
              "tensor([[0.9224, 0.1531, 0.4690, 1.6316],\n",
              "        [0.7463, 0.7190, 0.3326, 0.2883],\n",
              "        [2.5233, 0.8215, 0.8141, 0.3693]])"
            ]
          },
          "metadata": {},
          "execution_count": 36
        }
      ]
    },
    {
      "cell_type": "code",
      "source": [
        "torch.div(tensor_1,tensor_2)"
      ],
      "metadata": {
        "colab": {
          "base_uri": "https://localhost:8080/"
        },
        "id": "M2WgEDjuToyR",
        "outputId": "2e8a4cbf-9eba-4d7d-f2b1-a61c215568fa"
      },
      "execution_count": 37,
      "outputs": [
        {
          "output_type": "execute_result",
          "data": {
            "text/plain": [
              "tensor([[0.9224, 0.1531, 0.4690, 1.6316],\n",
              "        [0.7463, 0.7190, 0.3326, 0.2883],\n",
              "        [2.5233, 0.8215, 0.8141, 0.3693]])"
            ]
          },
          "metadata": {},
          "execution_count": 37
        }
      ]
    },
    {
      "cell_type": "code",
      "source": [
        "tensor_sub = tensor_1-tensor_2\n",
        "tensor_sub"
      ],
      "metadata": {
        "colab": {
          "base_uri": "https://localhost:8080/"
        },
        "id": "4JEXgn3kQOnj",
        "outputId": "f1c956a4-0b40-48e7-a45b-26ff0fdc055e"
      },
      "execution_count": 38,
      "outputs": [
        {
          "output_type": "execute_result",
          "data": {
            "text/plain": [
              "tensor([[-0.0731, -0.6468, -0.3147,  0.1756],\n",
              "        [-0.1997, -0.2308, -0.5102, -0.6909],\n",
              "        [ 0.3534, -0.0861, -0.1164, -0.6237]])"
            ]
          },
          "metadata": {},
          "execution_count": 38
        }
      ]
    },
    {
      "cell_type": "code",
      "source": [
        "torch.sub(tensor_1,tensor_2)"
      ],
      "metadata": {
        "colab": {
          "base_uri": "https://localhost:8080/"
        },
        "id": "v77-f7fVTywo",
        "outputId": "7af74b12-24a7-4036-884d-3c90da18c096"
      },
      "execution_count": 39,
      "outputs": [
        {
          "output_type": "execute_result",
          "data": {
            "text/plain": [
              "tensor([[-0.0731, -0.6468, -0.3147,  0.1756],\n",
              "        [-0.1997, -0.2308, -0.5102, -0.6909],\n",
              "        [ 0.3534, -0.0861, -0.1164, -0.6237]])"
            ]
          },
          "metadata": {},
          "execution_count": 39
        }
      ]
    },
    {
      "cell_type": "code",
      "source": [],
      "metadata": {
        "id": "9dIJVltpQUkk"
      },
      "execution_count": 39,
      "outputs": []
    },
    {
      "cell_type": "markdown",
      "source": [
        "There are two ways of performing multiplication in deep learning and neural networks\n",
        "\n",
        "1.Element wise\n",
        "\n",
        "2.Matrix multiplication(dot product)"
      ],
      "metadata": {
        "id": "1uG_4jyEUgIE"
      }
    },
    {
      "cell_type": "code",
      "source": [],
      "metadata": {
        "id": "79HgPURPUvH5"
      },
      "execution_count": 39,
      "outputs": []
    },
    {
      "cell_type": "markdown",
      "source": [
        "1.Element wise"
      ],
      "metadata": {
        "id": "7R2d7fg7V7Ef"
      }
    },
    {
      "cell_type": "code",
      "source": [
        "tensor_1 = torch.tensor([1,2,3])\n",
        "tensor_2 = torch.tensor([2,4,6])\n"
      ],
      "metadata": {
        "id": "QzYXqFFBV8s1"
      },
      "execution_count": 40,
      "outputs": []
    },
    {
      "cell_type": "code",
      "source": [
        "torch.mul(tensor_1,tensor_2)"
      ],
      "metadata": {
        "colab": {
          "base_uri": "https://localhost:8080/"
        },
        "id": "9CyKNXpEWClT",
        "outputId": "eb42a272-1098-4bda-a2b4-19080306daaf"
      },
      "execution_count": 41,
      "outputs": [
        {
          "output_type": "execute_result",
          "data": {
            "text/plain": [
              "tensor([ 2,  8, 18])"
            ]
          },
          "metadata": {},
          "execution_count": 41
        }
      ]
    },
    {
      "cell_type": "markdown",
      "source": [
        "Matrix Multiplication"
      ],
      "metadata": {
        "id": "gEd4ZRHrWWl7"
      }
    },
    {
      "cell_type": "code",
      "source": [
        "torch.matmul(tensor_1,tensor_2)"
      ],
      "metadata": {
        "colab": {
          "base_uri": "https://localhost:8080/"
        },
        "id": "iDr89nS6WQYJ",
        "outputId": "3f1ebf55-4ceb-4f60-d3b2-71d4cebcd8a1"
      },
      "execution_count": 42,
      "outputs": [
        {
          "output_type": "execute_result",
          "data": {
            "text/plain": [
              "tensor(28)"
            ]
          },
          "metadata": {},
          "execution_count": 42
        }
      ]
    },
    {
      "cell_type": "code",
      "source": [
        "torch.__version__"
      ],
      "metadata": {
        "colab": {
          "base_uri": "https://localhost:8080/",
          "height": 35
        },
        "id": "cxuFIOluWcrz",
        "outputId": "9f52bb90-f772-4a24-aae4-760633706099"
      },
      "execution_count": 43,
      "outputs": [
        {
          "output_type": "execute_result",
          "data": {
            "text/plain": [
              "'2.1.0+cu121'"
            ],
            "application/vnd.google.colaboratory.intrinsic+json": {
              "type": "string"
            }
          },
          "metadata": {},
          "execution_count": 43
        }
      ]
    },
    {
      "cell_type": "markdown",
      "source": [],
      "metadata": {
        "id": "qZ4jVQWE9Ief"
      }
    },
    {
      "cell_type": "markdown",
      "source": [
        "#One of the most common errors in Deep Learning : shape errors"
      ],
      "metadata": {
        "id": "SPCYS9R0ZAoJ"
      }
    },
    {
      "cell_type": "markdown",
      "source": [
        "The two main rules that performing matrix multiplication needs to satisfy:\n",
        "\n",
        "1. The **inner dimensions** must match\n",
        "\n",
        "(3,2) * (3,2) won't work here but (2,3) * (3,2) works here\n",
        "\n",
        "2. The **outer dimensions** - shape\n",
        "\n",
        "(2,3) * (3,2) => (2,2) shape\n",
        "\n",
        "(3,2) * (2,3) => (3,3) shape\n",
        "\n",
        "\n",
        "\n"
      ],
      "metadata": {
        "id": "N8t33_ZA-dlq"
      }
    },
    {
      "cell_type": "code",
      "source": [
        "mat_mul = torch.matmul(torch.rand([2,3]) , torch.rand([3,2]))\n",
        "mat_mul"
      ],
      "metadata": {
        "colab": {
          "base_uri": "https://localhost:8080/"
        },
        "id": "NuonlZYK9RhG",
        "outputId": "82968bb9-3166-47c0-eb2b-4ffaa44f8250"
      },
      "execution_count": 44,
      "outputs": [
        {
          "output_type": "execute_result",
          "data": {
            "text/plain": [
              "tensor([[0.3556, 0.4053],\n",
              "        [1.1192, 1.4620]])"
            ]
          },
          "metadata": {},
          "execution_count": 44
        }
      ]
    },
    {
      "cell_type": "code",
      "source": [
        "mat_mul.shape"
      ],
      "metadata": {
        "colab": {
          "base_uri": "https://localhost:8080/"
        },
        "id": "sBn5ib2zAeTN",
        "outputId": "ac30dbc4-0f58-427a-8f17-9dc2a57225c9"
      },
      "execution_count": 45,
      "outputs": [
        {
          "output_type": "execute_result",
          "data": {
            "text/plain": [
              "torch.Size([2, 2])"
            ]
          },
          "metadata": {},
          "execution_count": 45
        }
      ]
    },
    {
      "cell_type": "markdown",
      "source": [
        "This is 2 dimensional"
      ],
      "metadata": {
        "id": "Dazx2KpuAsKT"
      }
    },
    {
      "cell_type": "markdown",
      "source": [],
      "metadata": {
        "id": "HFRvdwxHAvQJ"
      }
    },
    {
      "cell_type": "code",
      "source": [
        "mat_mul = torch.matmul(torch.rand([3,2]) , torch.rand([2,3]))\n",
        "mat_mul"
      ],
      "metadata": {
        "colab": {
          "base_uri": "https://localhost:8080/"
        },
        "id": "6JNmI0l3AqXq",
        "outputId": "8e1cdfb7-4366-4171-e746-176480f2bd35"
      },
      "execution_count": 46,
      "outputs": [
        {
          "output_type": "execute_result",
          "data": {
            "text/plain": [
              "tensor([[0.0538, 0.3871, 1.0029],\n",
              "        [0.0063, 0.0817, 0.2590],\n",
              "        [0.1716, 0.6865, 1.0724]])"
            ]
          },
          "metadata": {},
          "execution_count": 46
        }
      ]
    },
    {
      "cell_type": "code",
      "source": [
        "mat_mul.shape"
      ],
      "metadata": {
        "colab": {
          "base_uri": "https://localhost:8080/"
        },
        "id": "spCjR30_A4VN",
        "outputId": "d3264058-2d3d-4f28-a18e-8b9739c452f0"
      },
      "execution_count": 47,
      "outputs": [
        {
          "output_type": "execute_result",
          "data": {
            "text/plain": [
              "torch.Size([3, 3])"
            ]
          },
          "metadata": {},
          "execution_count": 47
        }
      ]
    },
    {
      "cell_type": "code",
      "source": [
        "#This is 3 dimensional matrix"
      ],
      "metadata": {
        "id": "nefoV7b8A8Kq"
      },
      "execution_count": 48,
      "outputs": []
    },
    {
      "cell_type": "markdown",
      "source": [
        "Solution for the shape problem is to convert it to the Transpose matrix"
      ],
      "metadata": {
        "id": "XgnhTLKmzV5k"
      }
    },
    {
      "cell_type": "code",
      "source": [
        "tensor_A = torch.tensor([[1,2],\n",
        "                          [4,5],\n",
        "                          [6,7]])"
      ],
      "metadata": {
        "id": "ptwT4JU3A_3s"
      },
      "execution_count": 49,
      "outputs": []
    },
    {
      "cell_type": "code",
      "source": [
        "tensor_B = torch.tensor([[7,8],\n",
        "                          [9,10],\n",
        "                          [11,12]])"
      ],
      "metadata": {
        "id": "CIOCOOROu7rY"
      },
      "execution_count": 50,
      "outputs": []
    },
    {
      "cell_type": "code",
      "source": [
        "#torch.matmul(tensor_A,tensor_B)"
      ],
      "metadata": {
        "id": "qLxcQjWovEF0"
      },
      "execution_count": 51,
      "outputs": []
    },
    {
      "cell_type": "code",
      "source": [
        "tensor_B_Transpose = tensor_B.T"
      ],
      "metadata": {
        "id": "UsnZdJglvJO9"
      },
      "execution_count": 52,
      "outputs": []
    },
    {
      "cell_type": "code",
      "source": [
        "torch.matmul(tensor_A,tensor_B_Transpose)"
      ],
      "metadata": {
        "colab": {
          "base_uri": "https://localhost:8080/"
        },
        "id": "1bCJ_yAavLh6",
        "outputId": "3e5455be-4b43-44c0-97cc-75fa7d9e6e7c"
      },
      "execution_count": 53,
      "outputs": [
        {
          "output_type": "execute_result",
          "data": {
            "text/plain": [
              "tensor([[ 23,  29,  35],\n",
              "        [ 68,  86, 104],\n",
              "        [ 98, 124, 150]])"
            ]
          },
          "metadata": {},
          "execution_count": 53
        }
      ]
    },
    {
      "cell_type": "code",
      "source": [
        "tensor_A.shape"
      ],
      "metadata": {
        "colab": {
          "base_uri": "https://localhost:8080/"
        },
        "id": "x7oIVz6IwK3Q",
        "outputId": "0b99b920-c8c8-4839-ff11-e0e99359b9b2"
      },
      "execution_count": 54,
      "outputs": [
        {
          "output_type": "execute_result",
          "data": {
            "text/plain": [
              "torch.Size([3, 2])"
            ]
          },
          "metadata": {},
          "execution_count": 54
        }
      ]
    },
    {
      "cell_type": "code",
      "source": [
        "tensor_B_Transpose.shape"
      ],
      "metadata": {
        "colab": {
          "base_uri": "https://localhost:8080/"
        },
        "id": "kulPGrFZwXlB",
        "outputId": "2eea5e10-a444-4f5d-d36d-079d996c4223"
      },
      "execution_count": 55,
      "outputs": [
        {
          "output_type": "execute_result",
          "data": {
            "text/plain": [
              "torch.Size([2, 3])"
            ]
          },
          "metadata": {},
          "execution_count": 55
        }
      ]
    },
    {
      "cell_type": "markdown",
      "source": [
        "The matrix multiplication works when tensor_B is transposed"
      ],
      "metadata": {
        "id": "9qHTm3V70YVa"
      }
    },
    {
      "cell_type": "code",
      "source": [
        "print(f\"Original shapes : tensor_A = {tensor_A.shape} , tensor_B = {tensor_B.shape}\")\n",
        "print(f\"New shapes : tensor_A = {tensor_A.shape} (Same shape as above), tensor_B = {tensor_B.T.shape}\")\n",
        "print(f\"Multiplying : {tensor_A.shape} * {tensor_B.T.shape}\")\n",
        "print(\"\\n\")\n",
        "print(\"Output : \",\"\\n\")\n",
        "output = torch.matmul(tensor_A , tensor_B.T)\n",
        "print(output)\n",
        "print(\"\\n\")\n",
        "print(f\"Output shape : {output.shape}\")"
      ],
      "metadata": {
        "colab": {
          "base_uri": "https://localhost:8080/"
        },
        "id": "tiIj8zdTzmO5",
        "outputId": "21842b4a-283f-44ad-9581-0e519bb092e1"
      },
      "execution_count": 56,
      "outputs": [
        {
          "output_type": "stream",
          "name": "stdout",
          "text": [
            "Original shapes : tensor_A = torch.Size([3, 2]) , tensor_B = torch.Size([3, 2])\n",
            "New shapes : tensor_A = torch.Size([3, 2]) (Same shape as above), tensor_B = torch.Size([2, 3])\n",
            "Multiplying : torch.Size([3, 2]) * torch.Size([2, 3])\n",
            "\n",
            "\n",
            "Output :  \n",
            "\n",
            "tensor([[ 23,  29,  35],\n",
            "        [ 68,  86, 104],\n",
            "        [ 98, 124, 150]])\n",
            "\n",
            "\n",
            "Output shape : torch.Size([3, 3])\n"
          ]
        }
      ]
    },
    {
      "cell_type": "code",
      "source": [],
      "metadata": {
        "id": "BfmCMpF810mW"
      },
      "execution_count": 56,
      "outputs": []
    },
    {
      "cell_type": "markdown",
      "source": [
        "#Tensor aggregation"
      ],
      "metadata": {
        "id": "40Of1ToG3o6q"
      }
    },
    {
      "cell_type": "code",
      "source": [
        "x = torch.arange(0,101,10)"
      ],
      "metadata": {
        "id": "ALoQ6_YN3qw8"
      },
      "execution_count": 57,
      "outputs": []
    },
    {
      "cell_type": "code",
      "source": [
        "x"
      ],
      "metadata": {
        "colab": {
          "base_uri": "https://localhost:8080/"
        },
        "id": "Q6tJLx2f33ar",
        "outputId": "24cac107-0811-48d0-c6c4-347b1c6b403a"
      },
      "execution_count": 58,
      "outputs": [
        {
          "output_type": "execute_result",
          "data": {
            "text/plain": [
              "tensor([  0,  10,  20,  30,  40,  50,  60,  70,  80,  90, 100])"
            ]
          },
          "metadata": {},
          "execution_count": 58
        }
      ]
    },
    {
      "cell_type": "code",
      "source": [
        "#Find the mean\n",
        "torch.min(x) , x.min()"
      ],
      "metadata": {
        "colab": {
          "base_uri": "https://localhost:8080/"
        },
        "id": "Vkl5PmPX34U5",
        "outputId": "095e408e-9bbc-4e0f-c0b8-a82fe371b75a"
      },
      "execution_count": 59,
      "outputs": [
        {
          "output_type": "execute_result",
          "data": {
            "text/plain": [
              "(tensor(0), tensor(0))"
            ]
          },
          "metadata": {},
          "execution_count": 59
        }
      ]
    },
    {
      "cell_type": "code",
      "source": [
        "#Find the max\n",
        "torch.max(x) , x.max()"
      ],
      "metadata": {
        "colab": {
          "base_uri": "https://localhost:8080/"
        },
        "id": "dlqmV3A23-bX",
        "outputId": "9ff7314f-0e14-4f7f-c16d-b33fcbf839b4"
      },
      "execution_count": 60,
      "outputs": [
        {
          "output_type": "execute_result",
          "data": {
            "text/plain": [
              "(tensor(100), tensor(100))"
            ]
          },
          "metadata": {},
          "execution_count": 60
        }
      ]
    },
    {
      "cell_type": "code",
      "source": [
        "#Find the sum\n",
        "torch.sum(x) , x.sum()"
      ],
      "metadata": {
        "colab": {
          "base_uri": "https://localhost:8080/"
        },
        "id": "7kPH5XXZ4GSI",
        "outputId": "1e44438a-289b-48c1-ac0d-265088ceecb1"
      },
      "execution_count": 61,
      "outputs": [
        {
          "output_type": "execute_result",
          "data": {
            "text/plain": [
              "(tensor(550), tensor(550))"
            ]
          },
          "metadata": {},
          "execution_count": 61
        }
      ]
    },
    {
      "cell_type": "code",
      "source": [
        "#Find the mean , if we want to use mean in pytorch we want to convert into float first\n",
        "torch.mean(x.type(torch.float32)) , x.type(torch.float32).mean()"
      ],
      "metadata": {
        "colab": {
          "base_uri": "https://localhost:8080/"
        },
        "id": "qiC6KqZ54LE3",
        "outputId": "99fb2217-1e2a-4ba8-c0f5-6d5de95b438d"
      },
      "execution_count": 62,
      "outputs": [
        {
          "output_type": "execute_result",
          "data": {
            "text/plain": [
              "(tensor(50.), tensor(50.))"
            ]
          },
          "metadata": {},
          "execution_count": 62
        }
      ]
    },
    {
      "cell_type": "code",
      "source": [],
      "metadata": {
        "id": "hcKcYg8t4Ol1"
      },
      "execution_count": 62,
      "outputs": []
    },
    {
      "cell_type": "code",
      "source": [],
      "metadata": {
        "id": "iTGKD3d06607"
      },
      "execution_count": 62,
      "outputs": []
    },
    {
      "cell_type": "markdown",
      "source": [
        "#Finding the positional min and max"
      ],
      "metadata": {
        "id": "CiASQFT16_t9"
      }
    },
    {
      "cell_type": "markdown",
      "source": [
        "The positional args gives us the index instead of the specified statement"
      ],
      "metadata": {
        "id": "KLhkrFvC7L-l"
      }
    },
    {
      "cell_type": "code",
      "source": [
        "x = torch.arange(0,201,20)\n",
        "x"
      ],
      "metadata": {
        "colab": {
          "base_uri": "https://localhost:8080/"
        },
        "id": "Mcojp5qc7H8J",
        "outputId": "a0aee968-adcc-4a7a-838d-59d089412b40"
      },
      "execution_count": 63,
      "outputs": [
        {
          "output_type": "execute_result",
          "data": {
            "text/plain": [
              "tensor([  0,  20,  40,  60,  80, 100, 120, 140, 160, 180, 200])"
            ]
          },
          "metadata": {},
          "execution_count": 63
        }
      ]
    },
    {
      "cell_type": "code",
      "source": [
        "#Find the maximum index\n",
        "torch.argmax(x) , x.argmax()"
      ],
      "metadata": {
        "colab": {
          "base_uri": "https://localhost:8080/"
        },
        "id": "RI06c_Iu7dEJ",
        "outputId": "ba61c256-c7ae-498b-fc7e-709066ba97fe"
      },
      "execution_count": 64,
      "outputs": [
        {
          "output_type": "execute_result",
          "data": {
            "text/plain": [
              "(tensor(10), tensor(10))"
            ]
          },
          "metadata": {},
          "execution_count": 64
        }
      ]
    },
    {
      "cell_type": "code",
      "source": [
        "#Finding the minimum index\n",
        "torch.argmin(x) , x.argmin()"
      ],
      "metadata": {
        "colab": {
          "base_uri": "https://localhost:8080/"
        },
        "id": "zRJdmDXF7otc",
        "outputId": "f1246844-93da-4313-dd26-6da9c92cac4f"
      },
      "execution_count": 65,
      "outputs": [
        {
          "output_type": "execute_result",
          "data": {
            "text/plain": [
              "(tensor(0), tensor(0))"
            ]
          },
          "metadata": {},
          "execution_count": 65
        }
      ]
    },
    {
      "cell_type": "code",
      "source": [
        "#Random access of the element by specifying the index\n",
        "x[9]"
      ],
      "metadata": {
        "colab": {
          "base_uri": "https://localhost:8080/"
        },
        "id": "tNp7QL338D34",
        "outputId": "b2a6639a-dedc-47fb-fd33-787c4799f3fb"
      },
      "execution_count": 66,
      "outputs": [
        {
          "output_type": "execute_result",
          "data": {
            "text/plain": [
              "tensor(180)"
            ]
          },
          "metadata": {},
          "execution_count": 66
        }
      ]
    },
    {
      "cell_type": "code",
      "source": [],
      "metadata": {
        "id": "ThMBu7En81ry"
      },
      "execution_count": 66,
      "outputs": []
    },
    {
      "cell_type": "markdown",
      "source": [],
      "metadata": {
        "id": "XxKEq7z19cA_"
      }
    },
    {
      "cell_type": "code",
      "source": [],
      "metadata": {
        "id": "egY23Jok9bTt"
      },
      "execution_count": 66,
      "outputs": []
    },
    {
      "cell_type": "markdown",
      "source": [
        "#Reshaping , stacking , squeezing , unsqueezing"
      ],
      "metadata": {
        "id": "tNlmYJcF9c8X"
      }
    },
    {
      "cell_type": "markdown",
      "source": [
        "* Reshaping : Reshapes an input tensors to an defined shape\n",
        "\n",
        "* view : It reshapes the input tensors but in memory the original tensor will be there\n",
        "\n",
        "* Stacking : Combine the multiple tensors on top of each other (v stack) or side by side (h stack)\n",
        "\n",
        "* Squeezing : Remove the \"1\" dimensions from a tensor\n",
        "\n",
        "* Unsqueezing : Add \"1\" dimensions to a target tensor\n",
        "\n",
        "* Permute : Return a view of the input with dimensions permuted(swapped) in  a certain way"
      ],
      "metadata": {
        "id": "L5fN2XVa9m36"
      }
    },
    {
      "cell_type": "markdown",
      "source": [
        "Reshape"
      ],
      "metadata": {
        "id": "3_-6ql4wBvAe"
      }
    },
    {
      "cell_type": "code",
      "source": [
        "x = torch.arange(1,11)\n",
        "x"
      ],
      "metadata": {
        "colab": {
          "base_uri": "https://localhost:8080/"
        },
        "id": "VWlJVumF9iZ8",
        "outputId": "1c1dcb67-d2ce-4330-c28b-c37d1ed4a8b1"
      },
      "execution_count": 67,
      "outputs": [
        {
          "output_type": "execute_result",
          "data": {
            "text/plain": [
              "tensor([ 1,  2,  3,  4,  5,  6,  7,  8,  9, 10])"
            ]
          },
          "metadata": {},
          "execution_count": 67
        }
      ]
    },
    {
      "cell_type": "code",
      "source": [
        "x_reshape = x.reshape(10,1)\n",
        "x_reshape"
      ],
      "metadata": {
        "colab": {
          "base_uri": "https://localhost:8080/"
        },
        "id": "DV0H-pO5A6YL",
        "outputId": "5ae4ed24-fd07-4bb3-ac55-cee66672ca0a"
      },
      "execution_count": 68,
      "outputs": [
        {
          "output_type": "execute_result",
          "data": {
            "text/plain": [
              "tensor([[ 1],\n",
              "        [ 2],\n",
              "        [ 3],\n",
              "        [ 4],\n",
              "        [ 5],\n",
              "        [ 6],\n",
              "        [ 7],\n",
              "        [ 8],\n",
              "        [ 9],\n",
              "        [10]])"
            ]
          },
          "metadata": {},
          "execution_count": 68
        }
      ]
    },
    {
      "cell_type": "code",
      "source": [
        "x.reshape(2,5)"
      ],
      "metadata": {
        "colab": {
          "base_uri": "https://localhost:8080/"
        },
        "id": "ySnXLvPABPTr",
        "outputId": "abb1aa88-a7ec-404d-cf2f-b13a26da379f"
      },
      "execution_count": 69,
      "outputs": [
        {
          "output_type": "execute_result",
          "data": {
            "text/plain": [
              "tensor([[ 1,  2,  3,  4,  5],\n",
              "        [ 6,  7,  8,  9, 10]])"
            ]
          },
          "metadata": {},
          "execution_count": 69
        }
      ]
    },
    {
      "cell_type": "code",
      "source": [
        "\n",
        "x.reshape(5,2)"
      ],
      "metadata": {
        "colab": {
          "base_uri": "https://localhost:8080/"
        },
        "id": "hT5r72cBBazn",
        "outputId": "63027375-2e61-46bd-b476-88794a195cce"
      },
      "execution_count": 70,
      "outputs": [
        {
          "output_type": "execute_result",
          "data": {
            "text/plain": [
              "tensor([[ 1,  2],\n",
              "        [ 3,  4],\n",
              "        [ 5,  6],\n",
              "        [ 7,  8],\n",
              "        [ 9, 10]])"
            ]
          },
          "metadata": {},
          "execution_count": 70
        }
      ]
    },
    {
      "cell_type": "code",
      "source": [],
      "metadata": {
        "id": "InabAeNSBccM"
      },
      "execution_count": 70,
      "outputs": []
    },
    {
      "cell_type": "markdown",
      "source": [
        "View"
      ],
      "metadata": {
        "id": "CdoHNPuIBw-G"
      }
    },
    {
      "cell_type": "code",
      "source": [
        "y = x.view(2,5)"
      ],
      "metadata": {
        "id": "rzmv_coEBx9F"
      },
      "execution_count": 71,
      "outputs": []
    },
    {
      "cell_type": "code",
      "source": [
        "y"
      ],
      "metadata": {
        "colab": {
          "base_uri": "https://localhost:8080/"
        },
        "id": "GAh3vg_ZB5zs",
        "outputId": "f7911e59-b947-49fa-f973-dca5be0bb46d"
      },
      "execution_count": 72,
      "outputs": [
        {
          "output_type": "execute_result",
          "data": {
            "text/plain": [
              "tensor([[ 1,  2,  3,  4,  5],\n",
              "        [ 6,  7,  8,  9, 10]])"
            ]
          },
          "metadata": {},
          "execution_count": 72
        }
      ]
    },
    {
      "cell_type": "code",
      "source": [
        "x"
      ],
      "metadata": {
        "colab": {
          "base_uri": "https://localhost:8080/"
        },
        "id": "1QT-shA4B7Zo",
        "outputId": "134af494-2b41-4691-f23a-f4eb244d32fd"
      },
      "execution_count": 73,
      "outputs": [
        {
          "output_type": "execute_result",
          "data": {
            "text/plain": [
              "tensor([ 1,  2,  3,  4,  5,  6,  7,  8,  9, 10])"
            ]
          },
          "metadata": {},
          "execution_count": 73
        }
      ]
    },
    {
      "cell_type": "code",
      "source": [
        "y"
      ],
      "metadata": {
        "colab": {
          "base_uri": "https://localhost:8080/"
        },
        "id": "Geo2-i5DB9bo",
        "outputId": "ac250b1d-2579-493b-dc4f-413e9543c797"
      },
      "execution_count": 74,
      "outputs": [
        {
          "output_type": "execute_result",
          "data": {
            "text/plain": [
              "tensor([[ 1,  2,  3,  4,  5],\n",
              "        [ 6,  7,  8,  9, 10]])"
            ]
          },
          "metadata": {},
          "execution_count": 74
        }
      ]
    },
    {
      "cell_type": "code",
      "source": [
        "y[:,0] = 11"
      ],
      "metadata": {
        "id": "rP-Q5oF1CleF"
      },
      "execution_count": 75,
      "outputs": []
    },
    {
      "cell_type": "code",
      "source": [
        "#Changing the value of y changes in the result of x (because a view of a tensor shares the same memory as the original tensor)\n",
        "x"
      ],
      "metadata": {
        "colab": {
          "base_uri": "https://localhost:8080/"
        },
        "id": "7XIyFUJbCoM-",
        "outputId": "ea90aa13-9de0-4b59-b591-d483267714a6"
      },
      "execution_count": 76,
      "outputs": [
        {
          "output_type": "execute_result",
          "data": {
            "text/plain": [
              "tensor([11,  2,  3,  4,  5, 11,  7,  8,  9, 10])"
            ]
          },
          "metadata": {},
          "execution_count": 76
        }
      ]
    },
    {
      "cell_type": "markdown",
      "source": [
        "Stack"
      ],
      "metadata": {
        "id": "GT3kscXLECbb"
      }
    },
    {
      "cell_type": "code",
      "source": [
        "y[:,0] = 1"
      ],
      "metadata": {
        "id": "LPSbSF0cCp7i"
      },
      "execution_count": 77,
      "outputs": []
    },
    {
      "cell_type": "code",
      "source": [
        "x"
      ],
      "metadata": {
        "colab": {
          "base_uri": "https://localhost:8080/"
        },
        "id": "1JXkP5I0U5Lr",
        "outputId": "3392a9aa-a672-48bc-9a27-cd7c5a977160"
      },
      "execution_count": 78,
      "outputs": [
        {
          "output_type": "execute_result",
          "data": {
            "text/plain": [
              "tensor([ 1,  2,  3,  4,  5,  1,  7,  8,  9, 10])"
            ]
          },
          "metadata": {},
          "execution_count": 78
        }
      ]
    },
    {
      "cell_type": "markdown",
      "source": [
        "v stack"
      ],
      "metadata": {
        "id": "ttmyzGUIWJY-"
      }
    },
    {
      "cell_type": "code",
      "source": [
        "x_stacked = torch.stack([x,x,x,x],dim = 0)\n",
        "x_stacked"
      ],
      "metadata": {
        "colab": {
          "base_uri": "https://localhost:8080/"
        },
        "id": "zKKfbMJ7U6GU",
        "outputId": "f6c2f875-ab3e-4fe5-f0ba-1a4733950426"
      },
      "execution_count": 84,
      "outputs": [
        {
          "output_type": "execute_result",
          "data": {
            "text/plain": [
              "tensor([[ 1,  2,  3,  4,  5,  1,  7,  8,  9, 10],\n",
              "        [ 1,  2,  3,  4,  5,  1,  7,  8,  9, 10],\n",
              "        [ 1,  2,  3,  4,  5,  1,  7,  8,  9, 10],\n",
              "        [ 1,  2,  3,  4,  5,  1,  7,  8,  9, 10]])"
            ]
          },
          "metadata": {},
          "execution_count": 84
        }
      ]
    },
    {
      "cell_type": "markdown",
      "source": [
        "h stack"
      ],
      "metadata": {
        "id": "J5zAPMcdWG7D"
      }
    },
    {
      "cell_type": "code",
      "source": [
        "x_stacked_1 = torch.stack([x,x,x,x],dim = 1)\n",
        "x_stacked_1"
      ],
      "metadata": {
        "colab": {
          "base_uri": "https://localhost:8080/"
        },
        "id": "QKoNiq4jVeIL",
        "outputId": "1156867d-dc41-46f5-9669-c96e2c155f92"
      },
      "execution_count": 87,
      "outputs": [
        {
          "output_type": "execute_result",
          "data": {
            "text/plain": [
              "tensor([[ 1,  1,  1,  1],\n",
              "        [ 2,  2,  2,  2],\n",
              "        [ 3,  3,  3,  3],\n",
              "        [ 4,  4,  4,  4],\n",
              "        [ 5,  5,  5,  5],\n",
              "        [ 1,  1,  1,  1],\n",
              "        [ 7,  7,  7,  7],\n",
              "        [ 8,  8,  8,  8],\n",
              "        [ 9,  9,  9,  9],\n",
              "        [10, 10, 10, 10]])"
            ]
          },
          "metadata": {},
          "execution_count": 87
        }
      ]
    },
    {
      "cell_type": "markdown",
      "source": [
        "Squeeze"
      ],
      "metadata": {
        "id": "6pyX6pcRW2SF"
      }
    },
    {
      "cell_type": "markdown",
      "source": [
        "It is used to remove the 1 dimension in the shape of the tensor"
      ],
      "metadata": {
        "id": "dRt0TfazYMDf"
      }
    },
    {
      "cell_type": "code",
      "source": [
        "x_reshaped = x.reshape(1,10)\n",
        "x_reshaped"
      ],
      "metadata": {
        "colab": {
          "base_uri": "https://localhost:8080/"
        },
        "id": "5cHqWoKaV7C6",
        "outputId": "fa32c6fe-8c19-4c24-bc82-40a7bbdd182f"
      },
      "execution_count": 106,
      "outputs": [
        {
          "output_type": "execute_result",
          "data": {
            "text/plain": [
              "tensor([[ 1,  2,  3,  4,  5,  1,  7,  8,  9, 10]])"
            ]
          },
          "metadata": {},
          "execution_count": 106
        }
      ]
    },
    {
      "cell_type": "code",
      "source": [
        "x_reshaped.squeeze()"
      ],
      "metadata": {
        "colab": {
          "base_uri": "https://localhost:8080/"
        },
        "id": "Q-FNcvCrWScN",
        "outputId": "34e3f916-b94b-4826-e95f-8086db0b3a36"
      },
      "execution_count": 107,
      "outputs": [
        {
          "output_type": "execute_result",
          "data": {
            "text/plain": [
              "tensor([ 1,  2,  3,  4,  5,  1,  7,  8,  9, 10])"
            ]
          },
          "metadata": {},
          "execution_count": 107
        }
      ]
    },
    {
      "cell_type": "code",
      "source": [
        "x_reshaped.squeeze().shape"
      ],
      "metadata": {
        "colab": {
          "base_uri": "https://localhost:8080/"
        },
        "id": "I7BW6axKYpWq",
        "outputId": "3a1264e6-8d5c-4fa4-a12b-811f36d9a971"
      },
      "execution_count": 108,
      "outputs": [
        {
          "output_type": "execute_result",
          "data": {
            "text/plain": [
              "torch.Size([10])"
            ]
          },
          "metadata": {},
          "execution_count": 108
        }
      ]
    },
    {
      "cell_type": "markdown",
      "source": [
        "We can see that when we had removed the 1 dimensional in the tensor"
      ],
      "metadata": {
        "id": "xGUEJ2ZHYcBx"
      }
    },
    {
      "cell_type": "code",
      "source": [
        "x_reshaped.unsqueeze(dim = 0)"
      ],
      "metadata": {
        "colab": {
          "base_uri": "https://localhost:8080/"
        },
        "id": "PMb9OcHxWYX1",
        "outputId": "f4a811ea-99c2-419a-9ffc-0c7635325983"
      },
      "execution_count": 109,
      "outputs": [
        {
          "output_type": "execute_result",
          "data": {
            "text/plain": [
              "tensor([[[ 1,  2,  3,  4,  5,  1,  7,  8,  9, 10]]])"
            ]
          },
          "metadata": {},
          "execution_count": 109
        }
      ]
    },
    {
      "cell_type": "code",
      "source": [
        "x_reshaped.shape"
      ],
      "metadata": {
        "colab": {
          "base_uri": "https://localhost:8080/"
        },
        "id": "0sFqH06pZpE7",
        "outputId": "e8a5366a-f5eb-48d3-f318-c75cea826968"
      },
      "execution_count": 110,
      "outputs": [
        {
          "output_type": "execute_result",
          "data": {
            "text/plain": [
              "torch.Size([1, 10])"
            ]
          },
          "metadata": {},
          "execution_count": 110
        }
      ]
    },
    {
      "cell_type": "code",
      "source": [],
      "metadata": {
        "id": "lm9XXjcuZ1pV"
      },
      "execution_count": null,
      "outputs": []
    },
    {
      "cell_type": "markdown",
      "source": [
        "Permute"
      ],
      "metadata": {
        "id": "3AmEtXW7bRe3"
      }
    },
    {
      "cell_type": "code",
      "source": [
        "# torch.permute - rearranges the dimensions of a target tensor in  a specified order\n"
      ],
      "metadata": {
        "id": "MNgI9Di3bT0P"
      },
      "execution_count": null,
      "outputs": []
    },
    {
      "cell_type": "code",
      "source": [
        "x_original = torch.rand(size=(3,1,3))\n",
        "x_original"
      ],
      "metadata": {
        "colab": {
          "base_uri": "https://localhost:8080/"
        },
        "id": "AAcqA9qPeep9",
        "outputId": "2242229c-dc35-4a5b-b119-d3724879af94"
      },
      "execution_count": 119,
      "outputs": [
        {
          "output_type": "execute_result",
          "data": {
            "text/plain": [
              "tensor([[[0.9885, 0.1373, 0.3152]],\n",
              "\n",
              "        [[0.7101, 0.4016, 0.8908]],\n",
              "\n",
              "        [[0.9085, 0.0569, 0.5652]]])"
            ]
          },
          "metadata": {},
          "execution_count": 119
        }
      ]
    },
    {
      "cell_type": "code",
      "source": [
        "x_original = torch.rand(size=(3,2,3))\n",
        "x_original"
      ],
      "metadata": {
        "colab": {
          "base_uri": "https://localhost:8080/"
        },
        "id": "b0mgZGVwegZC",
        "outputId": "039fde17-1302-4889-8965-1825b9a09a85"
      },
      "execution_count": 120,
      "outputs": [
        {
          "output_type": "execute_result",
          "data": {
            "text/plain": [
              "tensor([[[0.8810, 0.2498, 0.1121],\n",
              "         [0.4779, 0.1717, 0.0825]],\n",
              "\n",
              "        [[0.4349, 0.9719, 0.1121],\n",
              "         [0.5092, 0.8355, 0.4836]],\n",
              "\n",
              "        [[0.0012, 0.7512, 0.1214],\n",
              "         [0.0959, 0.6592, 0.0729]]])"
            ]
          },
          "metadata": {},
          "execution_count": 120
        }
      ]
    },
    {
      "cell_type": "code",
      "source": [
        "x_original = torch.rand(size=(3,3,3))\n",
        "x_original"
      ],
      "metadata": {
        "colab": {
          "base_uri": "https://localhost:8080/"
        },
        "id": "9ZMlIaaJeiEZ",
        "outputId": "e517dbfb-a8a8-45db-9293-bb65113151eb"
      },
      "execution_count": 121,
      "outputs": [
        {
          "output_type": "execute_result",
          "data": {
            "text/plain": [
              "tensor([[[0.6109, 0.2563, 0.7183],\n",
              "         [0.0958, 0.8393, 0.0379],\n",
              "         [0.5967, 0.2179, 0.4423]],\n",
              "\n",
              "        [[0.8180, 0.8862, 0.8410],\n",
              "         [0.0923, 0.4461, 0.6103],\n",
              "         [0.9921, 0.6210, 0.6144]],\n",
              "\n",
              "        [[0.9199, 0.3824, 0.3819],\n",
              "         [0.9596, 0.8841, 0.7145],\n",
              "         [0.7760, 0.9458, 0.3092]]])"
            ]
          },
          "metadata": {},
          "execution_count": 121
        }
      ]
    },
    {
      "cell_type": "code",
      "source": [
        "x_original = torch.rand(size=(224,224,3))\n",
        "x_permuted = x_original.permute(2,0,1)\n",
        "x_permuted\n",
        "print(f\"Size of the original tensor {x_original.shape}\")\n",
        "print(f\"Size of the permutted tensor {x_permuted.shape}\")"
      ],
      "metadata": {
        "colab": {
          "base_uri": "https://localhost:8080/"
        },
        "id": "EcopsP91fkd4",
        "outputId": "f79e8099-4480-46b1-aa66-519fb9888aa7"
      },
      "execution_count": 127,
      "outputs": [
        {
          "output_type": "stream",
          "name": "stdout",
          "text": [
            "Size of the original tensor torch.Size([224, 224, 3])\n",
            "Size of the permutted tensor torch.Size([3, 224, 224])\n"
          ]
        }
      ]
    },
    {
      "cell_type": "code",
      "source": [],
      "metadata": {
        "id": "Ev0A88PbfswX"
      },
      "execution_count": 128,
      "outputs": []
    },
    {
      "cell_type": "code",
      "source": [],
      "metadata": {
        "id": "wg81RsM0hDo7"
      },
      "execution_count": null,
      "outputs": []
    },
    {
      "cell_type": "markdown",
      "source": [
        "#Indexing"
      ],
      "metadata": {
        "id": "qqTbv_XyhwZX"
      }
    },
    {
      "cell_type": "code",
      "source": [
        "import torch\n"
      ],
      "metadata": {
        "id": "x42BUGb3hxvq"
      },
      "execution_count": 132,
      "outputs": []
    },
    {
      "cell_type": "code",
      "source": [
        "x = torch.arange(1,10).reshape(1,3,3)\n",
        "x"
      ],
      "metadata": {
        "colab": {
          "base_uri": "https://localhost:8080/"
        },
        "id": "KQuje9C9iTOv",
        "outputId": "10963e86-f2f8-4b1f-c7ed-6443f5a8e0cd"
      },
      "execution_count": 141,
      "outputs": [
        {
          "output_type": "execute_result",
          "data": {
            "text/plain": [
              "tensor([[[1, 2, 3],\n",
              "         [4, 5, 6],\n",
              "         [7, 8, 9]]])"
            ]
          },
          "metadata": {},
          "execution_count": 141
        }
      ]
    },
    {
      "cell_type": "code",
      "source": [
        "x[0]"
      ],
      "metadata": {
        "colab": {
          "base_uri": "https://localhost:8080/"
        },
        "id": "G0MUvf_ziVbL",
        "outputId": "57377046-b307-4893-922b-2e7714fa1d6d"
      },
      "execution_count": 142,
      "outputs": [
        {
          "output_type": "execute_result",
          "data": {
            "text/plain": [
              "tensor([[1, 2, 3],\n",
              "        [4, 5, 6],\n",
              "        [7, 8, 9]])"
            ]
          },
          "metadata": {},
          "execution_count": 142
        }
      ]
    },
    {
      "cell_type": "code",
      "source": [
        "x[0][0]"
      ],
      "metadata": {
        "colab": {
          "base_uri": "https://localhost:8080/"
        },
        "id": "GticNkhqigPL",
        "outputId": "d7b5d86b-4b60-4d93-e843-ce0c63189f1d"
      },
      "execution_count": 143,
      "outputs": [
        {
          "output_type": "execute_result",
          "data": {
            "text/plain": [
              "tensor([1, 2, 3])"
            ]
          },
          "metadata": {},
          "execution_count": 143
        }
      ]
    },
    {
      "cell_type": "code",
      "source": [
        "x[0,2,2]"
      ],
      "metadata": {
        "colab": {
          "base_uri": "https://localhost:8080/"
        },
        "id": "dsbTuTVWloeY",
        "outputId": "cadd2e00-cb6c-4718-c42a-e3b97f160a06"
      },
      "execution_count": 144,
      "outputs": [
        {
          "output_type": "execute_result",
          "data": {
            "text/plain": [
              "tensor(9)"
            ]
          },
          "metadata": {},
          "execution_count": 144
        }
      ]
    },
    {
      "cell_type": "code",
      "source": [
        "x[:,:,0]"
      ],
      "metadata": {
        "colab": {
          "base_uri": "https://localhost:8080/"
        },
        "id": "EUOgPVMulrZ3",
        "outputId": "95049712-a108-49d5-8e65-abe6871f98d9"
      },
      "execution_count": 148,
      "outputs": [
        {
          "output_type": "execute_result",
          "data": {
            "text/plain": [
              "tensor([[1, 4, 7]])"
            ]
          },
          "metadata": {},
          "execution_count": 148
        }
      ]
    },
    {
      "cell_type": "code",
      "source": [
        "x[:,1,2]"
      ],
      "metadata": {
        "colab": {
          "base_uri": "https://localhost:8080/"
        },
        "id": "Cm2BTdIxn4Vx",
        "outputId": "da916b7c-8b04-4524-f27a-b27aecbf2633"
      },
      "execution_count": 150,
      "outputs": [
        {
          "output_type": "execute_result",
          "data": {
            "text/plain": [
              "tensor([6])"
            ]
          },
          "metadata": {},
          "execution_count": 150
        }
      ]
    },
    {
      "cell_type": "code",
      "source": [
        "x[0,0,:]"
      ],
      "metadata": {
        "colab": {
          "base_uri": "https://localhost:8080/"
        },
        "id": "SKR71MnBobSy",
        "outputId": "5a14398c-7a71-493e-a5e7-08a007023430"
      },
      "execution_count": 152,
      "outputs": [
        {
          "output_type": "execute_result",
          "data": {
            "text/plain": [
              "tensor([1, 2, 3])"
            ]
          },
          "metadata": {},
          "execution_count": 152
        }
      ]
    },
    {
      "cell_type": "code",
      "source": [
        "x[0,2,2]"
      ],
      "metadata": {
        "colab": {
          "base_uri": "https://localhost:8080/"
        },
        "id": "4hfScaSqommo",
        "outputId": "5d686393-68dd-46bf-8e1d-657cfc48a964"
      },
      "execution_count": 154,
      "outputs": [
        {
          "output_type": "execute_result",
          "data": {
            "text/plain": [
              "tensor(9)"
            ]
          },
          "metadata": {},
          "execution_count": 154
        }
      ]
    },
    {
      "cell_type": "code",
      "source": [
        "x[:,:,2]"
      ],
      "metadata": {
        "colab": {
          "base_uri": "https://localhost:8080/"
        },
        "id": "6A6EnOA_pXSI",
        "outputId": "056a9bbc-7355-42c3-866e-f31718e832bc"
      },
      "execution_count": 155,
      "outputs": [
        {
          "output_type": "execute_result",
          "data": {
            "text/plain": [
              "tensor([[3, 6, 9]])"
            ]
          },
          "metadata": {},
          "execution_count": 155
        }
      ]
    },
    {
      "cell_type": "code",
      "source": [],
      "metadata": {
        "id": "iNA3JHQQphyq"
      },
      "execution_count": null,
      "outputs": []
    }
  ]
}