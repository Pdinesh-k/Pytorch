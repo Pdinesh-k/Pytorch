{
  "nbformat": 4,
  "nbformat_minor": 0,
  "metadata": {
    "colab": {
      "name": "00_pytorch_fundamentals_exercises.ipynb",
      "provenance": [],
      "gpuType": "T4"
    },
    "kernelspec": {
      "name": "python3",
      "display_name": "Python 3"
    },
    "language_info": {
      "name": "python"
    },
    "accelerator": "GPU"
  },
  "cells": [
    {
      "cell_type": "markdown",
      "source": [
        "# 00. PyTorch Fundamentals Exercises\n",
        "\n"
      ],
      "metadata": {
        "id": "AzDBM_v4iMe7"
      }
    },
    {
      "cell_type": "code",
      "source": [
        "# No code solution (reading)"
      ],
      "metadata": {
        "id": "bGD0oD8Kizak"
      },
      "execution_count": 1,
      "outputs": []
    },
    {
      "cell_type": "markdown",
      "source": [
        "### 1. Create a random tensor with shape `(7, 7)`.\n"
      ],
      "metadata": {
        "id": "__iXqqz-ioUJ"
      }
    },
    {
      "cell_type": "code",
      "source": [
        "# Import torch\n",
        "import torch\n",
        "\n",
        "\n",
        "# Create random tensor\n",
        "torch.rand(7,7)"
      ],
      "metadata": {
        "id": "6pUq9Dc8i2L7",
        "outputId": "8e40c6e6-60a6-4cc2-b330-4f7ea30f3a9d",
        "colab": {
          "base_uri": "https://localhost:8080/"
        }
      },
      "execution_count": 2,
      "outputs": [
        {
          "output_type": "execute_result",
          "data": {
            "text/plain": [
              "tensor([[0.4127, 0.6385, 0.2622, 0.2295, 0.5955, 0.6789, 0.5832],\n",
              "        [0.4070, 0.2638, 0.7251, 0.2609, 0.0389, 0.9888, 0.6255],\n",
              "        [0.9250, 0.2089, 0.1162, 0.5572, 0.5645, 0.2662, 0.7862],\n",
              "        [0.0359, 0.0344, 0.2136, 0.4949, 0.0578, 0.6923, 0.8177],\n",
              "        [0.9919, 0.7513, 0.2929, 0.4269, 0.1456, 0.2422, 0.5484],\n",
              "        [0.4891, 0.6049, 0.5373, 0.8634, 0.4139, 0.0537, 0.7793],\n",
              "        [0.3880, 0.4293, 0.9871, 0.1739, 0.4362, 0.6838, 0.7627]])"
            ]
          },
          "metadata": {},
          "execution_count": 2
        }
      ]
    },
    {
      "cell_type": "markdown",
      "source": [
        "### 2. Perform a matrix multiplication on the tensor from 2 with another random tensor with shape `(1, 7)` (hint: you may have to transpose the second tensor)."
      ],
      "metadata": {
        "id": "9-XxvRLfiqkR"
      }
    },
    {
      "cell_type": "code",
      "source": [
        "# Create another random tensor\n",
        "tensor_1 = torch.rand(1,7)\n",
        "tensor_2 = tensor_1.T\n",
        "\n",
        "\n",
        "# Perform matrix multiplication\n",
        "mul = torch.matmul(tensor_1,tensor_2)\n",
        "mul"
      ],
      "metadata": {
        "id": "NcLqR0Sbi_vT",
        "outputId": "4170aa53-d97e-44f6-b72a-2da88ad548ba",
        "colab": {
          "base_uri": "https://localhost:8080/"
        }
      },
      "execution_count": 3,
      "outputs": [
        {
          "output_type": "execute_result",
          "data": {
            "text/plain": [
              "tensor([[2.6128]])"
            ]
          },
          "metadata": {},
          "execution_count": 3
        }
      ]
    },
    {
      "cell_type": "markdown",
      "source": [
        "### 3. Set the random seed to `0` and do 2 & 3 over again.\n",
        "\n"
      ],
      "metadata": {
        "id": "eiutdKUFiryU"
      }
    },
    {
      "cell_type": "code",
      "source": [
        "# Set manual seed\n",
        "RANDOM_SEED = 0\n",
        "torch.manual_seed(RANDOM_SEED)\n",
        "\n",
        "\n",
        "# Create two random tensors\n",
        "x = torch.rand(size = (7,1))\n",
        "y = x.T\n",
        "\n",
        "\n",
        "# Matrix multiply tensors\n",
        "z = torch.matmul(x,y)\n",
        "size = z.size()\n",
        "z , size"
      ],
      "metadata": {
        "id": "D-lOWI_1jRMm",
        "outputId": "c128e9f2-87e2-48af-f043-20e8d00bd2e1",
        "colab": {
          "base_uri": "https://localhost:8080/"
        }
      },
      "execution_count": 4,
      "outputs": [
        {
          "output_type": "execute_result",
          "data": {
            "text/plain": [
              "(tensor([[0.2463, 0.3812, 0.0439, 0.0655, 0.1526, 0.3147, 0.2432],\n",
              "         [0.3812, 0.5902, 0.0680, 0.1014, 0.2362, 0.4871, 0.3765],\n",
              "         [0.0439, 0.0680, 0.0078, 0.0117, 0.0272, 0.0561, 0.0434],\n",
              "         [0.0655, 0.1014, 0.0117, 0.0174, 0.0406, 0.0837, 0.0647],\n",
              "         [0.1526, 0.2362, 0.0272, 0.0406, 0.0945, 0.1949, 0.1507],\n",
              "         [0.3147, 0.4871, 0.0561, 0.0837, 0.1949, 0.4021, 0.3108],\n",
              "         [0.2432, 0.3765, 0.0434, 0.0647, 0.1507, 0.3108, 0.2402]]),\n",
              " torch.Size([7, 7]))"
            ]
          },
          "metadata": {},
          "execution_count": 4
        }
      ]
    },
    {
      "cell_type": "markdown",
      "source": [
        "### 4. Speaking of random seeds, we saw how to set it with `torch.manual_seed()` but is there a GPU equivalent? (hint: you'll need to look into the documentation for `torch.cuda` for this one)\n",
        "  * If there is, set the GPU random seed to `1234`."
      ],
      "metadata": {
        "id": "ezY6ks9Cis37"
      }
    },
    {
      "cell_type": "code",
      "source": [
        "# Set random seed on the GPU\n",
        "RANDOM_SEED = 1234\n",
        "torch.cuda.is_available()\n",
        "torch.cuda.manual_seed(RANDOM_SEED)"
      ],
      "metadata": {
        "id": "_LKWcfSTjp00"
      },
      "execution_count": 5,
      "outputs": []
    },
    {
      "cell_type": "markdown",
      "source": [
        "\n",
        "### 5. Create two random tensors of shape `(2, 3)` and send them both to the GPU (you'll need access to a GPU for this). Set `torch.manual_seed(1234)` when creating the tensors (this doesn't have to be the GPU random seed). The output should be something like:\n",
        "\n",
        "```\n",
        "Device: cuda\n",
        "(tensor([[0.0290, 0.4019, 0.2598],\n",
        "         [0.3666, 0.0583, 0.7006]], device='cuda:0'),\n",
        " tensor([[0.0518, 0.4681, 0.6738],\n",
        "         [0.3315, 0.7837, 0.5631]], device='cuda:0'))\n",
        "```"
      ],
      "metadata": {
        "id": "Ir9qSaj6it4n"
      }
    },
    {
      "cell_type": "code",
      "source": [
        "# Set random seed\n",
        "RANDOM_SEED = 1234\n",
        "torch.manual_seed(RANDOM_SEED)\n",
        "\n",
        "# Check for access to GPU\n",
        "device = torch.device(\"cuda\" if torch.cuda.is_available() else \"cpu\")\n",
        "\n",
        "# Create two random tensors on GPU\n",
        "tensors = torch.rand((2,3),device = device)\n",
        "torch.cuda.manual_seed(RANDOM_SEED)\n",
        "tensors_1 = torch.rand((2,3),device = device)\n",
        "tensors"
      ],
      "metadata": {
        "id": "azXExiFZj5nm",
        "outputId": "56482702-9686-4123-c421-0006db1abb89",
        "colab": {
          "base_uri": "https://localhost:8080/"
        }
      },
      "execution_count": 6,
      "outputs": [
        {
          "output_type": "execute_result",
          "data": {
            "text/plain": [
              "tensor([[0.1272, 0.8167, 0.5440],\n",
              "        [0.6601, 0.2721, 0.9737]], device='cuda:0')"
            ]
          },
          "metadata": {},
          "execution_count": 6
        }
      ]
    },
    {
      "cell_type": "code",
      "source": [
        "tensors_1"
      ],
      "metadata": {
        "id": "59uBb3v53moV",
        "outputId": "ef52d2ba-e962-432a-d924-a53af7668e79",
        "colab": {
          "base_uri": "https://localhost:8080/"
        }
      },
      "execution_count": 7,
      "outputs": [
        {
          "output_type": "execute_result",
          "data": {
            "text/plain": [
              "tensor([[0.1272, 0.8167, 0.5440],\n",
              "        [0.6601, 0.2721, 0.9737]], device='cuda:0')"
            ]
          },
          "metadata": {},
          "execution_count": 7
        }
      ]
    },
    {
      "cell_type": "markdown",
      "source": [
        "\n",
        "### 6. Perform a matrix multiplication on the tensors you created in 6 (again, you may have to adjust the shapes of one of the tensors).\n",
        "\n",
        "The output should look like:\n",
        "```\n",
        "(tensor([[0.3647, 0.4709],\n",
        "         [0.5184, 0.5617]], device='cuda:0'), torch.Size([2, 2]))\n",
        "```"
      ],
      "metadata": {
        "id": "5TlAxeiSiu1y"
      }
    },
    {
      "cell_type": "code",
      "source": [
        "# Perform matmul on tensor_A and tensor_B\n",
        "tensors_2 = tensors.T\n",
        "mul = torch.matmul(tensors , tensors_2)\n",
        "print(mul)\n",
        "print(mul.size())\n"
      ],
      "metadata": {
        "id": "fAeG7ox0lHEO",
        "outputId": "10bcd3c6-4ff8-4b6c-c21b-d3b78d39b599",
        "colab": {
          "base_uri": "https://localhost:8080/"
        }
      },
      "execution_count": 8,
      "outputs": [
        {
          "output_type": "stream",
          "name": "stdout",
          "text": [
            "tensor([[0.9792, 0.8358],\n",
            "        [0.8358, 1.4578]], device='cuda:0')\n",
            "torch.Size([2, 2])\n"
          ]
        }
      ]
    },
    {
      "cell_type": "markdown",
      "source": [
        "### 7. Find the maximum and minimum values of the output of 7."
      ],
      "metadata": {
        "id": "G7qfa5CSivwg"
      }
    },
    {
      "cell_type": "code",
      "source": [
        "# Find max\n",
        "torch.max(mul)\n",
        "\n",
        "# Find min\n",
        "torch.min(mul)\n"
      ],
      "metadata": {
        "id": "Fu8_3mZpllOd",
        "outputId": "ffeef925-7fd0-4fa2-b37b-59689102d4cb",
        "colab": {
          "base_uri": "https://localhost:8080/"
        }
      },
      "execution_count": 9,
      "outputs": [
        {
          "output_type": "execute_result",
          "data": {
            "text/plain": [
              "tensor(0.8358, device='cuda:0')"
            ]
          },
          "metadata": {},
          "execution_count": 9
        }
      ]
    },
    {
      "cell_type": "markdown",
      "source": [
        "### 8. Find the maximum and minimum index values of the output of 7."
      ],
      "metadata": {
        "id": "wrTj5FgNiw47"
      }
    },
    {
      "cell_type": "code",
      "source": [
        "# Find arg max\n",
        "torch.argmax(mul)\n",
        "\n",
        "\n",
        "# Find arg min\n",
        "torch.argmin(mul)\n"
      ],
      "metadata": {
        "id": "CCEKt4K2lsfQ",
        "outputId": "d8ab9790-8ff7-4137-eeaf-750b07831e61",
        "colab": {
          "base_uri": "https://localhost:8080/"
        }
      },
      "execution_count": 10,
      "outputs": [
        {
          "output_type": "execute_result",
          "data": {
            "text/plain": [
              "tensor(1, device='cuda:0')"
            ]
          },
          "metadata": {},
          "execution_count": 10
        }
      ]
    },
    {
      "cell_type": "markdown",
      "source": [
        "\n",
        "### 9. Make a random tensor with shape `(1, 1, 1, 10)` and then create a new tensor with all the `1` dimensions removed to be left with a tensor of shape `(10)`. Set the seed to `7` when you create it and print out the first tensor and it's shape as well as the second tensor and it's shape.\n",
        "\n",
        "The output should look like:\n",
        "\n",
        "```\n",
        "tensor([[[[0.5349, 0.1988, 0.6592, 0.6569, 0.2328, 0.4251, 0.2071, 0.6297,\n",
        "           0.3653, 0.8513]]]]) torch.Size([1, 1, 1, 10])\n",
        "tensor([0.5349, 0.1988, 0.6592, 0.6569, 0.2328, 0.4251, 0.2071, 0.6297, 0.3653,\n",
        "        0.8513]) torch.Size([10])\n",
        "```"
      ],
      "metadata": {
        "id": "hmeybz4uixy7"
      }
    },
    {
      "cell_type": "code",
      "source": [
        "# Set seed\n",
        "RANDOM_SEED = 7\n",
        "# Create random tensor\n",
        "tensor = torch.rand(size=(1,1,1,10))\n",
        "# Remove single dimensions\n",
        "tensor_1 = tensor.squeeze()\n",
        "# Print out tensors and their shapes\n",
        "print(tensor,tensor.shape)"
      ],
      "metadata": {
        "id": "TQ9zbRzVl1jV",
        "outputId": "3f5ecd74-e48e-4130-8018-b17eb67b46f8",
        "colab": {
          "base_uri": "https://localhost:8080/"
        }
      },
      "execution_count": 14,
      "outputs": [
        {
          "output_type": "stream",
          "name": "stdout",
          "text": [
            "tensor([[[[0.7837, 0.5631, 0.7749, 0.8208, 0.2793, 0.6817, 0.2837, 0.6567,\n",
            "           0.2388, 0.7313]]]]) torch.Size([1, 1, 1, 10])\n"
          ]
        }
      ]
    },
    {
      "cell_type": "code",
      "source": [
        "print(tensor_1,tensor_1.shape)"
      ],
      "metadata": {
        "id": "O-MSNNDLK5Bw",
        "outputId": "aa0e9174-a90e-49ea-b1af-32095f3f3d14",
        "colab": {
          "base_uri": "https://localhost:8080/"
        }
      },
      "execution_count": 15,
      "outputs": [
        {
          "output_type": "stream",
          "name": "stdout",
          "text": [
            "tensor([0.7837, 0.5631, 0.7749, 0.8208, 0.2793, 0.6817, 0.2837, 0.6567, 0.2388,\n",
            "        0.7313]) torch.Size([10])\n"
          ]
        }
      ]
    },
    {
      "cell_type": "code",
      "source": [],
      "metadata": {
        "id": "NvaBfiGwK-q-"
      },
      "execution_count": null,
      "outputs": []
    }
  ]
}