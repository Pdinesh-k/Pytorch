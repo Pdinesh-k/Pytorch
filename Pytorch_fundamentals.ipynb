{
  "nbformat": 4,
  "nbformat_minor": 0,
  "metadata": {
    "colab": {
      "provenance": []
    },
    "kernelspec": {
      "name": "python3",
      "display_name": "Python 3"
    },
    "language_info": {
      "name": "python"
    }
  },
  "cells": [
    {
      "cell_type": "code",
      "source": [
        "import torch\n",
        "import pandas as pd\n",
        "import numpy as np\n",
        "import matplotlib.pyplot as plt\n",
        "import plotly.express as px"
      ],
      "metadata": {
        "id": "JXdVZli3Dkqr"
      },
      "execution_count": 1,
      "outputs": []
    },
    {
      "cell_type": "markdown",
      "source": [
        "#Introduction to tensors"
      ],
      "metadata": {
        "id": "xuuGyvJnEcZZ"
      }
    },
    {
      "cell_type": "markdown",
      "source": [
        "Creating tensors"
      ],
      "metadata": {
        "id": "14THqpVCF5lU"
      }
    },
    {
      "cell_type": "code",
      "source": [
        "#Scalar\n",
        "scalar = torch.tensor(7)\n",
        "scalar"
      ],
      "metadata": {
        "colab": {
          "base_uri": "https://localhost:8080/"
        },
        "id": "L3lfmT-_F4pS",
        "outputId": "a5833b87-e5b6-4025-a1a2-aabddebba956"
      },
      "execution_count": 2,
      "outputs": [
        {
          "output_type": "execute_result",
          "data": {
            "text/plain": [
              "tensor(7)"
            ]
          },
          "metadata": {},
          "execution_count": 2
        }
      ]
    },
    {
      "cell_type": "code",
      "source": [
        "#Get the tensor back to int\n",
        "scalar.item()"
      ],
      "metadata": {
        "colab": {
          "base_uri": "https://localhost:8080/"
        },
        "id": "JAYLtt4MO_-i",
        "outputId": "490d81eb-db7f-4eff-f86a-bf50ab41b9e8"
      },
      "execution_count": 3,
      "outputs": [
        {
          "output_type": "execute_result",
          "data": {
            "text/plain": [
              "7"
            ]
          },
          "metadata": {},
          "execution_count": 3
        }
      ]
    },
    {
      "cell_type": "code",
      "source": [
        "#Vector\n",
        "vector = torch.tensor([7,7])\n",
        "vector"
      ],
      "metadata": {
        "colab": {
          "base_uri": "https://localhost:8080/"
        },
        "id": "aafFZb_COaH5",
        "outputId": "76d5fe45-c997-494a-b9b7-e7a387e5e0b5"
      },
      "execution_count": 4,
      "outputs": [
        {
          "output_type": "execute_result",
          "data": {
            "text/plain": [
              "tensor([7, 7])"
            ]
          },
          "metadata": {},
          "execution_count": 4
        }
      ]
    },
    {
      "cell_type": "code",
      "source": [
        "vector.ndim"
      ],
      "metadata": {
        "colab": {
          "base_uri": "https://localhost:8080/"
        },
        "id": "0gufxfvGOiMJ",
        "outputId": "0bb1b886-8ad6-45e2-9aaf-b7674daa522b"
      },
      "execution_count": 5,
      "outputs": [
        {
          "output_type": "execute_result",
          "data": {
            "text/plain": [
              "1"
            ]
          },
          "metadata": {},
          "execution_count": 5
        }
      ]
    },
    {
      "cell_type": "code",
      "source": [
        "vector.shape"
      ],
      "metadata": {
        "colab": {
          "base_uri": "https://localhost:8080/"
        },
        "id": "OcoiTJcKOmki",
        "outputId": "75893321-b94a-4c92-e12f-48a7372297fd"
      },
      "execution_count": 6,
      "outputs": [
        {
          "output_type": "execute_result",
          "data": {
            "text/plain": [
              "torch.Size([2])"
            ]
          },
          "metadata": {},
          "execution_count": 6
        }
      ]
    },
    {
      "cell_type": "code",
      "source": [
        "#Matrix\n",
        "\n",
        "MATRIX = torch.tensor([[5,1],\n",
        "                        [8,1]])\n",
        "MATRIX"
      ],
      "metadata": {
        "colab": {
          "base_uri": "https://localhost:8080/"
        },
        "id": "AuVKGC4lOqDv",
        "outputId": "d08811e1-4350-4133-f697-e6ae7ce4cf5b"
      },
      "execution_count": 7,
      "outputs": [
        {
          "output_type": "execute_result",
          "data": {
            "text/plain": [
              "tensor([[5, 1],\n",
              "        [8, 1]])"
            ]
          },
          "metadata": {},
          "execution_count": 7
        }
      ]
    },
    {
      "cell_type": "code",
      "source": [
        "MATRIX.shape"
      ],
      "metadata": {
        "colab": {
          "base_uri": "https://localhost:8080/"
        },
        "id": "OSVjiKW6P2t0",
        "outputId": "16536c88-917c-458c-c92a-4317087be2a6"
      },
      "execution_count": 8,
      "outputs": [
        {
          "output_type": "execute_result",
          "data": {
            "text/plain": [
              "torch.Size([2, 2])"
            ]
          },
          "metadata": {},
          "execution_count": 8
        }
      ]
    },
    {
      "cell_type": "code",
      "source": [
        "MATRIX.ndim"
      ],
      "metadata": {
        "colab": {
          "base_uri": "https://localhost:8080/"
        },
        "id": "B4ZA20htP-MS",
        "outputId": "fe442e96-7ea3-49c5-ee67-89e74014e21f"
      },
      "execution_count": 9,
      "outputs": [
        {
          "output_type": "execute_result",
          "data": {
            "text/plain": [
              "2"
            ]
          },
          "metadata": {},
          "execution_count": 9
        }
      ]
    },
    {
      "cell_type": "code",
      "source": [
        "#TENSOR\n",
        "TENSOR = torch.tensor([[[1,2,3],\n",
        "                        [4,5,6],\n",
        "                        [7,8,9]]])\n",
        "TENSOR"
      ],
      "metadata": {
        "colab": {
          "base_uri": "https://localhost:8080/"
        },
        "id": "UpQ_WIbNQDij",
        "outputId": "1c0335ab-72da-4df7-a21a-02c9f5e9ebe2"
      },
      "execution_count": 10,
      "outputs": [
        {
          "output_type": "execute_result",
          "data": {
            "text/plain": [
              "tensor([[[1, 2, 3],\n",
              "         [4, 5, 6],\n",
              "         [7, 8, 9]]])"
            ]
          },
          "metadata": {},
          "execution_count": 10
        }
      ]
    },
    {
      "cell_type": "code",
      "source": [
        "TENSOR.shape"
      ],
      "metadata": {
        "colab": {
          "base_uri": "https://localhost:8080/"
        },
        "id": "5w4GUansQXji",
        "outputId": "74584e7b-01b1-4de6-c19e-d11101bf2331"
      },
      "execution_count": 11,
      "outputs": [
        {
          "output_type": "execute_result",
          "data": {
            "text/plain": [
              "torch.Size([1, 3, 3])"
            ]
          },
          "metadata": {},
          "execution_count": 11
        }
      ]
    },
    {
      "cell_type": "code",
      "source": [
        "TENSOR.ndim"
      ],
      "metadata": {
        "colab": {
          "base_uri": "https://localhost:8080/"
        },
        "id": "daySen6KQZ84",
        "outputId": "31bd528b-0d98-4318-c008-42d0d93261f0"
      },
      "execution_count": 12,
      "outputs": [
        {
          "output_type": "execute_result",
          "data": {
            "text/plain": [
              "3"
            ]
          },
          "metadata": {},
          "execution_count": 12
        }
      ]
    },
    {
      "cell_type": "code",
      "source": [
        "TENSOR1 = torch.tensor([[[[1,2,3,4],\n",
        "                          [5,6,7,8],\n",
        "                          [9,10,11,12],\n",
        "                          [13,14,15,16]]]])"
      ],
      "metadata": {
        "id": "fBHTZk1cQbrM"
      },
      "execution_count": 13,
      "outputs": []
    },
    {
      "cell_type": "code",
      "source": [
        "TENSOR1.shape"
      ],
      "metadata": {
        "colab": {
          "base_uri": "https://localhost:8080/"
        },
        "id": "kBk-eSQHSNLS",
        "outputId": "28a45f4e-199b-48e5-aa90-211f8f3dd1dc"
      },
      "execution_count": 14,
      "outputs": [
        {
          "output_type": "execute_result",
          "data": {
            "text/plain": [
              "torch.Size([1, 1, 4, 4])"
            ]
          },
          "metadata": {},
          "execution_count": 14
        }
      ]
    },
    {
      "cell_type": "markdown",
      "source": [
        "#RANDOM TENSORS"
      ],
      "metadata": {
        "id": "XsLCibYnSQRh"
      }
    },
    {
      "cell_type": "markdown",
      "source": [
        "Random tensors are important because the way many neural networks learn is that they start with full of random numbers and then adjust the random numbers to better represent the data"
      ],
      "metadata": {
        "id": "K-WPlgpnTeKR"
      }
    },
    {
      "cell_type": "markdown",
      "source": [
        "Start with random numbers -> look at data -> update random numbers -> look at data -> update random numbers"
      ],
      "metadata": {
        "id": "-aEqZJ9UTu_z"
      }
    },
    {
      "cell_type": "code",
      "source": [
        "#create a random tensor of size (3,4)\n",
        "random_tensor = torch.rand(3,4)\n",
        "random_tensor"
      ],
      "metadata": {
        "colab": {
          "base_uri": "https://localhost:8080/"
        },
        "id": "4ms4QZW-TNKC",
        "outputId": "8e9129f8-8bb9-4091-860a-18309c0cbf3c"
      },
      "execution_count": 15,
      "outputs": [
        {
          "output_type": "execute_result",
          "data": {
            "text/plain": [
              "tensor([[0.5940, 0.0626, 0.6214, 0.9347],\n",
              "        [0.8137, 0.4053, 0.9139, 0.2210],\n",
              "        [0.7845, 0.4735, 0.5853, 0.0069]])"
            ]
          },
          "metadata": {},
          "execution_count": 15
        }
      ]
    },
    {
      "cell_type": "code",
      "source": [
        "#create a random tensor with similar to an image tensor\n",
        "random_image_size_tensor = torch.rand(size=(224,224,3)) #height #width #color channels\n",
        "random_image_size_tensor"
      ],
      "metadata": {
        "colab": {
          "base_uri": "https://localhost:8080/"
        },
        "id": "mqoar-4rUan4",
        "outputId": "99bd256f-5ea3-4c56-87f7-f645c03cc2f2"
      },
      "execution_count": 16,
      "outputs": [
        {
          "output_type": "execute_result",
          "data": {
            "text/plain": [
              "tensor([[[0.2946, 0.6351, 0.5422],\n",
              "         [0.0116, 0.5269, 0.9106],\n",
              "         [0.9455, 0.0295, 0.3021],\n",
              "         ...,\n",
              "         [0.9833, 0.2824, 0.4855],\n",
              "         [0.9665, 0.5560, 0.7593],\n",
              "         [0.8399, 0.8804, 0.8531]],\n",
              "\n",
              "        [[0.4492, 0.5865, 0.3816],\n",
              "         [0.9803, 0.7074, 0.8205],\n",
              "         [0.7904, 0.1680, 0.0046],\n",
              "         ...,\n",
              "         [0.8369, 0.4524, 0.0958],\n",
              "         [0.4404, 0.3435, 0.1700],\n",
              "         [0.2799, 0.1278, 0.4204]],\n",
              "\n",
              "        [[0.9536, 0.6115, 0.4732],\n",
              "         [0.3104, 0.0947, 0.3205],\n",
              "         [0.0684, 0.6650, 0.1100],\n",
              "         ...,\n",
              "         [0.9660, 0.9552, 0.9333],\n",
              "         [0.2054, 0.2581, 0.8598],\n",
              "         [0.8701, 0.9624, 0.7938]],\n",
              "\n",
              "        ...,\n",
              "\n",
              "        [[0.8810, 0.3763, 0.8355],\n",
              "         [0.2536, 0.8975, 0.7127],\n",
              "         [0.2306, 0.2077, 0.5697],\n",
              "         ...,\n",
              "         [0.0424, 0.1652, 0.7686],\n",
              "         [0.0268, 0.4884, 0.3542],\n",
              "         [0.8785, 0.5032, 0.0976]],\n",
              "\n",
              "        [[0.3263, 0.2452, 0.7429],\n",
              "         [0.1469, 0.8440, 0.7567],\n",
              "         [0.8543, 0.1862, 0.0833],\n",
              "         ...,\n",
              "         [0.8189, 0.1968, 0.0291],\n",
              "         [0.1417, 0.3785, 0.6005],\n",
              "         [0.5068, 0.1492, 0.4808]],\n",
              "\n",
              "        [[0.2414, 0.7497, 0.5808],\n",
              "         [0.7722, 0.5560, 0.7069],\n",
              "         [0.8926, 0.6571, 0.5593],\n",
              "         ...,\n",
              "         [0.4578, 0.7890, 0.2166],\n",
              "         [0.9307, 0.2179, 0.4139],\n",
              "         [0.8919, 0.1621, 0.2248]]])"
            ]
          },
          "metadata": {},
          "execution_count": 16
        }
      ]
    },
    {
      "cell_type": "code",
      "source": [
        "random_image_size_tensor.shape , random_image_size_tensor.ndim"
      ],
      "metadata": {
        "colab": {
          "base_uri": "https://localhost:8080/"
        },
        "id": "KTnmQ5_sVw0S",
        "outputId": "28ae13e1-61d6-4150-e98a-8d673e6f8038"
      },
      "execution_count": 17,
      "outputs": [
        {
          "output_type": "execute_result",
          "data": {
            "text/plain": [
              "(torch.Size([224, 224, 3]), 3)"
            ]
          },
          "metadata": {},
          "execution_count": 17
        }
      ]
    },
    {
      "cell_type": "code",
      "source": [],
      "metadata": {
        "id": "oHrAptb1WLf2"
      },
      "execution_count": 17,
      "outputs": []
    },
    {
      "cell_type": "markdown",
      "source": [
        "Zeros and ones"
      ],
      "metadata": {
        "id": "3_eshasbW3jU"
      }
    },
    {
      "cell_type": "code",
      "source": [
        "zeros = torch.zeros(2,2)\n",
        "zeros"
      ],
      "metadata": {
        "colab": {
          "base_uri": "https://localhost:8080/"
        },
        "id": "mk0MzgwaW5hS",
        "outputId": "5cb4f3fb-8011-4eda-e042-1f5c395d2728"
      },
      "execution_count": 18,
      "outputs": [
        {
          "output_type": "execute_result",
          "data": {
            "text/plain": [
              "tensor([[0., 0.],\n",
              "        [0., 0.]])"
            ]
          },
          "metadata": {},
          "execution_count": 18
        }
      ]
    },
    {
      "cell_type": "code",
      "source": [
        "ones = torch.ones(3,3)\n",
        "ones"
      ],
      "metadata": {
        "colab": {
          "base_uri": "https://localhost:8080/"
        },
        "id": "Mq1ztWfGXFcm",
        "outputId": "e14dbfd3-58f5-4cc3-b02a-738d0e013952"
      },
      "execution_count": 19,
      "outputs": [
        {
          "output_type": "execute_result",
          "data": {
            "text/plain": [
              "tensor([[1., 1., 1.],\n",
              "        [1., 1., 1.],\n",
              "        [1., 1., 1.]])"
            ]
          },
          "metadata": {},
          "execution_count": 19
        }
      ]
    },
    {
      "cell_type": "code",
      "source": [],
      "metadata": {
        "id": "9mD6XJa_XO5Y"
      },
      "execution_count": 19,
      "outputs": []
    },
    {
      "cell_type": "markdown",
      "source": [
        "Creating a range of tensors and tensor-s like"
      ],
      "metadata": {
        "id": "jr6HsLi4ZHqs"
      }
    },
    {
      "cell_type": "code",
      "source": [
        "range = torch.range(0,10)\n",
        "range"
      ],
      "metadata": {
        "colab": {
          "base_uri": "https://localhost:8080/"
        },
        "id": "6S4L1QpYZM5R",
        "outputId": "bcf0d2d8-6e7a-4686-b16d-df8824c2826c"
      },
      "execution_count": 20,
      "outputs": [
        {
          "output_type": "stream",
          "name": "stderr",
          "text": [
            "<ipython-input-20-91a60021e470>:1: UserWarning: torch.range is deprecated and will be removed in a future release because its behavior is inconsistent with Python's range builtin. Instead, use torch.arange, which produces values in [start, end).\n",
            "  range = torch.range(0,10)\n"
          ]
        },
        {
          "output_type": "execute_result",
          "data": {
            "text/plain": [
              "tensor([ 0.,  1.,  2.,  3.,  4.,  5.,  6.,  7.,  8.,  9., 10.])"
            ]
          },
          "metadata": {},
          "execution_count": 20
        }
      ]
    },
    {
      "cell_type": "code",
      "source": [
        "range = torch.arange(0,10)\n",
        "range"
      ],
      "metadata": {
        "colab": {
          "base_uri": "https://localhost:8080/"
        },
        "id": "24o2FugPZRkO",
        "outputId": "c3eb2973-0dc3-4779-d342-658f1cd75e47"
      },
      "execution_count": 21,
      "outputs": [
        {
          "output_type": "execute_result",
          "data": {
            "text/plain": [
              "tensor([0, 1, 2, 3, 4, 5, 6, 7, 8, 9])"
            ]
          },
          "metadata": {},
          "execution_count": 21
        }
      ]
    },
    {
      "cell_type": "code",
      "source": [
        "step_value = torch.arange(0,10,2)\n",
        "step_value"
      ],
      "metadata": {
        "colab": {
          "base_uri": "https://localhost:8080/"
        },
        "id": "IkDAgOEMZitQ",
        "outputId": "c0703a20-7e64-4451-edd0-829750248494"
      },
      "execution_count": 22,
      "outputs": [
        {
          "output_type": "execute_result",
          "data": {
            "text/plain": [
              "tensor([0, 2, 4, 6, 8])"
            ]
          },
          "metadata": {},
          "execution_count": 22
        }
      ]
    },
    {
      "cell_type": "code",
      "source": [],
      "metadata": {
        "id": "XKVdhilxZ46B"
      },
      "execution_count": 22,
      "outputs": []
    },
    {
      "cell_type": "markdown",
      "source": [
        "#Tensor datatypes"
      ],
      "metadata": {
        "id": "eXhWmK_RayHh"
      }
    },
    {
      "cell_type": "code",
      "source": [
        "#float32 Tensor\n",
        "float_32_tensor = torch.tensor([1.0,2.0,3.0])\n",
        "float_32_tensor"
      ],
      "metadata": {
        "colab": {
          "base_uri": "https://localhost:8080/"
        },
        "id": "snYeIPgMa0lx",
        "outputId": "c7b75bce-33a2-4574-ced4-dd864bf894b1"
      },
      "execution_count": 23,
      "outputs": [
        {
          "output_type": "execute_result",
          "data": {
            "text/plain": [
              "tensor([1., 2., 3.])"
            ]
          },
          "metadata": {},
          "execution_count": 23
        }
      ]
    },
    {
      "cell_type": "code",
      "source": [
        "float_32_tensor.dtype"
      ],
      "metadata": {
        "colab": {
          "base_uri": "https://localhost:8080/"
        },
        "id": "Fcl2dteBbPAn",
        "outputId": "7689acd5-d303-4129-d790-fb4d92893106"
      },
      "execution_count": 24,
      "outputs": [
        {
          "output_type": "execute_result",
          "data": {
            "text/plain": [
              "torch.float32"
            ]
          },
          "metadata": {},
          "execution_count": 24
        }
      ]
    },
    {
      "cell_type": "code",
      "source": [
        "#conversion of float32 to float16\n",
        "float_16_tensor = float_32_tensor.type(torch.float16)\n",
        "float_16_tensor"
      ],
      "metadata": {
        "colab": {
          "base_uri": "https://localhost:8080/"
        },
        "id": "bwJEUD6IbSNx",
        "outputId": "616bf4ad-0c0d-471f-d1b8-b132db886a4e"
      },
      "execution_count": 25,
      "outputs": [
        {
          "output_type": "execute_result",
          "data": {
            "text/plain": [
              "tensor([1., 2., 3.], dtype=torch.float16)"
            ]
          },
          "metadata": {},
          "execution_count": 25
        }
      ]
    },
    {
      "cell_type": "code",
      "source": [
        "#int datatype\n",
        "int_32_tensor = torch.tensor([1,2,3],dtype=torch.int32)\n",
        "int_32_tensor"
      ],
      "metadata": {
        "id": "9ApfBytRdOp3",
        "colab": {
          "base_uri": "https://localhost:8080/"
        },
        "outputId": "a0576523-51b3-435f-a494-198db0cd76ad"
      },
      "execution_count": 26,
      "outputs": [
        {
          "output_type": "execute_result",
          "data": {
            "text/plain": [
              "tensor([1, 2, 3], dtype=torch.int32)"
            ]
          },
          "metadata": {},
          "execution_count": 26
        }
      ]
    },
    {
      "cell_type": "code",
      "source": [
        "float_tensor__int_tensor = float_32_tensor*int_32_tensor\n",
        "float_tensor__int_tensor"
      ],
      "metadata": {
        "colab": {
          "base_uri": "https://localhost:8080/"
        },
        "id": "WmfCE943I3Ge",
        "outputId": "ea7e80e5-7bca-45ca-9aad-ea4f73e256ab"
      },
      "execution_count": 27,
      "outputs": [
        {
          "output_type": "execute_result",
          "data": {
            "text/plain": [
              "tensor([1., 4., 9.])"
            ]
          },
          "metadata": {},
          "execution_count": 27
        }
      ]
    },
    {
      "cell_type": "code",
      "source": [
        "float_tensor__int_tensor.shape"
      ],
      "metadata": {
        "colab": {
          "base_uri": "https://localhost:8080/"
        },
        "id": "itz-0UK9JQJ0",
        "outputId": "afd4741b-70ed-461d-b9f2-1307bfe83c6c"
      },
      "execution_count": 28,
      "outputs": [
        {
          "output_type": "execute_result",
          "data": {
            "text/plain": [
              "torch.Size([3])"
            ]
          },
          "metadata": {},
          "execution_count": 28
        }
      ]
    },
    {
      "cell_type": "code",
      "source": [
        "float_tensor__int_tensor.device"
      ],
      "metadata": {
        "colab": {
          "base_uri": "https://localhost:8080/"
        },
        "id": "D_lgDLxqKOB6",
        "outputId": "b9d22b36-a3bd-4691-dc5f-18ccfb4489b8"
      },
      "execution_count": 29,
      "outputs": [
        {
          "output_type": "execute_result",
          "data": {
            "text/plain": [
              "device(type='cpu')"
            ]
          },
          "metadata": {},
          "execution_count": 29
        }
      ]
    },
    {
      "cell_type": "code",
      "source": [
        "some_tensor = torch.rand([5,4])\n",
        "print(some_tensor)\n",
        "print(f\"The shape of the some_tensor: {some_tensor.shape}\")\n",
        "print(f\"The device which is operating some_tensor: {some_tensor.device}\")\n",
        "print(f\"The ndim of the some_tensor: {some_tensor.ndim}\")\n",
        "print(f\"The dtype of the some_tensor : {some_tensor.dtype}\")"
      ],
      "metadata": {
        "colab": {
          "base_uri": "https://localhost:8080/"
        },
        "id": "rRwhWFf-KZmx",
        "outputId": "ba66eaf1-0df2-462d-e5e4-1301b760a85b"
      },
      "execution_count": 30,
      "outputs": [
        {
          "output_type": "stream",
          "name": "stdout",
          "text": [
            "tensor([[0.0963, 0.4234, 0.2975, 0.1325],\n",
            "        [0.6429, 0.0799, 0.0487, 0.1396],\n",
            "        [0.4052, 0.4944, 0.1177, 0.9137],\n",
            "        [0.2855, 0.2691, 0.1732, 0.3795],\n",
            "        [0.5163, 0.3657, 0.6532, 0.0377]])\n",
            "The shape of the some_tensor: torch.Size([5, 4])\n",
            "The device which is operating some_tensor: cpu\n",
            "The ndim of the some_tensor: 2\n",
            "The dtype of the some_tensor : torch.float32\n"
          ]
        }
      ]
    },
    {
      "cell_type": "code",
      "source": [],
      "metadata": {
        "id": "1dO6lCdELrg-"
      },
      "execution_count": 30,
      "outputs": []
    },
    {
      "cell_type": "markdown",
      "source": [
        "#Manipulating tensors"
      ],
      "metadata": {
        "id": "hweYl56HMpov"
      }
    },
    {
      "cell_type": "markdown",
      "source": [
        "Tensor operations include :\n",
        "* Addition\n",
        "* Multiplication\n",
        "* Division\n",
        "* Subtraction\n",
        "* Matrix multiplication"
      ],
      "metadata": {
        "id": "z9tEGUQ7NacC"
      }
    },
    {
      "cell_type": "markdown",
      "source": [
        "For manipulating tensors there are inbuilt in funcs like torch.add , torch.sub , torch.mul , torch.div"
      ],
      "metadata": {
        "id": "IHm9oRTyUH9n"
      }
    },
    {
      "cell_type": "code",
      "source": [
        "tensor_1 = torch.rand([3,4])\n",
        "tensor_2 = torch.rand([3,4])\n",
        "tensor_add = tensor_1 + tensor_2\n",
        "tensor_add"
      ],
      "metadata": {
        "colab": {
          "base_uri": "https://localhost:8080/"
        },
        "id": "Sgf3z5SfMsSl",
        "outputId": "eb803087-57fc-4e5c-8755-43b74f72d8fc"
      },
      "execution_count": 31,
      "outputs": [
        {
          "output_type": "execute_result",
          "data": {
            "text/plain": [
              "tensor([[0.9519, 0.7781, 1.7510, 1.5459],\n",
              "        [0.4394, 1.3811, 0.2571, 1.3335],\n",
              "        [1.6590, 1.0172, 1.0965, 0.5841]])"
            ]
          },
          "metadata": {},
          "execution_count": 31
        }
      ]
    },
    {
      "cell_type": "code",
      "source": [
        "torch.add(tensor_1,tensor_2)"
      ],
      "metadata": {
        "colab": {
          "base_uri": "https://localhost:8080/"
        },
        "id": "cxzHE9VAT_mS",
        "outputId": "6e4edb12-29e4-4470-92cd-35c2e1c088bc"
      },
      "execution_count": 32,
      "outputs": [
        {
          "output_type": "execute_result",
          "data": {
            "text/plain": [
              "tensor([[0.9519, 0.7781, 1.7510, 1.5459],\n",
              "        [0.4394, 1.3811, 0.2571, 1.3335],\n",
              "        [1.6590, 1.0172, 1.0965, 0.5841]])"
            ]
          },
          "metadata": {},
          "execution_count": 32
        }
      ]
    },
    {
      "cell_type": "code",
      "source": [
        "tensor_mul = tensor_1*tensor_2\n",
        "tensor_mul"
      ],
      "metadata": {
        "colab": {
          "base_uri": "https://localhost:8080/"
        },
        "id": "3BJIPzUsOBYc",
        "outputId": "d191f325-4983-46b0-de52-cbca124c3c0a"
      },
      "execution_count": 33,
      "outputs": [
        {
          "output_type": "execute_result",
          "data": {
            "text/plain": [
              "tensor([[0.1486, 0.1121, 0.7569, 0.5858],\n",
              "        [0.0483, 0.4754, 0.0029, 0.3945],\n",
              "        [0.6839, 0.1181, 0.1437, 0.0370]])"
            ]
          },
          "metadata": {},
          "execution_count": 33
        }
      ]
    },
    {
      "cell_type": "code",
      "source": [
        "torch.mul(tensor_1,10)"
      ],
      "metadata": {
        "colab": {
          "base_uri": "https://localhost:8080/"
        },
        "id": "kufsCZrNTN4a",
        "outputId": "d0a0b095-9b68-4dce-eb67-631b9c777132"
      },
      "execution_count": 34,
      "outputs": [
        {
          "output_type": "execute_result",
          "data": {
            "text/plain": [
              "tensor([[1.9671, 1.9086, 9.7351, 6.6517],\n",
              "        [2.1755, 6.5158, 2.4537, 8.9043],\n",
              "        [8.9389, 1.3362, 9.4427, 0.7222]])"
            ]
          },
          "metadata": {},
          "execution_count": 34
        }
      ]
    },
    {
      "cell_type": "code",
      "source": [
        "torch.mul(tensor_2,20)"
      ],
      "metadata": {
        "colab": {
          "base_uri": "https://localhost:8080/"
        },
        "id": "m5o3jfFoTj5x",
        "outputId": "822bdc39-115e-4553-ec1c-38052b7d1c2b"
      },
      "execution_count": 35,
      "outputs": [
        {
          "output_type": "execute_result",
          "data": {
            "text/plain": [
              "tensor([[15.1043, 11.7448, 15.5504, 17.6139],\n",
              "        [ 4.4379, 14.5912,  0.2355,  8.8619],\n",
              "        [15.3019, 17.6706,  3.0442, 10.2371]])"
            ]
          },
          "metadata": {},
          "execution_count": 35
        }
      ]
    },
    {
      "cell_type": "code",
      "source": [
        "tensor_div = tensor_1/tensor_2\n",
        "tensor_div"
      ],
      "metadata": {
        "colab": {
          "base_uri": "https://localhost:8080/"
        },
        "id": "blTb3ZYxQKJ0",
        "outputId": "b595e836-47ff-4d11-d530-53e4f4851c22"
      },
      "execution_count": 36,
      "outputs": [
        {
          "output_type": "execute_result",
          "data": {
            "text/plain": [
              "tensor([[ 0.2605,  0.3250,  1.2521,  0.7553],\n",
              "        [ 0.9804,  0.8931, 20.8384,  2.0096],\n",
              "        [ 1.1683,  0.1512,  6.2038,  0.1411]])"
            ]
          },
          "metadata": {},
          "execution_count": 36
        }
      ]
    },
    {
      "cell_type": "code",
      "source": [
        "torch.div(tensor_1,tensor_2)"
      ],
      "metadata": {
        "colab": {
          "base_uri": "https://localhost:8080/"
        },
        "id": "M2WgEDjuToyR",
        "outputId": "a7077520-ed4d-4cd7-afd1-efae723d1c44"
      },
      "execution_count": 37,
      "outputs": [
        {
          "output_type": "execute_result",
          "data": {
            "text/plain": [
              "tensor([[ 0.2605,  0.3250,  1.2521,  0.7553],\n",
              "        [ 0.9804,  0.8931, 20.8384,  2.0096],\n",
              "        [ 1.1683,  0.1512,  6.2038,  0.1411]])"
            ]
          },
          "metadata": {},
          "execution_count": 37
        }
      ]
    },
    {
      "cell_type": "code",
      "source": [
        "tensor_sub = tensor_1-tensor_2\n",
        "tensor_sub"
      ],
      "metadata": {
        "colab": {
          "base_uri": "https://localhost:8080/"
        },
        "id": "4JEXgn3kQOnj",
        "outputId": "4a972674-200d-4eba-95ef-45c15e4b6f17"
      },
      "execution_count": 38,
      "outputs": [
        {
          "output_type": "execute_result",
          "data": {
            "text/plain": [
              "tensor([[-0.5585, -0.3964,  0.1960, -0.2155],\n",
              "        [-0.0043, -0.0780,  0.2336,  0.4473],\n",
              "        [ 0.1288, -0.7499,  0.7921, -0.4396]])"
            ]
          },
          "metadata": {},
          "execution_count": 38
        }
      ]
    },
    {
      "cell_type": "code",
      "source": [
        "torch.sub(tensor_1,tensor_2)"
      ],
      "metadata": {
        "colab": {
          "base_uri": "https://localhost:8080/"
        },
        "id": "v77-f7fVTywo",
        "outputId": "2d329233-218a-4bbb-8e66-306a4e9a0831"
      },
      "execution_count": 39,
      "outputs": [
        {
          "output_type": "execute_result",
          "data": {
            "text/plain": [
              "tensor([[-0.5585, -0.3964,  0.1960, -0.2155],\n",
              "        [-0.0043, -0.0780,  0.2336,  0.4473],\n",
              "        [ 0.1288, -0.7499,  0.7921, -0.4396]])"
            ]
          },
          "metadata": {},
          "execution_count": 39
        }
      ]
    },
    {
      "cell_type": "code",
      "source": [],
      "metadata": {
        "id": "9dIJVltpQUkk"
      },
      "execution_count": 39,
      "outputs": []
    },
    {
      "cell_type": "markdown",
      "source": [
        "There are two ways of performing multiplication in deep learning and neural networks\n",
        "\n",
        "1.Element wise\n",
        "\n",
        "2.Matrix multiplication(dot product)"
      ],
      "metadata": {
        "id": "1uG_4jyEUgIE"
      }
    },
    {
      "cell_type": "code",
      "source": [],
      "metadata": {
        "id": "79HgPURPUvH5"
      },
      "execution_count": 39,
      "outputs": []
    },
    {
      "cell_type": "markdown",
      "source": [
        "1.Element wise"
      ],
      "metadata": {
        "id": "7R2d7fg7V7Ef"
      }
    },
    {
      "cell_type": "code",
      "source": [
        "tensor_1 = torch.tensor([1,2,3])\n",
        "tensor_2 = torch.tensor([2,4,6])\n"
      ],
      "metadata": {
        "id": "QzYXqFFBV8s1"
      },
      "execution_count": 40,
      "outputs": []
    },
    {
      "cell_type": "code",
      "source": [
        "torch.mul(tensor_1,tensor_2)"
      ],
      "metadata": {
        "colab": {
          "base_uri": "https://localhost:8080/"
        },
        "id": "9CyKNXpEWClT",
        "outputId": "53168d2f-1079-4e88-ec47-22a8f612b4a3"
      },
      "execution_count": 41,
      "outputs": [
        {
          "output_type": "execute_result",
          "data": {
            "text/plain": [
              "tensor([ 2,  8, 18])"
            ]
          },
          "metadata": {},
          "execution_count": 41
        }
      ]
    },
    {
      "cell_type": "markdown",
      "source": [
        "Matrix Multiplication"
      ],
      "metadata": {
        "id": "gEd4ZRHrWWl7"
      }
    },
    {
      "cell_type": "code",
      "source": [
        "torch.matmul(tensor_1,tensor_2)"
      ],
      "metadata": {
        "colab": {
          "base_uri": "https://localhost:8080/"
        },
        "id": "iDr89nS6WQYJ",
        "outputId": "3beb7c84-4417-470d-a145-c126bed6ccb2"
      },
      "execution_count": 42,
      "outputs": [
        {
          "output_type": "execute_result",
          "data": {
            "text/plain": [
              "tensor(28)"
            ]
          },
          "metadata": {},
          "execution_count": 42
        }
      ]
    },
    {
      "cell_type": "code",
      "source": [
        "torch.__version__"
      ],
      "metadata": {
        "colab": {
          "base_uri": "https://localhost:8080/",
          "height": 35
        },
        "id": "cxuFIOluWcrz",
        "outputId": "01c0924e-042c-4e35-fefb-fce3175267ef"
      },
      "execution_count": 43,
      "outputs": [
        {
          "output_type": "execute_result",
          "data": {
            "text/plain": [
              "'2.1.0+cu121'"
            ],
            "application/vnd.google.colaboratory.intrinsic+json": {
              "type": "string"
            }
          },
          "metadata": {},
          "execution_count": 43
        }
      ]
    },
    {
      "cell_type": "markdown",
      "source": [],
      "metadata": {
        "id": "qZ4jVQWE9Ief"
      }
    },
    {
      "cell_type": "markdown",
      "source": [
        "#One of the most common errors in Deep Learning : shape errors"
      ],
      "metadata": {
        "id": "SPCYS9R0ZAoJ"
      }
    },
    {
      "cell_type": "markdown",
      "source": [
        "The two main rules that performing matrix multiplication needs to satisfy:\n",
        "\n",
        "1. The **inner dimensions** must match\n",
        "\n",
        "(3,2) * (3,2) won't work here but (2,3) * (3,2) works here\n",
        "\n",
        "2. The **outer dimensions** - shape\n",
        "\n",
        "(2,3) * (3,2) => (2,2) shape\n",
        "\n",
        "(3,2) * (2,3) => (3,3) shape\n",
        "\n",
        "\n",
        "\n"
      ],
      "metadata": {
        "id": "N8t33_ZA-dlq"
      }
    },
    {
      "cell_type": "code",
      "source": [
        "mat_mul = torch.matmul(torch.rand([2,3]) , torch.rand([3,2]))\n",
        "mat_mul"
      ],
      "metadata": {
        "colab": {
          "base_uri": "https://localhost:8080/"
        },
        "id": "NuonlZYK9RhG",
        "outputId": "437a21b9-02da-46d7-cb9d-75b00b7bf1b5"
      },
      "execution_count": 44,
      "outputs": [
        {
          "output_type": "execute_result",
          "data": {
            "text/plain": [
              "tensor([[0.1807, 0.3129],\n",
              "        [1.0949, 1.3488]])"
            ]
          },
          "metadata": {},
          "execution_count": 44
        }
      ]
    },
    {
      "cell_type": "code",
      "source": [
        "mat_mul.shape"
      ],
      "metadata": {
        "colab": {
          "base_uri": "https://localhost:8080/"
        },
        "id": "sBn5ib2zAeTN",
        "outputId": "788cdab0-d9a9-4274-a404-51c342cf5379"
      },
      "execution_count": 45,
      "outputs": [
        {
          "output_type": "execute_result",
          "data": {
            "text/plain": [
              "torch.Size([2, 2])"
            ]
          },
          "metadata": {},
          "execution_count": 45
        }
      ]
    },
    {
      "cell_type": "markdown",
      "source": [
        "This is 2 dimensional"
      ],
      "metadata": {
        "id": "Dazx2KpuAsKT"
      }
    },
    {
      "cell_type": "markdown",
      "source": [],
      "metadata": {
        "id": "HFRvdwxHAvQJ"
      }
    },
    {
      "cell_type": "code",
      "source": [
        "mat_mul = torch.matmul(torch.rand([3,2]) , torch.rand([2,3]))\n",
        "mat_mul"
      ],
      "metadata": {
        "colab": {
          "base_uri": "https://localhost:8080/"
        },
        "id": "6JNmI0l3AqXq",
        "outputId": "a33360ae-2ebe-4bf1-b7e8-4b71c8d36e5a"
      },
      "execution_count": 46,
      "outputs": [
        {
          "output_type": "execute_result",
          "data": {
            "text/plain": [
              "tensor([[0.5444, 0.8199, 0.5883],\n",
              "        [0.1394, 0.4786, 0.5617],\n",
              "        [0.3064, 0.2662, 0.0324]])"
            ]
          },
          "metadata": {},
          "execution_count": 46
        }
      ]
    },
    {
      "cell_type": "code",
      "source": [
        "mat_mul.shape"
      ],
      "metadata": {
        "colab": {
          "base_uri": "https://localhost:8080/"
        },
        "id": "spCjR30_A4VN",
        "outputId": "2a960807-8a1e-44b8-d5f8-5a408709d364"
      },
      "execution_count": 47,
      "outputs": [
        {
          "output_type": "execute_result",
          "data": {
            "text/plain": [
              "torch.Size([3, 3])"
            ]
          },
          "metadata": {},
          "execution_count": 47
        }
      ]
    },
    {
      "cell_type": "code",
      "source": [
        "#This is 3 dimensional matrix"
      ],
      "metadata": {
        "id": "nefoV7b8A8Kq"
      },
      "execution_count": 48,
      "outputs": []
    },
    {
      "cell_type": "markdown",
      "source": [
        "Solution for the shape problem is to convert it to the Transpose matrix"
      ],
      "metadata": {
        "id": "XgnhTLKmzV5k"
      }
    },
    {
      "cell_type": "code",
      "source": [
        "tensor_A = torch.tensor([[1,2],\n",
        "                          [4,5],\n",
        "                          [6,7]])"
      ],
      "metadata": {
        "id": "ptwT4JU3A_3s"
      },
      "execution_count": 49,
      "outputs": []
    },
    {
      "cell_type": "code",
      "source": [
        "tensor_B = torch.tensor([[7,8],\n",
        "                          [9,10],\n",
        "                          [11,12]])"
      ],
      "metadata": {
        "id": "CIOCOOROu7rY"
      },
      "execution_count": 50,
      "outputs": []
    },
    {
      "cell_type": "code",
      "source": [
        "#torch.matmul(tensor_A,tensor_B)"
      ],
      "metadata": {
        "id": "qLxcQjWovEF0"
      },
      "execution_count": 51,
      "outputs": []
    },
    {
      "cell_type": "code",
      "source": [
        "tensor_B_Transpose = tensor_B.T"
      ],
      "metadata": {
        "id": "UsnZdJglvJO9"
      },
      "execution_count": 52,
      "outputs": []
    },
    {
      "cell_type": "code",
      "source": [
        "torch.matmul(tensor_A,tensor_B_Transpose)"
      ],
      "metadata": {
        "colab": {
          "base_uri": "https://localhost:8080/"
        },
        "id": "1bCJ_yAavLh6",
        "outputId": "48f1dd2f-b0ef-44b0-d01e-cd3c266b5612"
      },
      "execution_count": 53,
      "outputs": [
        {
          "output_type": "execute_result",
          "data": {
            "text/plain": [
              "tensor([[ 23,  29,  35],\n",
              "        [ 68,  86, 104],\n",
              "        [ 98, 124, 150]])"
            ]
          },
          "metadata": {},
          "execution_count": 53
        }
      ]
    },
    {
      "cell_type": "code",
      "source": [
        "tensor_A.shape"
      ],
      "metadata": {
        "colab": {
          "base_uri": "https://localhost:8080/"
        },
        "id": "x7oIVz6IwK3Q",
        "outputId": "7e967b18-45fa-4c1e-fed9-d249fcb2a886"
      },
      "execution_count": 54,
      "outputs": [
        {
          "output_type": "execute_result",
          "data": {
            "text/plain": [
              "torch.Size([3, 2])"
            ]
          },
          "metadata": {},
          "execution_count": 54
        }
      ]
    },
    {
      "cell_type": "code",
      "source": [
        "tensor_B_Transpose.shape"
      ],
      "metadata": {
        "colab": {
          "base_uri": "https://localhost:8080/"
        },
        "id": "kulPGrFZwXlB",
        "outputId": "03045ccd-3f10-439e-c163-26f778eb5178"
      },
      "execution_count": 55,
      "outputs": [
        {
          "output_type": "execute_result",
          "data": {
            "text/plain": [
              "torch.Size([2, 3])"
            ]
          },
          "metadata": {},
          "execution_count": 55
        }
      ]
    },
    {
      "cell_type": "markdown",
      "source": [
        "The matrix multiplication works when tensor_B is transposed"
      ],
      "metadata": {
        "id": "9qHTm3V70YVa"
      }
    },
    {
      "cell_type": "code",
      "source": [
        "print(f\"Original shapes : tensor_A = {tensor_A.shape} , tensor_B = {tensor_B.shape}\")\n",
        "print(f\"New shapes : tensor_A = {tensor_A.shape} (Same shape as above), tensor_B = {tensor_B.T.shape}\")\n",
        "print(f\"Multiplying : {tensor_A.shape} * {tensor_B.T.shape}\")\n",
        "print(\"\\n\")\n",
        "print(\"Output : \",\"\\n\")\n",
        "output = torch.matmul(tensor_A , tensor_B.T)\n",
        "print(output)\n",
        "print(\"\\n\")\n",
        "print(f\"Output shape : {output.shape}\")"
      ],
      "metadata": {
        "colab": {
          "base_uri": "https://localhost:8080/"
        },
        "id": "tiIj8zdTzmO5",
        "outputId": "c96fb79c-6239-41ba-e0f9-44a0ef5895ae"
      },
      "execution_count": 56,
      "outputs": [
        {
          "output_type": "stream",
          "name": "stdout",
          "text": [
            "Original shapes : tensor_A = torch.Size([3, 2]) , tensor_B = torch.Size([3, 2])\n",
            "New shapes : tensor_A = torch.Size([3, 2]) (Same shape as above), tensor_B = torch.Size([2, 3])\n",
            "Multiplying : torch.Size([3, 2]) * torch.Size([2, 3])\n",
            "\n",
            "\n",
            "Output :  \n",
            "\n",
            "tensor([[ 23,  29,  35],\n",
            "        [ 68,  86, 104],\n",
            "        [ 98, 124, 150]])\n",
            "\n",
            "\n",
            "Output shape : torch.Size([3, 3])\n"
          ]
        }
      ]
    },
    {
      "cell_type": "code",
      "source": [],
      "metadata": {
        "id": "BfmCMpF810mW"
      },
      "execution_count": 56,
      "outputs": []
    },
    {
      "cell_type": "markdown",
      "source": [
        "#Tensor aggregation"
      ],
      "metadata": {
        "id": "40Of1ToG3o6q"
      }
    },
    {
      "cell_type": "code",
      "source": [
        "x = torch.arange(0,101,10)"
      ],
      "metadata": {
        "id": "ALoQ6_YN3qw8"
      },
      "execution_count": 57,
      "outputs": []
    },
    {
      "cell_type": "code",
      "source": [
        "x"
      ],
      "metadata": {
        "colab": {
          "base_uri": "https://localhost:8080/"
        },
        "id": "Q6tJLx2f33ar",
        "outputId": "a4ba5231-bdda-46cc-94c4-8e4d9a9ab83f"
      },
      "execution_count": 58,
      "outputs": [
        {
          "output_type": "execute_result",
          "data": {
            "text/plain": [
              "tensor([  0,  10,  20,  30,  40,  50,  60,  70,  80,  90, 100])"
            ]
          },
          "metadata": {},
          "execution_count": 58
        }
      ]
    },
    {
      "cell_type": "code",
      "source": [
        "#Find the mean\n",
        "torch.min(x) , x.min()"
      ],
      "metadata": {
        "colab": {
          "base_uri": "https://localhost:8080/"
        },
        "id": "Vkl5PmPX34U5",
        "outputId": "13f196cc-846d-4bac-b6d9-f1667a5938b8"
      },
      "execution_count": 59,
      "outputs": [
        {
          "output_type": "execute_result",
          "data": {
            "text/plain": [
              "(tensor(0), tensor(0))"
            ]
          },
          "metadata": {},
          "execution_count": 59
        }
      ]
    },
    {
      "cell_type": "code",
      "source": [
        "#Find the max\n",
        "torch.max(x) , x.max()"
      ],
      "metadata": {
        "colab": {
          "base_uri": "https://localhost:8080/"
        },
        "id": "dlqmV3A23-bX",
        "outputId": "584ac1b8-476b-4282-d6d6-65fc9c6aeba8"
      },
      "execution_count": 60,
      "outputs": [
        {
          "output_type": "execute_result",
          "data": {
            "text/plain": [
              "(tensor(100), tensor(100))"
            ]
          },
          "metadata": {},
          "execution_count": 60
        }
      ]
    },
    {
      "cell_type": "code",
      "source": [
        "#Find the sum\n",
        "torch.sum(x) , x.sum()"
      ],
      "metadata": {
        "colab": {
          "base_uri": "https://localhost:8080/"
        },
        "id": "7kPH5XXZ4GSI",
        "outputId": "e5211142-7b27-4f46-e24f-f033b64c4966"
      },
      "execution_count": 61,
      "outputs": [
        {
          "output_type": "execute_result",
          "data": {
            "text/plain": [
              "(tensor(550), tensor(550))"
            ]
          },
          "metadata": {},
          "execution_count": 61
        }
      ]
    },
    {
      "cell_type": "code",
      "source": [
        "#Find the mean , if we want to use mean in pytorch we want to convert into float first\n",
        "torch.mean(x.type(torch.float32)) , x.type(torch.float32).mean()"
      ],
      "metadata": {
        "colab": {
          "base_uri": "https://localhost:8080/"
        },
        "id": "qiC6KqZ54LE3",
        "outputId": "36417ab2-6602-4d76-f53f-e61c807842b6"
      },
      "execution_count": 62,
      "outputs": [
        {
          "output_type": "execute_result",
          "data": {
            "text/plain": [
              "(tensor(50.), tensor(50.))"
            ]
          },
          "metadata": {},
          "execution_count": 62
        }
      ]
    },
    {
      "cell_type": "code",
      "source": [],
      "metadata": {
        "id": "hcKcYg8t4Ol1"
      },
      "execution_count": 62,
      "outputs": []
    },
    {
      "cell_type": "code",
      "source": [],
      "metadata": {
        "id": "iTGKD3d06607"
      },
      "execution_count": 62,
      "outputs": []
    },
    {
      "cell_type": "markdown",
      "source": [
        "#Finding the positional min and max"
      ],
      "metadata": {
        "id": "CiASQFT16_t9"
      }
    },
    {
      "cell_type": "markdown",
      "source": [
        "The positional args gives us the index instead of the specified statement"
      ],
      "metadata": {
        "id": "KLhkrFvC7L-l"
      }
    },
    {
      "cell_type": "code",
      "source": [
        "x = torch.arange(0,201,20)\n",
        "x"
      ],
      "metadata": {
        "colab": {
          "base_uri": "https://localhost:8080/"
        },
        "id": "Mcojp5qc7H8J",
        "outputId": "1e2769be-c580-433d-c630-92647d34ac0e"
      },
      "execution_count": 63,
      "outputs": [
        {
          "output_type": "execute_result",
          "data": {
            "text/plain": [
              "tensor([  0,  20,  40,  60,  80, 100, 120, 140, 160, 180, 200])"
            ]
          },
          "metadata": {},
          "execution_count": 63
        }
      ]
    },
    {
      "cell_type": "code",
      "source": [
        "#Find the maximum index\n",
        "torch.argmax(x) , x.argmax()"
      ],
      "metadata": {
        "colab": {
          "base_uri": "https://localhost:8080/"
        },
        "id": "RI06c_Iu7dEJ",
        "outputId": "0cf55dbd-9558-4e12-e1c1-a310de6ad80c"
      },
      "execution_count": 64,
      "outputs": [
        {
          "output_type": "execute_result",
          "data": {
            "text/plain": [
              "(tensor(10), tensor(10))"
            ]
          },
          "metadata": {},
          "execution_count": 64
        }
      ]
    },
    {
      "cell_type": "code",
      "source": [
        "#Finding the minimum index\n",
        "torch.argmin(x) , x.argmin()"
      ],
      "metadata": {
        "colab": {
          "base_uri": "https://localhost:8080/"
        },
        "id": "zRJdmDXF7otc",
        "outputId": "86cdc90e-4302-4489-b8d8-517f60ddecf0"
      },
      "execution_count": 65,
      "outputs": [
        {
          "output_type": "execute_result",
          "data": {
            "text/plain": [
              "(tensor(0), tensor(0))"
            ]
          },
          "metadata": {},
          "execution_count": 65
        }
      ]
    },
    {
      "cell_type": "code",
      "source": [
        "#Random access of the element by specifying the index\n",
        "x[9]"
      ],
      "metadata": {
        "colab": {
          "base_uri": "https://localhost:8080/"
        },
        "id": "tNp7QL338D34",
        "outputId": "412cd85f-39d5-434a-a373-c46083f3e59e"
      },
      "execution_count": 66,
      "outputs": [
        {
          "output_type": "execute_result",
          "data": {
            "text/plain": [
              "tensor(180)"
            ]
          },
          "metadata": {},
          "execution_count": 66
        }
      ]
    },
    {
      "cell_type": "code",
      "source": [],
      "metadata": {
        "id": "ThMBu7En81ry"
      },
      "execution_count": 66,
      "outputs": []
    },
    {
      "cell_type": "markdown",
      "source": [],
      "metadata": {
        "id": "XxKEq7z19cA_"
      }
    },
    {
      "cell_type": "code",
      "source": [],
      "metadata": {
        "id": "egY23Jok9bTt"
      },
      "execution_count": 66,
      "outputs": []
    },
    {
      "cell_type": "markdown",
      "source": [
        "#Reshaping , stacking , squeezing , unsqueezing"
      ],
      "metadata": {
        "id": "tNlmYJcF9c8X"
      }
    },
    {
      "cell_type": "markdown",
      "source": [
        "* Reshaping : Reshapes an input tensors to an defined shape\n",
        "\n",
        "* view : It reshapes the input tensors but in memory the original tensor will be there\n",
        "\n",
        "* Stacking : Combine the multiple tensors on top of each other (v stack) or side by side (h stack)\n",
        "\n",
        "* Squeezing : Remove the \"1\" dimensions from a tensor\n",
        "\n",
        "* Unsqueezing : Add \"1\" dimensions to a target tensor\n",
        "\n",
        "* Permute : Return a view of the input with dimensions permuted(swapped) in  a certain way"
      ],
      "metadata": {
        "id": "L5fN2XVa9m36"
      }
    },
    {
      "cell_type": "markdown",
      "source": [
        "Reshape"
      ],
      "metadata": {
        "id": "3_-6ql4wBvAe"
      }
    },
    {
      "cell_type": "code",
      "source": [
        "x = torch.arange(1,11)\n",
        "x"
      ],
      "metadata": {
        "colab": {
          "base_uri": "https://localhost:8080/"
        },
        "id": "VWlJVumF9iZ8",
        "outputId": "3577d199-a587-45ee-e3fa-a4e3772d0a62"
      },
      "execution_count": 67,
      "outputs": [
        {
          "output_type": "execute_result",
          "data": {
            "text/plain": [
              "tensor([ 1,  2,  3,  4,  5,  6,  7,  8,  9, 10])"
            ]
          },
          "metadata": {},
          "execution_count": 67
        }
      ]
    },
    {
      "cell_type": "code",
      "source": [
        "x_reshape = x.reshape(10,1)\n",
        "x_reshape"
      ],
      "metadata": {
        "colab": {
          "base_uri": "https://localhost:8080/"
        },
        "id": "DV0H-pO5A6YL",
        "outputId": "a2201d3b-97d3-4137-dc14-16d10832f292"
      },
      "execution_count": 68,
      "outputs": [
        {
          "output_type": "execute_result",
          "data": {
            "text/plain": [
              "tensor([[ 1],\n",
              "        [ 2],\n",
              "        [ 3],\n",
              "        [ 4],\n",
              "        [ 5],\n",
              "        [ 6],\n",
              "        [ 7],\n",
              "        [ 8],\n",
              "        [ 9],\n",
              "        [10]])"
            ]
          },
          "metadata": {},
          "execution_count": 68
        }
      ]
    },
    {
      "cell_type": "code",
      "source": [
        "x.reshape(2,5)"
      ],
      "metadata": {
        "colab": {
          "base_uri": "https://localhost:8080/"
        },
        "id": "ySnXLvPABPTr",
        "outputId": "0523cd22-1297-4e90-9947-5d4271add685"
      },
      "execution_count": 69,
      "outputs": [
        {
          "output_type": "execute_result",
          "data": {
            "text/plain": [
              "tensor([[ 1,  2,  3,  4,  5],\n",
              "        [ 6,  7,  8,  9, 10]])"
            ]
          },
          "metadata": {},
          "execution_count": 69
        }
      ]
    },
    {
      "cell_type": "code",
      "source": [
        "\n",
        "x.reshape(5,2)"
      ],
      "metadata": {
        "colab": {
          "base_uri": "https://localhost:8080/"
        },
        "id": "hT5r72cBBazn",
        "outputId": "333c3241-8391-4203-b4bd-c9329179d6b8"
      },
      "execution_count": 70,
      "outputs": [
        {
          "output_type": "execute_result",
          "data": {
            "text/plain": [
              "tensor([[ 1,  2],\n",
              "        [ 3,  4],\n",
              "        [ 5,  6],\n",
              "        [ 7,  8],\n",
              "        [ 9, 10]])"
            ]
          },
          "metadata": {},
          "execution_count": 70
        }
      ]
    },
    {
      "cell_type": "code",
      "source": [],
      "metadata": {
        "id": "InabAeNSBccM"
      },
      "execution_count": 70,
      "outputs": []
    },
    {
      "cell_type": "markdown",
      "source": [
        "View"
      ],
      "metadata": {
        "id": "CdoHNPuIBw-G"
      }
    },
    {
      "cell_type": "code",
      "source": [
        "y = x.view(2,5)"
      ],
      "metadata": {
        "id": "rzmv_coEBx9F"
      },
      "execution_count": 71,
      "outputs": []
    },
    {
      "cell_type": "code",
      "source": [
        "y"
      ],
      "metadata": {
        "colab": {
          "base_uri": "https://localhost:8080/"
        },
        "id": "GAh3vg_ZB5zs",
        "outputId": "fedc1ed9-1665-4a97-ed39-292f7f2d88c5"
      },
      "execution_count": 72,
      "outputs": [
        {
          "output_type": "execute_result",
          "data": {
            "text/plain": [
              "tensor([[ 1,  2,  3,  4,  5],\n",
              "        [ 6,  7,  8,  9, 10]])"
            ]
          },
          "metadata": {},
          "execution_count": 72
        }
      ]
    },
    {
      "cell_type": "code",
      "source": [
        "x"
      ],
      "metadata": {
        "colab": {
          "base_uri": "https://localhost:8080/"
        },
        "id": "1QT-shA4B7Zo",
        "outputId": "c4634b6c-c83e-4a42-9a46-88af0f169679"
      },
      "execution_count": 73,
      "outputs": [
        {
          "output_type": "execute_result",
          "data": {
            "text/plain": [
              "tensor([ 1,  2,  3,  4,  5,  6,  7,  8,  9, 10])"
            ]
          },
          "metadata": {},
          "execution_count": 73
        }
      ]
    },
    {
      "cell_type": "code",
      "source": [
        "y"
      ],
      "metadata": {
        "colab": {
          "base_uri": "https://localhost:8080/"
        },
        "id": "Geo2-i5DB9bo",
        "outputId": "fb04d797-8a4e-485c-d351-2763892b0097"
      },
      "execution_count": 74,
      "outputs": [
        {
          "output_type": "execute_result",
          "data": {
            "text/plain": [
              "tensor([[ 1,  2,  3,  4,  5],\n",
              "        [ 6,  7,  8,  9, 10]])"
            ]
          },
          "metadata": {},
          "execution_count": 74
        }
      ]
    },
    {
      "cell_type": "code",
      "source": [
        "y[:,0] = 11"
      ],
      "metadata": {
        "id": "rP-Q5oF1CleF"
      },
      "execution_count": 75,
      "outputs": []
    },
    {
      "cell_type": "code",
      "source": [
        "#Changing the value of y changes in the result of x (because a view of a tensor shares the same memory as the original tensor)\n",
        "x"
      ],
      "metadata": {
        "colab": {
          "base_uri": "https://localhost:8080/"
        },
        "id": "7XIyFUJbCoM-",
        "outputId": "2efc3333-67dc-41d5-d63a-a9a6cfd24f2a"
      },
      "execution_count": 76,
      "outputs": [
        {
          "output_type": "execute_result",
          "data": {
            "text/plain": [
              "tensor([11,  2,  3,  4,  5, 11,  7,  8,  9, 10])"
            ]
          },
          "metadata": {},
          "execution_count": 76
        }
      ]
    },
    {
      "cell_type": "markdown",
      "source": [
        "Stack"
      ],
      "metadata": {
        "id": "GT3kscXLECbb"
      }
    },
    {
      "cell_type": "code",
      "source": [
        "y[:,0] = 1"
      ],
      "metadata": {
        "id": "LPSbSF0cCp7i"
      },
      "execution_count": 77,
      "outputs": []
    },
    {
      "cell_type": "code",
      "source": [
        "x"
      ],
      "metadata": {
        "colab": {
          "base_uri": "https://localhost:8080/"
        },
        "id": "1JXkP5I0U5Lr",
        "outputId": "b4de4079-dbd9-4efd-fd75-543603deb325"
      },
      "execution_count": 78,
      "outputs": [
        {
          "output_type": "execute_result",
          "data": {
            "text/plain": [
              "tensor([ 1,  2,  3,  4,  5,  1,  7,  8,  9, 10])"
            ]
          },
          "metadata": {},
          "execution_count": 78
        }
      ]
    },
    {
      "cell_type": "markdown",
      "source": [
        "v stack"
      ],
      "metadata": {
        "id": "ttmyzGUIWJY-"
      }
    },
    {
      "cell_type": "code",
      "source": [
        "x_stacked = torch.stack([x,x,x,x],dim = 0)\n",
        "x_stacked"
      ],
      "metadata": {
        "colab": {
          "base_uri": "https://localhost:8080/"
        },
        "id": "zKKfbMJ7U6GU",
        "outputId": "ec04ef93-edb2-4d14-9180-b972715ff6b1"
      },
      "execution_count": 79,
      "outputs": [
        {
          "output_type": "execute_result",
          "data": {
            "text/plain": [
              "tensor([[ 1,  2,  3,  4,  5,  1,  7,  8,  9, 10],\n",
              "        [ 1,  2,  3,  4,  5,  1,  7,  8,  9, 10],\n",
              "        [ 1,  2,  3,  4,  5,  1,  7,  8,  9, 10],\n",
              "        [ 1,  2,  3,  4,  5,  1,  7,  8,  9, 10]])"
            ]
          },
          "metadata": {},
          "execution_count": 79
        }
      ]
    },
    {
      "cell_type": "markdown",
      "source": [
        "h stack"
      ],
      "metadata": {
        "id": "J5zAPMcdWG7D"
      }
    },
    {
      "cell_type": "code",
      "source": [
        "x_stacked_1 = torch.stack([x,x,x,x],dim = 1)\n",
        "x_stacked_1"
      ],
      "metadata": {
        "colab": {
          "base_uri": "https://localhost:8080/"
        },
        "id": "QKoNiq4jVeIL",
        "outputId": "15c1a544-2c0c-4124-c060-e7a218d6196a"
      },
      "execution_count": 80,
      "outputs": [
        {
          "output_type": "execute_result",
          "data": {
            "text/plain": [
              "tensor([[ 1,  1,  1,  1],\n",
              "        [ 2,  2,  2,  2],\n",
              "        [ 3,  3,  3,  3],\n",
              "        [ 4,  4,  4,  4],\n",
              "        [ 5,  5,  5,  5],\n",
              "        [ 1,  1,  1,  1],\n",
              "        [ 7,  7,  7,  7],\n",
              "        [ 8,  8,  8,  8],\n",
              "        [ 9,  9,  9,  9],\n",
              "        [10, 10, 10, 10]])"
            ]
          },
          "metadata": {},
          "execution_count": 80
        }
      ]
    },
    {
      "cell_type": "markdown",
      "source": [
        "Squeeze"
      ],
      "metadata": {
        "id": "6pyX6pcRW2SF"
      }
    },
    {
      "cell_type": "markdown",
      "source": [
        "It is used to remove the 1 dimension in the shape of the tensor"
      ],
      "metadata": {
        "id": "dRt0TfazYMDf"
      }
    },
    {
      "cell_type": "code",
      "source": [
        "x_reshaped = x.reshape(1,10)\n",
        "x_reshaped"
      ],
      "metadata": {
        "colab": {
          "base_uri": "https://localhost:8080/"
        },
        "id": "5cHqWoKaV7C6",
        "outputId": "d452bd82-69bd-4d25-b389-9680d4e5d945"
      },
      "execution_count": 81,
      "outputs": [
        {
          "output_type": "execute_result",
          "data": {
            "text/plain": [
              "tensor([[ 1,  2,  3,  4,  5,  1,  7,  8,  9, 10]])"
            ]
          },
          "metadata": {},
          "execution_count": 81
        }
      ]
    },
    {
      "cell_type": "code",
      "source": [
        "x_reshaped.squeeze()"
      ],
      "metadata": {
        "colab": {
          "base_uri": "https://localhost:8080/"
        },
        "id": "Q-FNcvCrWScN",
        "outputId": "592c2a0f-1598-485c-eec3-96679f26e503"
      },
      "execution_count": 82,
      "outputs": [
        {
          "output_type": "execute_result",
          "data": {
            "text/plain": [
              "tensor([ 1,  2,  3,  4,  5,  1,  7,  8,  9, 10])"
            ]
          },
          "metadata": {},
          "execution_count": 82
        }
      ]
    },
    {
      "cell_type": "code",
      "source": [
        "x_reshaped.squeeze().shape"
      ],
      "metadata": {
        "colab": {
          "base_uri": "https://localhost:8080/"
        },
        "id": "I7BW6axKYpWq",
        "outputId": "cf8fe8b2-1bd0-4599-8369-dd4260ad3717"
      },
      "execution_count": 83,
      "outputs": [
        {
          "output_type": "execute_result",
          "data": {
            "text/plain": [
              "torch.Size([10])"
            ]
          },
          "metadata": {},
          "execution_count": 83
        }
      ]
    },
    {
      "cell_type": "markdown",
      "source": [
        "We can see that when we had removed the 1 dimensional in the tensor"
      ],
      "metadata": {
        "id": "xGUEJ2ZHYcBx"
      }
    },
    {
      "cell_type": "code",
      "source": [
        "x_reshaped.unsqueeze(dim = 0)"
      ],
      "metadata": {
        "colab": {
          "base_uri": "https://localhost:8080/"
        },
        "id": "PMb9OcHxWYX1",
        "outputId": "f436b441-49b3-40e7-b5fe-6c6e5e46acbe"
      },
      "execution_count": 84,
      "outputs": [
        {
          "output_type": "execute_result",
          "data": {
            "text/plain": [
              "tensor([[[ 1,  2,  3,  4,  5,  1,  7,  8,  9, 10]]])"
            ]
          },
          "metadata": {},
          "execution_count": 84
        }
      ]
    },
    {
      "cell_type": "code",
      "source": [
        "x_reshaped.shape"
      ],
      "metadata": {
        "colab": {
          "base_uri": "https://localhost:8080/"
        },
        "id": "0sFqH06pZpE7",
        "outputId": "18a5003c-0be0-4210-9792-c6f6bfa0a717"
      },
      "execution_count": 85,
      "outputs": [
        {
          "output_type": "execute_result",
          "data": {
            "text/plain": [
              "torch.Size([1, 10])"
            ]
          },
          "metadata": {},
          "execution_count": 85
        }
      ]
    },
    {
      "cell_type": "code",
      "source": [],
      "metadata": {
        "id": "lm9XXjcuZ1pV"
      },
      "execution_count": 85,
      "outputs": []
    },
    {
      "cell_type": "markdown",
      "source": [
        "Permute"
      ],
      "metadata": {
        "id": "3AmEtXW7bRe3"
      }
    },
    {
      "cell_type": "code",
      "source": [
        "# torch.permute - rearranges the dimensions of a target tensor in  a specified order\n"
      ],
      "metadata": {
        "id": "MNgI9Di3bT0P"
      },
      "execution_count": 86,
      "outputs": []
    },
    {
      "cell_type": "code",
      "source": [
        "x_original = torch.rand(size=(3,1,3))\n",
        "x_original"
      ],
      "metadata": {
        "colab": {
          "base_uri": "https://localhost:8080/"
        },
        "id": "AAcqA9qPeep9",
        "outputId": "528263dd-36e6-44b6-f7f2-e5e5c843fc12"
      },
      "execution_count": 87,
      "outputs": [
        {
          "output_type": "execute_result",
          "data": {
            "text/plain": [
              "tensor([[[0.9599, 0.0031, 0.0946]],\n",
              "\n",
              "        [[0.3803, 0.7762, 0.7636]],\n",
              "\n",
              "        [[0.3017, 0.5324, 0.5253]]])"
            ]
          },
          "metadata": {},
          "execution_count": 87
        }
      ]
    },
    {
      "cell_type": "code",
      "source": [
        "x_original = torch.rand(size=(3,2,3))\n",
        "x_original"
      ],
      "metadata": {
        "colab": {
          "base_uri": "https://localhost:8080/"
        },
        "id": "b0mgZGVwegZC",
        "outputId": "b7f82f4a-aa3d-4975-ee0b-a39df78c0c61"
      },
      "execution_count": 88,
      "outputs": [
        {
          "output_type": "execute_result",
          "data": {
            "text/plain": [
              "tensor([[[0.8225, 0.6635, 0.1640],\n",
              "         [0.1210, 0.4874, 0.6788]],\n",
              "\n",
              "        [[0.1823, 0.1271, 0.0637],\n",
              "         [0.6619, 0.4387, 0.4211]],\n",
              "\n",
              "        [[0.7857, 0.4334, 0.9369],\n",
              "         [0.2073, 0.4773, 0.5430]]])"
            ]
          },
          "metadata": {},
          "execution_count": 88
        }
      ]
    },
    {
      "cell_type": "code",
      "source": [
        "x_original = torch.rand(size=(3,3,3))\n",
        "x_original"
      ],
      "metadata": {
        "colab": {
          "base_uri": "https://localhost:8080/"
        },
        "id": "9ZMlIaaJeiEZ",
        "outputId": "22d0bf3c-a711-458b-dc03-d37c691041c6"
      },
      "execution_count": 89,
      "outputs": [
        {
          "output_type": "execute_result",
          "data": {
            "text/plain": [
              "tensor([[[0.4697, 0.4287, 0.1003],\n",
              "         [0.6759, 0.6481, 0.6250],\n",
              "         [0.0269, 0.0668, 0.6643]],\n",
              "\n",
              "        [[0.6055, 0.6025, 0.2910],\n",
              "         [0.8925, 0.1720, 0.2787],\n",
              "         [0.2100, 0.8838, 0.5693]],\n",
              "\n",
              "        [[0.0246, 0.5939, 0.2730],\n",
              "         [0.7586, 0.8464, 0.8609],\n",
              "         [0.5338, 0.3019, 0.1295]]])"
            ]
          },
          "metadata": {},
          "execution_count": 89
        }
      ]
    },
    {
      "cell_type": "code",
      "source": [
        "x_original = torch.rand(size=(224,224,3))\n",
        "x_permuted = x_original.permute(2,0,1)\n",
        "x_permuted\n",
        "print(f\"Size of the original tensor {x_original.shape}\")\n",
        "print(f\"Size of the permutted tensor {x_permuted.shape}\")"
      ],
      "metadata": {
        "colab": {
          "base_uri": "https://localhost:8080/"
        },
        "id": "EcopsP91fkd4",
        "outputId": "46530d24-4c6c-4a70-fc7f-ee04deace89a"
      },
      "execution_count": 90,
      "outputs": [
        {
          "output_type": "stream",
          "name": "stdout",
          "text": [
            "Size of the original tensor torch.Size([224, 224, 3])\n",
            "Size of the permutted tensor torch.Size([3, 224, 224])\n"
          ]
        }
      ]
    },
    {
      "cell_type": "code",
      "source": [],
      "metadata": {
        "id": "Ev0A88PbfswX"
      },
      "execution_count": 90,
      "outputs": []
    },
    {
      "cell_type": "code",
      "source": [],
      "metadata": {
        "id": "wg81RsM0hDo7"
      },
      "execution_count": 90,
      "outputs": []
    },
    {
      "cell_type": "markdown",
      "source": [
        "#Indexing"
      ],
      "metadata": {
        "id": "qqTbv_XyhwZX"
      }
    },
    {
      "cell_type": "code",
      "source": [
        "import torch\n"
      ],
      "metadata": {
        "id": "x42BUGb3hxvq"
      },
      "execution_count": 91,
      "outputs": []
    },
    {
      "cell_type": "code",
      "source": [
        "x = torch.arange(1,10).reshape(1,3,3)\n",
        "x"
      ],
      "metadata": {
        "colab": {
          "base_uri": "https://localhost:8080/"
        },
        "id": "KQuje9C9iTOv",
        "outputId": "ef66e8be-511f-4f34-8b2b-4e01b33c1ebf"
      },
      "execution_count": 92,
      "outputs": [
        {
          "output_type": "execute_result",
          "data": {
            "text/plain": [
              "tensor([[[1, 2, 3],\n",
              "         [4, 5, 6],\n",
              "         [7, 8, 9]]])"
            ]
          },
          "metadata": {},
          "execution_count": 92
        }
      ]
    },
    {
      "cell_type": "code",
      "source": [
        "x[0]"
      ],
      "metadata": {
        "colab": {
          "base_uri": "https://localhost:8080/"
        },
        "id": "G0MUvf_ziVbL",
        "outputId": "97be0a90-5ad7-40fc-dff2-58622ba42b57"
      },
      "execution_count": 93,
      "outputs": [
        {
          "output_type": "execute_result",
          "data": {
            "text/plain": [
              "tensor([[1, 2, 3],\n",
              "        [4, 5, 6],\n",
              "        [7, 8, 9]])"
            ]
          },
          "metadata": {},
          "execution_count": 93
        }
      ]
    },
    {
      "cell_type": "code",
      "source": [
        "x[0][0]"
      ],
      "metadata": {
        "colab": {
          "base_uri": "https://localhost:8080/"
        },
        "id": "GticNkhqigPL",
        "outputId": "044c229a-ef40-4a6d-f581-e04f3ad48098"
      },
      "execution_count": 94,
      "outputs": [
        {
          "output_type": "execute_result",
          "data": {
            "text/plain": [
              "tensor([1, 2, 3])"
            ]
          },
          "metadata": {},
          "execution_count": 94
        }
      ]
    },
    {
      "cell_type": "code",
      "source": [
        "x[0,2,2]"
      ],
      "metadata": {
        "colab": {
          "base_uri": "https://localhost:8080/"
        },
        "id": "dsbTuTVWloeY",
        "outputId": "39253fd2-81dd-447e-8688-9f5c5c00029c"
      },
      "execution_count": 95,
      "outputs": [
        {
          "output_type": "execute_result",
          "data": {
            "text/plain": [
              "tensor(9)"
            ]
          },
          "metadata": {},
          "execution_count": 95
        }
      ]
    },
    {
      "cell_type": "code",
      "source": [
        "x[:,:,0]"
      ],
      "metadata": {
        "colab": {
          "base_uri": "https://localhost:8080/"
        },
        "id": "EUOgPVMulrZ3",
        "outputId": "5a87c8e8-8c18-43fc-ce60-82db33b48c4a"
      },
      "execution_count": 96,
      "outputs": [
        {
          "output_type": "execute_result",
          "data": {
            "text/plain": [
              "tensor([[1, 4, 7]])"
            ]
          },
          "metadata": {},
          "execution_count": 96
        }
      ]
    },
    {
      "cell_type": "code",
      "source": [
        "x[:,1,2]"
      ],
      "metadata": {
        "colab": {
          "base_uri": "https://localhost:8080/"
        },
        "id": "Cm2BTdIxn4Vx",
        "outputId": "07cb0ec0-ac1c-4b40-88ff-2f3b876c5148"
      },
      "execution_count": 97,
      "outputs": [
        {
          "output_type": "execute_result",
          "data": {
            "text/plain": [
              "tensor([6])"
            ]
          },
          "metadata": {},
          "execution_count": 97
        }
      ]
    },
    {
      "cell_type": "code",
      "source": [
        "x[0,0,:]"
      ],
      "metadata": {
        "colab": {
          "base_uri": "https://localhost:8080/"
        },
        "id": "SKR71MnBobSy",
        "outputId": "146b1321-9ec1-4d17-b329-60cab5bbac6c"
      },
      "execution_count": 98,
      "outputs": [
        {
          "output_type": "execute_result",
          "data": {
            "text/plain": [
              "tensor([1, 2, 3])"
            ]
          },
          "metadata": {},
          "execution_count": 98
        }
      ]
    },
    {
      "cell_type": "code",
      "source": [
        "x[0,2,2]"
      ],
      "metadata": {
        "colab": {
          "base_uri": "https://localhost:8080/"
        },
        "id": "4hfScaSqommo",
        "outputId": "1385fbd9-21a0-4c4d-f042-195477a2b972"
      },
      "execution_count": 99,
      "outputs": [
        {
          "output_type": "execute_result",
          "data": {
            "text/plain": [
              "tensor(9)"
            ]
          },
          "metadata": {},
          "execution_count": 99
        }
      ]
    },
    {
      "cell_type": "code",
      "source": [
        "x[:,:,2]"
      ],
      "metadata": {
        "colab": {
          "base_uri": "https://localhost:8080/"
        },
        "id": "6A6EnOA_pXSI",
        "outputId": "2a77354b-d651-436e-a43d-5b1fdbe0f86b"
      },
      "execution_count": 100,
      "outputs": [
        {
          "output_type": "execute_result",
          "data": {
            "text/plain": [
              "tensor([[3, 6, 9]])"
            ]
          },
          "metadata": {},
          "execution_count": 100
        }
      ]
    },
    {
      "cell_type": "code",
      "source": [],
      "metadata": {
        "id": "iNA3JHQQphyq"
      },
      "execution_count": 100,
      "outputs": []
    },
    {
      "cell_type": "markdown",
      "source": [
        "#Pytorch tensors & Numpy\n",
        "\n",
        "Numpy is a popular scientific Python numerical computing Library so because of this reason Pytorch has the functionality to interact with it\n",
        "\n",
        "* Pytorch tensor -> Numpy -> torch.Tensor.numpy()\n",
        "* Numpy -> Pytorch -> torch.from_numpy(ndarray)\n",
        "\n"
      ],
      "metadata": {
        "id": "alBZUJw4F6FS"
      }
    },
    {
      "cell_type": "code",
      "source": [
        "#Now we can use it\n",
        "import numpy as np\n",
        "import torch"
      ],
      "metadata": {
        "id": "gAcSCt3gGGVg"
      },
      "execution_count": 101,
      "outputs": []
    },
    {
      "cell_type": "code",
      "source": [
        "x = np.arange(0,11)\n",
        "y = torch.from_numpy(x)\n",
        "x , y"
      ],
      "metadata": {
        "colab": {
          "base_uri": "https://localhost:8080/"
        },
        "id": "ntDhe6DrKrxi",
        "outputId": "c044e9c8-5d4f-41e4-92d4-68aabe1fc5e7"
      },
      "execution_count": 102,
      "outputs": [
        {
          "output_type": "execute_result",
          "data": {
            "text/plain": [
              "(array([ 0,  1,  2,  3,  4,  5,  6,  7,  8,  9, 10]),\n",
              " tensor([ 0,  1,  2,  3,  4,  5,  6,  7,  8,  9, 10]))"
            ]
          },
          "metadata": {},
          "execution_count": 102
        }
      ]
    },
    {
      "cell_type": "code",
      "source": [
        "# Converting pytorch to numpy\n",
        "x = torch.arange(1,11)\n",
        "y = torch.Tensor.numpy(x)\n",
        "x , y"
      ],
      "metadata": {
        "colab": {
          "base_uri": "https://localhost:8080/"
        },
        "id": "s90jKq1qKwPk",
        "outputId": "a45166e4-c79e-4886-8ad9-b02c2f256e41"
      },
      "execution_count": 103,
      "outputs": [
        {
          "output_type": "execute_result",
          "data": {
            "text/plain": [
              "(tensor([ 1,  2,  3,  4,  5,  6,  7,  8,  9, 10]),\n",
              " array([ 1,  2,  3,  4,  5,  6,  7,  8,  9, 10]))"
            ]
          },
          "metadata": {},
          "execution_count": 103
        }
      ]
    },
    {
      "cell_type": "code",
      "source": [],
      "metadata": {
        "id": "hL5Ff-qVLGCz"
      },
      "execution_count": 103,
      "outputs": []
    },
    {
      "cell_type": "markdown",
      "source": [
        "#Reproducability (Trying to take random out of random)"
      ],
      "metadata": {
        "id": "DOKvVpszMU8q"
      }
    },
    {
      "cell_type": "markdown",
      "source": [
        "To reduce the randomness in neural networks and pytorch comes to the concept of a **random seed**"
      ],
      "metadata": {
        "id": "c8FI1B51NIHz"
      }
    },
    {
      "cell_type": "code",
      "source": [
        "x = torch.rand(3,2)\n",
        "y = torch.rand(3,2)\n",
        "x , y\n",
        "print(x == y)"
      ],
      "metadata": {
        "colab": {
          "base_uri": "https://localhost:8080/"
        },
        "id": "Gpgz-EfXMXAQ",
        "outputId": "6b1da2ae-870e-4f8e-c22c-b8f1a681d101"
      },
      "execution_count": 104,
      "outputs": [
        {
          "output_type": "stream",
          "name": "stdout",
          "text": [
            "tensor([[False, False],\n",
            "        [False, False],\n",
            "        [False, False]])\n"
          ]
        }
      ]
    },
    {
      "cell_type": "code",
      "source": [
        "x"
      ],
      "metadata": {
        "colab": {
          "base_uri": "https://localhost:8080/"
        },
        "id": "Ol8ao07jOlJj",
        "outputId": "fe5d1071-b818-412f-f293-89ed8445f35a"
      },
      "execution_count": 105,
      "outputs": [
        {
          "output_type": "execute_result",
          "data": {
            "text/plain": [
              "tensor([[0.2521, 0.3239],\n",
              "        [0.9107, 0.0895],\n",
              "        [0.7183, 0.7218]])"
            ]
          },
          "metadata": {},
          "execution_count": 105
        }
      ]
    },
    {
      "cell_type": "code",
      "source": [
        "y"
      ],
      "metadata": {
        "colab": {
          "base_uri": "https://localhost:8080/"
        },
        "id": "InXgEmj7OxtW",
        "outputId": "233d4990-1114-4bd8-9489-caa67f25ea39"
      },
      "execution_count": 106,
      "outputs": [
        {
          "output_type": "execute_result",
          "data": {
            "text/plain": [
              "tensor([[0.9131, 0.7978],\n",
              "        [0.6044, 0.4620],\n",
              "        [0.9667, 0.3511]])"
            ]
          },
          "metadata": {},
          "execution_count": 106
        }
      ]
    },
    {
      "cell_type": "code",
      "source": [
        "#We could know that x and y are not equal as random value will change everytime"
      ],
      "metadata": {
        "id": "npQpm8_kO9NC"
      },
      "execution_count": 107,
      "outputs": []
    },
    {
      "cell_type": "markdown",
      "source": [],
      "metadata": {
        "id": "7SHp2BMZP_08"
      }
    },
    {
      "cell_type": "code",
      "source": [
        "#We can try to use randomseed"
      ],
      "metadata": {
        "id": "dss4c3hFP9-3"
      },
      "execution_count": 108,
      "outputs": []
    },
    {
      "cell_type": "code",
      "source": [
        "random_seed = 42\n",
        "torch.manual_seed(random_seed)\n",
        "x = torch.rand(2,2)\n",
        "\n",
        "torch.manual_seed(random_seed)\n",
        "y = torch.rand(2,2)\n",
        "\n",
        "print(x == y)"
      ],
      "metadata": {
        "colab": {
          "base_uri": "https://localhost:8080/"
        },
        "id": "knjQOySCQGiG",
        "outputId": "63b7e571-7ad2-41f4-d15a-4a3803c6805d"
      },
      "execution_count": 109,
      "outputs": [
        {
          "output_type": "stream",
          "name": "stdout",
          "text": [
            "tensor([[True, True],\n",
            "        [True, True]])\n"
          ]
        }
      ]
    },
    {
      "cell_type": "markdown",
      "source": [
        "We could understand that Random_seed is much usable for the Reproducability"
      ],
      "metadata": {
        "id": "ZPrmjCC6QjTT"
      }
    },
    {
      "cell_type": "code",
      "source": [],
      "metadata": {
        "id": "aLjhrDtiQh63"
      },
      "execution_count": 109,
      "outputs": []
    },
    {
      "cell_type": "markdown",
      "source": [
        "#Running Tensors and PyTorch objects on the GPU's (and making faster computations)"
      ],
      "metadata": {
        "id": "UIUHv0uZneXq"
      }
    },
    {
      "cell_type": "code",
      "source": [
        "!nvidia-smi"
      ],
      "metadata": {
        "colab": {
          "base_uri": "https://localhost:8080/"
        },
        "id": "Ctn-QJoInoa8",
        "outputId": "e45d343c-6a1f-4e92-d843-961133b91add"
      },
      "execution_count": 110,
      "outputs": [
        {
          "output_type": "stream",
          "name": "stdout",
          "text": [
            "/bin/bash: line 1: nvidia-smi: command not found\n"
          ]
        }
      ]
    },
    {
      "cell_type": "code",
      "source": [
        "#Check for GPU access with Pytorch\n",
        "import torch\n",
        "torch.cuda.is_available()"
      ],
      "metadata": {
        "colab": {
          "base_uri": "https://localhost:8080/"
        },
        "id": "RHrXKsYipH4e",
        "outputId": "38648bf9-c83e-40e1-d329-6cca7b01fa49"
      },
      "execution_count": 111,
      "outputs": [
        {
          "output_type": "execute_result",
          "data": {
            "text/plain": [
              "False"
            ]
          },
          "metadata": {},
          "execution_count": 111
        }
      ]
    },
    {
      "cell_type": "code",
      "source": [
        "device = \"cuda\"  if torch.cuda.is_available() else \"cpu\"\n",
        "device"
      ],
      "metadata": {
        "colab": {
          "base_uri": "https://localhost:8080/",
          "height": 35
        },
        "id": "GCQuUAw4rgnI",
        "outputId": "ad6baf2f-35c2-40a3-b998-48eb153c2ca6"
      },
      "execution_count": 112,
      "outputs": [
        {
          "output_type": "execute_result",
          "data": {
            "text/plain": [
              "'cpu'"
            ],
            "application/vnd.google.colaboratory.intrinsic+json": {
              "type": "string"
            }
          },
          "metadata": {},
          "execution_count": 112
        }
      ]
    },
    {
      "cell_type": "code",
      "source": [],
      "metadata": {
        "id": "BVZTYXEZsAkh"
      },
      "execution_count": 112,
      "outputs": []
    },
    {
      "cell_type": "code",
      "source": [],
      "metadata": {
        "id": "9ls4T1djvVW0"
      },
      "execution_count": 112,
      "outputs": []
    }
  ]
}