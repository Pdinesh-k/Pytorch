{
  "nbformat": 4,
  "nbformat_minor": 0,
  "metadata": {
    "colab": {
      "provenance": []
    },
    "kernelspec": {
      "name": "python3",
      "display_name": "Python 3"
    },
    "language_info": {
      "name": "python"
    }
  },
  "cells": [
    {
      "cell_type": "markdown",
      "source": [
        "Pytorch workflow :\n",
        "\n",
        "1) Prepare and Load the Data\n",
        "\n",
        "2) Fitting the model to data\n",
        "\n",
        "3) Making predictions and evaluating the model\n",
        "\n",
        "4) Saving and loading a model\n",
        "\n",
        "5) Putting it all together"
      ],
      "metadata": {
        "id": "lc7nx6EScgis"
      }
    },
    {
      "cell_type": "code",
      "source": [
        "import torch\n",
        "from torch import nn"
      ],
      "metadata": {
        "id": "Skuw7iCBiJvo"
      },
      "execution_count": 1,
      "outputs": []
    },
    {
      "cell_type": "code",
      "source": [
        "import matplotlib.pyplot as plt\n",
        "import seaborn as sns\n",
        "import plotly.express as px"
      ],
      "metadata": {
        "id": "5QNnA-jGYHfM"
      },
      "execution_count": 2,
      "outputs": []
    },
    {
      "cell_type": "code",
      "source": [
        "#workflow of LinearRegression\n",
        "\n",
        "weight = 1\n",
        "bias = 0.0\n",
        "\n",
        "start = 2\n",
        "end = 101\n",
        "range = 2\n",
        "X = torch.arange(start,end,range).unsqueeze(dim=1)\n",
        "y = weight*X+bias"
      ],
      "metadata": {
        "id": "gK2ad4gUetHA"
      },
      "execution_count": 13,
      "outputs": []
    },
    {
      "cell_type": "code",
      "source": [
        "X"
      ],
      "metadata": {
        "id": "JKqmlkAviH4d",
        "colab": {
          "base_uri": "https://localhost:8080/"
        },
        "outputId": "23ea43a1-8ad1-4021-8b9c-2871e42b9ae4"
      },
      "execution_count": 14,
      "outputs": [
        {
          "output_type": "execute_result",
          "data": {
            "text/plain": [
              "tensor([[  2],\n",
              "        [  4],\n",
              "        [  6],\n",
              "        [  8],\n",
              "        [ 10],\n",
              "        [ 12],\n",
              "        [ 14],\n",
              "        [ 16],\n",
              "        [ 18],\n",
              "        [ 20],\n",
              "        [ 22],\n",
              "        [ 24],\n",
              "        [ 26],\n",
              "        [ 28],\n",
              "        [ 30],\n",
              "        [ 32],\n",
              "        [ 34],\n",
              "        [ 36],\n",
              "        [ 38],\n",
              "        [ 40],\n",
              "        [ 42],\n",
              "        [ 44],\n",
              "        [ 46],\n",
              "        [ 48],\n",
              "        [ 50],\n",
              "        [ 52],\n",
              "        [ 54],\n",
              "        [ 56],\n",
              "        [ 58],\n",
              "        [ 60],\n",
              "        [ 62],\n",
              "        [ 64],\n",
              "        [ 66],\n",
              "        [ 68],\n",
              "        [ 70],\n",
              "        [ 72],\n",
              "        [ 74],\n",
              "        [ 76],\n",
              "        [ 78],\n",
              "        [ 80],\n",
              "        [ 82],\n",
              "        [ 84],\n",
              "        [ 86],\n",
              "        [ 88],\n",
              "        [ 90],\n",
              "        [ 92],\n",
              "        [ 94],\n",
              "        [ 96],\n",
              "        [ 98],\n",
              "        [100]])"
            ]
          },
          "metadata": {},
          "execution_count": 14
        }
      ]
    },
    {
      "cell_type": "code",
      "source": [
        "y"
      ],
      "metadata": {
        "colab": {
          "base_uri": "https://localhost:8080/"
        },
        "id": "muSawC1iv8d5",
        "outputId": "b6ce503f-4d29-4334-f48f-cb90b983805b"
      },
      "execution_count": 15,
      "outputs": [
        {
          "output_type": "execute_result",
          "data": {
            "text/plain": [
              "tensor([[  2.],\n",
              "        [  4.],\n",
              "        [  6.],\n",
              "        [  8.],\n",
              "        [ 10.],\n",
              "        [ 12.],\n",
              "        [ 14.],\n",
              "        [ 16.],\n",
              "        [ 18.],\n",
              "        [ 20.],\n",
              "        [ 22.],\n",
              "        [ 24.],\n",
              "        [ 26.],\n",
              "        [ 28.],\n",
              "        [ 30.],\n",
              "        [ 32.],\n",
              "        [ 34.],\n",
              "        [ 36.],\n",
              "        [ 38.],\n",
              "        [ 40.],\n",
              "        [ 42.],\n",
              "        [ 44.],\n",
              "        [ 46.],\n",
              "        [ 48.],\n",
              "        [ 50.],\n",
              "        [ 52.],\n",
              "        [ 54.],\n",
              "        [ 56.],\n",
              "        [ 58.],\n",
              "        [ 60.],\n",
              "        [ 62.],\n",
              "        [ 64.],\n",
              "        [ 66.],\n",
              "        [ 68.],\n",
              "        [ 70.],\n",
              "        [ 72.],\n",
              "        [ 74.],\n",
              "        [ 76.],\n",
              "        [ 78.],\n",
              "        [ 80.],\n",
              "        [ 82.],\n",
              "        [ 84.],\n",
              "        [ 86.],\n",
              "        [ 88.],\n",
              "        [ 90.],\n",
              "        [ 92.],\n",
              "        [ 94.],\n",
              "        [ 96.],\n",
              "        [ 98.],\n",
              "        [100.]])"
            ]
          },
          "metadata": {},
          "execution_count": 15
        }
      ]
    },
    {
      "cell_type": "code",
      "source": [
        "torch.is_tensor(X)"
      ],
      "metadata": {
        "colab": {
          "base_uri": "https://localhost:8080/"
        },
        "id": "faxDSRcMwCV9",
        "outputId": "8dbf275f-922b-4164-d4f2-689e5d782920"
      },
      "execution_count": 16,
      "outputs": [
        {
          "output_type": "execute_result",
          "data": {
            "text/plain": [
              "True"
            ]
          },
          "metadata": {},
          "execution_count": 16
        }
      ]
    },
    {
      "cell_type": "code",
      "source": [
        "len(X)"
      ],
      "metadata": {
        "id": "Qfswo7f7yAWX",
        "colab": {
          "base_uri": "https://localhost:8080/"
        },
        "outputId": "f99aab4a-4cc9-4b9a-efeb-5d0deddcd2f1"
      },
      "execution_count": 17,
      "outputs": [
        {
          "output_type": "execute_result",
          "data": {
            "text/plain": [
              "50"
            ]
          },
          "metadata": {},
          "execution_count": 17
        }
      ]
    },
    {
      "cell_type": "code",
      "source": [
        "len(y)"
      ],
      "metadata": {
        "colab": {
          "base_uri": "https://localhost:8080/"
        },
        "id": "_IvHgD_SVIbG",
        "outputId": "7cd73f4e-96ca-4a39-f941-d7448f9e88f7"
      },
      "execution_count": 18,
      "outputs": [
        {
          "output_type": "execute_result",
          "data": {
            "text/plain": [
              "50"
            ]
          },
          "metadata": {},
          "execution_count": 18
        }
      ]
    },
    {
      "cell_type": "markdown",
      "source": [
        "#Splitting the Data into training , testing\n",
        "\n",
        "It is always advisory to divide the dataset into 80% for training , 20% for testing"
      ],
      "metadata": {
        "id": "JYYCZd4CUhTH"
      }
    },
    {
      "cell_type": "code",
      "source": [
        "#Create a train?test split\n",
        "train_split = int(0.80 * len(X))\n",
        "x_train , y_train = X[:train_split] , y[:train_split]\n",
        "x_test , y_test = X[train_split:] , y[train_split:]"
      ],
      "metadata": {
        "id": "VIM63gcIUlKp"
      },
      "execution_count": 19,
      "outputs": []
    },
    {
      "cell_type": "code",
      "source": [
        "print(f\"x_train : {len(x_train)} , x_test : {len(x_test)} , y_train : {len(y_train)} , y_test : {len(y_test)}\")"
      ],
      "metadata": {
        "colab": {
          "base_uri": "https://localhost:8080/"
        },
        "id": "vVKwEeiPW_Gc",
        "outputId": "7d5b6199-5444-4d65-e26a-c149609d73fe"
      },
      "execution_count": 20,
      "outputs": [
        {
          "output_type": "stream",
          "name": "stdout",
          "text": [
            "x_train : 40 , x_test : 10 , y_train : 40 , y_test : 10\n"
          ]
        }
      ]
    },
    {
      "cell_type": "code",
      "source": [
        "#Create a Linear Regression model\n",
        "#Almost everything inherits from nn.Module\n",
        "class LinearRegressionModel(nn.Module):"
      ],
      "metadata": {
        "id": "UHJRA0X_ePfy"
      },
      "execution_count": 12,
      "outputs": []
    },
    {
      "cell_type": "code",
      "source": [],
      "metadata": {
        "id": "Ors6T0iuQ391"
      },
      "execution_count": 22,
      "outputs": []
    },
    {
      "cell_type": "code",
      "source": [],
      "metadata": {
        "id": "pc3NZj6eWfeM"
      },
      "execution_count": null,
      "outputs": []
    }
  ]
}